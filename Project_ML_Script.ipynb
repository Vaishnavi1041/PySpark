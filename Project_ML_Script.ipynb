{
 "cells": [
  {
   "cell_type": "code",
   "execution_count": 1,
   "id": "63d155ed",
   "metadata": {},
   "outputs": [
    {
     "name": "stdout",
     "output_type": "stream",
     "text": [
      "Starting Spark application\n"
     ]
    },
    {
     "data": {
      "text/html": [
       "<table>\n",
       "<tr><th>ID</th><th>YARN Application ID</th><th>Kind</th><th>State</th><th>Spark UI</th><th>Driver log</th><th>User</th><th>Current session?</th></tr><tr><td>2</td><td>application_1724084376435_0003</td><td>pyspark</td><td>idle</td><td><a target=\"_blank\" href=\"http://ip-172-31-76-189.ec2.internal:20888/proxy/application_1724084376435_0003/\">Link</a></td><td><a target=\"_blank\" href=\"http://ip-172-31-76-184.ec2.internal:8042/node/containerlogs/container_1724084376435_0003_01_000001/livy\">Link</a></td><td>None</td><td>✔</td></tr></table>"
      ],
      "text/plain": [
       "<IPython.core.display.HTML object>"
      ]
     },
     "metadata": {},
     "output_type": "display_data"
    },
    {
     "data": {
      "application/vnd.jupyter.widget-view+json": {
       "model_id": "",
       "version_major": 2,
       "version_minor": 0
      },
      "text/plain": [
       "FloatProgress(value=0.0, bar_style='info', description='Progress:', layout=Layout(height='25px', width='50%'),…"
      ]
     },
     "metadata": {},
     "output_type": "display_data"
    },
    {
     "name": "stdout",
     "output_type": "stream",
     "text": [
      "SparkSession available as 'spark'.\n"
     ]
    },
    {
     "data": {
      "application/vnd.jupyter.widget-view+json": {
       "model_id": "",
       "version_major": 2,
       "version_minor": 0
      },
      "text/plain": [
       "FloatProgress(value=0.0, bar_style='info', description='Progress:', layout=Layout(height='25px', width='50%'),…"
      ]
     },
     "metadata": {},
     "output_type": "display_data"
    }
   ],
   "source": [
    "from pyspark.sql import SparkSession\n",
    "\n",
    "# Initialize a Spark session\n",
    "spark = SparkSession.builder \\\n",
    "    .appName(\"Pandas with PySpark\") \\\n",
    "    .getOrCreate()\n",
    "\n",
    "df = spark.read.csv(\"s3://project.small.data.aml/small_data/HI-Medium_Trans.csv\", header=True, inferSchema=True)\n",
    "\n",
    "df1 = spark.read.csv(\"s3://project.small.data.aml/small_data/LI-Medium_Trans.csv\", header=True, inferSchema=True)\n",
    "\n"
   ]
  },
  {
   "cell_type": "code",
   "execution_count": 2,
   "id": "77758eac",
   "metadata": {},
   "outputs": [
    {
     "data": {
      "application/vnd.jupyter.widget-view+json": {
       "model_id": "",
       "version_major": 2,
       "version_minor": 0
      },
      "text/plain": [
       "FloatProgress(value=0.0, bar_style='info', description='Progress:', layout=Layout(height='25px', width='50%'),…"
      ]
     },
     "metadata": {},
     "output_type": "display_data"
    },
    {
     "name": "stdout",
     "output_type": "stream",
     "text": [
      "12002394"
     ]
    }
   ],
   "source": [
    "from pyspark.sql import SparkSession\n",
    "\n",
    "# Initialize a Spark session\n",
    "spark = SparkSession.builder \\\n",
    "    .appName(\"Pandas with PySpark\") \\\n",
    "    .getOrCreate()\n",
    "\n",
    "\n",
    "\n",
    "df = spark.read.csv(\"s3://project.small.data.aml/small_data/LI-Small_Trans.csv\", header=True, inferSchema=True)\n",
    "\n",
    "df1 = spark.read.csv(\"s3://project.small.data.aml/small_data/HI-Small_Trans.csv\", header=True, inferSchema=True)\n",
    "\n",
    "\n",
    "uniondf = df.union(df1)\n",
    "\n",
    "uniondf.count()\n",
    "\n"
   ]
  },
  {
   "cell_type": "code",
   "execution_count": 3,
   "id": "b455e1ef",
   "metadata": {},
   "outputs": [
    {
     "data": {
      "application/vnd.jupyter.widget-view+json": {
       "model_id": "",
       "version_major": 2,
       "version_minor": 0
      },
      "text/plain": [
       "FloatProgress(value=0.0, bar_style='info', description='Progress:', layout=Layout(height='25px', width='50%'),…"
      ]
     },
     "metadata": {},
     "output_type": "display_data"
    }
   ],
   "source": [
    "uniondf.write.mode(\"overwrite\").parquet(\"s3://newmlmain/newml321/\")"
   ]
  },
  {
   "cell_type": "code",
   "execution_count": 4,
   "id": "479c8ed0",
   "metadata": {},
   "outputs": [
    {
     "data": {
      "application/vnd.jupyter.widget-view+json": {
       "model_id": "",
       "version_major": 2,
       "version_minor": 0
      },
      "text/plain": [
       "FloatProgress(value=0.0, bar_style='info', description='Progress:', layout=Layout(height='25px', width='50%'),…"
      ]
     },
     "metadata": {},
     "output_type": "display_data"
    }
   ],
   "source": [
    "uniondf=uniondf.coalesce(1)"
   ]
  },
  {
   "cell_type": "code",
   "execution_count": 5,
   "id": "90d5f7a7",
   "metadata": {},
   "outputs": [
    {
     "data": {
      "application/vnd.jupyter.widget-view+json": {
       "model_id": "",
       "version_major": 2,
       "version_minor": 0
      },
      "text/plain": [
       "FloatProgress(value=0.0, bar_style='info', description='Progress:', layout=Layout(height='25px', width='50%'),…"
      ]
     },
     "metadata": {},
     "output_type": "display_data"
    },
    {
     "name": "stdout",
     "output_type": "stream",
     "text": [
      "+----------------+---------+---------+-------+---------+---------------+------------------+--------------+----------------+--------------+-------------+\n",
      "|       Timestamp|From Bank| Account2|To Bank| Account4|Amount Received|Receiving Currency|   Amount Paid|Payment Currency|Payment Format|Is Laundering|\n",
      "+----------------+---------+---------+-------+---------+---------------+------------------+--------------+----------------+--------------+-------------+\n",
      "|2022/09/01 00:08|       11|8000ECA90|     11|8000ECA90|      3195403.0|         US Dollar|     3195403.0|       US Dollar|  Reinvestment|            0|\n",
      "|2022/09/01 00:21|     3402|80021DAD0|   3402|80021DAD0|        1858.96|         US Dollar|       1858.96|       US Dollar|  Reinvestment|            0|\n",
      "|2022/09/01 00:00|       11|8000ECA90|   1120|8006AA910|       592571.0|         US Dollar|      592571.0|       US Dollar|        Cheque|            0|\n",
      "|2022/09/01 00:16|     3814|8006AD080|   3814|8006AD080|          12.32|         US Dollar|         12.32|       US Dollar|  Reinvestment|            0|\n",
      "|2022/09/01 00:00|       20|8006AD530|     20|8006AD530|        2941.56|         US Dollar|       2941.56|       US Dollar|  Reinvestment|            0|\n",
      "|2022/09/01 00:24|       12|8006ADD30|     12|8006ADD30|        6473.62|         US Dollar|       6473.62|       US Dollar|  Reinvestment|            0|\n",
      "|2022/09/01 00:17|       11|800059120|   1217|8006AD4E0|        60562.0|         US Dollar|       60562.0|       US Dollar|           ACH|            0|\n",
      "|2022/09/01 00:07|       11|8000ECA90|     11|8000ECA90|          22.97|         US Dollar|         22.97|       US Dollar|  Reinvestment|            0|\n",
      "|2022/09/01 00:28|     1120|8006AA910| 243166|81470DCF0|          43.53|         US Dollar|         43.53|       US Dollar|   Credit Card|            0|\n",
      "|2022/09/01 00:22|     1217|8006AD4E0|   1217|8006AD4E0|           5.04|         US Dollar|          5.04|       US Dollar|  Reinvestment|            0|\n",
      "|2022/09/01 00:28|      224|8006AD580|  23319|80567ED00|           9.28|         US Dollar|          9.28|       US Dollar|   Credit Card|            0|\n",
      "|2022/09/01 00:28|      394|8006AF210| 214342|805586EA0|          93.85|         US Dollar|         93.85|       US Dollar|   Credit Card|            0|\n",
      "|2022/09/01 00:29|     3618|800929EA0|   1277|800929EF0|           0.05|         US Dollar|          0.05|       US Dollar|           ACH|            0|\n",
      "|2022/09/01 00:08|      394|80093BDB0|  21414|80092A6C0|        64335.0|         US Dollar|       64335.0|       US Dollar|           ACH|            0|\n",
      "|2022/09/01 00:04|     1291|80092A730|   1291|80092A730|        3975.24|         US Dollar|       3975.24|       US Dollar|  Reinvestment|            0|\n",
      "|2022/09/01 00:20|     1231|800B69730|  11265|80092AC50|         1986.0|         US Dollar|        1986.0|       US Dollar|        Cheque|            0|\n",
      "|2022/09/01 00:14|      394|80093BDB0|    394|80093BDB0|       14903.78|         US Dollar|      14903.78|       US Dollar|  Reinvestment|            0|\n",
      "|2022/09/01 00:23|     1231|800B69730|  21414|80093CED0|          217.0|         US Dollar|         217.0|       US Dollar|           ACH|            0|\n",
      "|2022/09/01 00:05|       20|800952940|     20|800952940|       21126.92|         US Dollar|      21126.92|       US Dollar|  Reinvestment|            0|\n",
      "|2022/09/01 00:03|    31811|800A8FCD0|  31811|800A8FCD0|        4455.63|         US Dollar|       4455.63|       US Dollar|  Reinvestment|            0|\n",
      "|2022/09/01 00:28|     1638|800A8FE50|   1638|800A8FE50|        4755.32|         US Dollar|       4755.32|       US Dollar|  Reinvestment|            0|\n",
      "|2022/09/01 00:05|    31813|800A91030|  31813|800A91030|         295.65|         US Dollar|        295.65|       US Dollar|  Reinvestment|            0|\n",
      "|2022/09/01 00:16|    31993|800B63C60|  31993|800B63C60|        3065.41|         US Dollar|       3065.41|       US Dollar|  Reinvestment|            0|\n",
      "|2022/09/01 00:15|     1277|80092A7D0|  11968|800B69E00|          473.0|         US Dollar|         473.0|       US Dollar|        Cheque|            0|\n",
      "|2022/09/01 00:15|     1638|800A8FE50|     20|800B99960|        2863.22|         US Dollar|       2863.22|       US Dollar|        Cheque|            0|\n",
      "|2022/09/01 00:22|     1277|800B999B0|   1277|800B999B0|         559.19|         US Dollar|        559.19|       US Dollar|  Reinvestment|            0|\n",
      "|2022/09/01 00:22|    21414|80092A6C0| 122459|80AE66170|          52.12|         US Dollar|         52.12|       US Dollar|   Credit Card|            0|\n",
      "|2022/09/01 00:06|     1217|80092A780|     11|80132E8A0|          21.96|         US Dollar|         21.96|       US Dollar|   Credit Card|            0|\n",
      "|2022/09/01 00:03|    11265|80092AC50|  23041|80690A920|          53.17|         US Dollar|         53.17|       US Dollar|   Credit Card|            0|\n",
      "|2022/09/01 00:28|      394|80092B090|   8801|80690A9C0|            6.6|         US Dollar|           6.6|       US Dollar|   Credit Card|            0|\n",
      "|2022/09/01 00:03|     1639|80092C5F0|   3653|810135120|          38.45|         US Dollar|         38.45|       US Dollar|   Credit Card|            0|\n",
      "|2022/09/01 00:24|     1277|80093C800| 219975|8034B3870|          34.67|         US Dollar|         34.67|       US Dollar|   Credit Card|            0|\n",
      "|2022/09/01 00:12|     1110|80093CC60| 122459|80AE66170|          11.37|         US Dollar|         11.37|       US Dollar|   Credit Card|            0|\n",
      "|2022/09/01 00:25|       12|80093CD00|  27234|80AE71680|           6.84|         US Dollar|          6.84|       US Dollar|   Credit Card|            0|\n",
      "|2022/09/01 00:18|    21414|80093CED0|  29264|81013D0A0|           0.78|         US Dollar|          0.78|       US Dollar|   Credit Card|            0|\n",
      "|2022/09/01 00:14|    11222|80093DA30| 117916|81013A5C0|           9.53|         US Dollar|          9.53|       US Dollar|   Credit Card|            0|\n",
      "|2022/09/01 00:10|    11222|800B63A50|     11|80132E8A0|          41.01|         US Dollar|         41.01|       US Dollar|   Credit Card|            0|\n",
      "|2022/09/01 00:12|       20|800B63DE0| 219975|8034B3870|           1.82|         US Dollar|          1.82|       US Dollar|   Credit Card|            0|\n",
      "|2022/09/01 00:16|     1422|800B69DB0| 110856|80DFEBEE0|          27.07|         US Dollar|         27.07|       US Dollar|   Credit Card|            0|\n",
      "|2022/09/01 00:24|    11968|800B69E00| 110856|80DFEBEE0|         282.37|         US Dollar|        282.37|       US Dollar|   Credit Card|            0|\n",
      "|2022/09/01 00:21|       20|800B6A1B0| 122459|80AE66170|          41.85|         US Dollar|         41.85|       US Dollar|   Credit Card|            0|\n",
      "|2022/09/01 00:18|     1889|8009EB590|   2545|81013ED10|           19.2|         US Dollar|          19.2|       US Dollar|   Credit Card|            0|\n",
      "|2022/09/01 00:01|       20|800B99960|   8801|80690A9C0|         147.63|         US Dollar|        147.63|       US Dollar|   Credit Card|            0|\n",
      "|2022/09/01 00:06|     1277|800B999B0|   1277|800B999B0|          10.48|         US Dollar|         10.48|       US Dollar|  Reinvestment|            0|\n",
      "|2022/09/01 00:29|     1291|800B9BC30|   1291|800B9BC30|       59713.16|         US Dollar|      59713.16|       US Dollar|  Reinvestment|            0|\n",
      "|2022/09/01 00:22|       12|800BA4BE0|   1422|800B9BC80|       111111.0|         US Dollar|      111111.0|       US Dollar|        Cheque|            0|\n",
      "|2022/09/01 00:17|     1277|800BA09D0|   1277|800BA09D0|        5259.14|         US Dollar|       5259.14|       US Dollar|  Reinvestment|            0|\n",
      "|2022/09/01 00:23|    32042|800BA0F40|   1439|800BBF6C0|           0.01|         US Dollar|          0.01|       US Dollar|        Cheque|            0|\n",
      "|2022/09/01 00:25|     1807|800BBF0C0|     11|800BA4C30|        19302.0|         US Dollar|       19302.0|       US Dollar|        Cheque|            0|\n",
      "|2022/09/01 00:28|     1231|800BA4F40|   1231|800BA4F40|        1190.82|         US Dollar|       1190.82|       US Dollar|  Reinvestment|            0|\n",
      "|2022/09/01 00:26|    32050|800BA59F0|  32050|800BA59F0|         609.17|         US Dollar|        609.17|       US Dollar|  Reinvestment|            0|\n",
      "|2022/09/01 00:19|     2860|800BA6B40|  11222|800BBE6F0|        3400.37|         US Dollar|       3400.37|       US Dollar|           ACH|            0|\n",
      "|2022/09/01 00:21|     1807|800BBF0C0|   1807|800BBF0C0|        7055.95|         US Dollar|       7055.95|       US Dollar|  Reinvestment|            0|\n",
      "|2022/09/01 00:04|     1439|800BBF4A0|   1439|800BBF4A0|        6683.36|         US Dollar|       6683.36|       US Dollar|  Reinvestment|            0|\n",
      "|2022/09/01 00:02|     1439|800BBF6C0|    224|800BC0ED0|          400.0|         US Dollar|         400.0|       US Dollar|           ACH|            0|\n",
      "|2022/09/01 00:06|     1291|800B9BC30|   1291|800B9BC30|           3.46|         US Dollar|          3.46|       US Dollar|  Reinvestment|            0|\n",
      "|2022/09/01 00:29|     1422|800B9BC80| 261455|817C3BC30|          28.47|         US Dollar|         28.47|       US Dollar|   Credit Card|            0|\n",
      "|2022/09/01 00:04|     1394|800BA0980| 219368|81B5F74D0|           0.58|         US Dollar|          0.58|       US Dollar|   Credit Card|            0|\n",
      "|2022/09/01 00:23|       12|800BA4BE0|     12|800BA4BE0|           14.7|         US Dollar|          14.7|       US Dollar|  Reinvestment|            0|\n",
      "|2022/09/01 00:07|       11|800BA4C30| 231039|80DE8B440|          152.0|         US Dollar|         152.0|       US Dollar|   Credit Card|            0|\n",
      "|2022/09/01 00:19|    21566|800BA4CD0|  11047|801D8C110|         130.39|         US Dollar|        130.39|       US Dollar|   Credit Card|            0|\n",
      "|2022/09/01 00:01|    12063|800BA4D20|  12063|800BA4D20|          15.27|         US Dollar|         15.27|       US Dollar|  Reinvestment|            0|\n",
      "|2022/09/01 00:19|      394|800BA4EF0|  23747|810190500|          43.81|         US Dollar|         43.81|       US Dollar|   Credit Card|            0|\n",
      "|2022/09/01 00:06|     1231|800BBE260| 261455|817C3BC30|          189.6|         US Dollar|         189.6|       US Dollar|   Credit Card|            0|\n",
      "|2022/09/01 00:10|    11222|800BBE6F0| 261455|817C3BC30|          48.58|         US Dollar|         48.58|       US Dollar|   Credit Card|            0|\n",
      "|2022/09/01 00:04|     1439|800BBF4A0|   1439|800BBF4A0|           8.13|         US Dollar|          8.13|       US Dollar|  Reinvestment|            0|\n",
      "|2022/09/01 00:11|     1439|800BBF6C0|   1439|800BBF6C0|          11.98|         US Dollar|         11.98|       US Dollar|  Reinvestment|            0|\n",
      "|2022/09/01 00:02|     1422|800BC0E30| 220729|809E507C0|         143.65|         US Dollar|        143.65|       US Dollar|   Credit Card|            0|\n",
      "|2022/09/01 00:18|      224|800BC0ED0| 259461|81A99A780|           9.22|         US Dollar|          9.22|       US Dollar|   Credit Card|            0|\n",
      "|2022/09/01 00:00|     1120|800BC4DC0|  37146|80FE04360|           0.36|         US Dollar|          0.36|       US Dollar|   Credit Card|            0|\n",
      "|2022/09/01 00:11|    11701|800BC6AF0|  11701|800BC6AF0|     1107318.59|         US Dollar|    1107318.59|       US Dollar|  Reinvestment|            0|\n",
      "|2022/09/01 00:28|      349|800BC6CC0|    349|800BC6CC0|        4940.92|         US Dollar|       4940.92|       US Dollar|  Reinvestment|            0|\n",
      "|2022/09/01 00:29|    32081|800BC6D10|   1439|800BDF9C0|          41.11|         US Dollar|         41.11|       US Dollar|          Wire|            0|\n",
      "|2022/09/01 00:05|    11265|800BD0DD0|    349|800BC6E90|        2672.39|         US Dollar|       2672.39|       US Dollar|           ACH|            0|\n",
      "|2022/09/01 00:14|    11495|800BC8570|  11495|800BC8570|        9944.83|         US Dollar|       9944.83|       US Dollar|  Reinvestment|            0|\n",
      "|2022/09/01 00:21|     1439|800BC93A0|   1439|800BC93A0|        6924.15|         US Dollar|       6924.15|       US Dollar|  Reinvestment|            0|\n",
      "|2022/09/01 00:26|     1277|800BC93F0|   1277|800BC93F0|        4400.96|         US Dollar|       4400.96|       US Dollar|  Reinvestment|            0|\n",
      "|2022/09/01 00:21|    21393|800BDE650|   1120|800BCE950|      5329268.0|         US Dollar|     5329268.0|       US Dollar|        Cheque|            0|\n",
      "|2022/09/01 00:25|    32091|800BCEE60|   1277|800BC93F0|        1674.05|         US Dollar|       1674.05|       US Dollar|        Cheque|            0|\n",
      "|2022/09/01 00:22|    11265|800BD0DD0|  11701|800BDDA30|         6645.0|         US Dollar|        6645.0|       US Dollar|           ACH|            0|\n",
      "|2022/09/01 00:29|    21393|800BDE650|  21393|800BDE650|         3204.1|         US Dollar|        3204.1|       US Dollar|  Reinvestment|            0|\n",
      "|2022/09/01 00:23|      349|800BC6CC0|   1217|800BDE6A0|        46720.0|         US Dollar|       46720.0|       US Dollar|           ACH|            0|\n",
      "|2022/09/01 00:29|     1439|800BDF9C0|   1439|800BDF9C0|        4081.72|         US Dollar|       4081.72|       US Dollar|  Reinvestment|            0|\n",
      "|2022/09/01 00:18|       20|800057660|  11495|800BC8570|       154661.0|         US Dollar|      154661.0|       US Dollar|           ACH|            0|\n",
      "|2022/09/01 00:20|      349|800BC6E90|  21566|816C60240|          40.84|         US Dollar|         40.84|       US Dollar|   Credit Card|            0|\n",
      "|2022/09/01 00:02|    11047|800BC8430|  28625|80362AF40|          12.19|         US Dollar|         12.19|       US Dollar|   Credit Card|            0|\n",
      "|2022/09/01 00:05|     1277|800BC93F0|   1277|800BC93F0|           3.81|         US Dollar|          3.81|       US Dollar|  Reinvestment|            0|\n",
      "|2022/09/01 00:09|     1120|800BCE950|  21566|816C60240|          38.74|         US Dollar|         38.74|       US Dollar|   Credit Card|            0|\n",
      "|2022/09/01 00:02|     1439|800BCF200|   5855|80A88ABA0|           4.12|         US Dollar|          4.12|       US Dollar|   Credit Card|            0|\n",
      "|2022/09/01 00:22|    11265|800BD0DD0|  11265|800BD0DD0|          14.29|         US Dollar|         14.29|       US Dollar|  Reinvestment|            0|\n",
      "|2022/09/01 00:27|     1889|800BDCE50|     20|800BF1EB0|           6.58|         US Dollar|          6.58|       US Dollar|   Credit Card|            0|\n",
      "|2022/09/01 00:08|     1120|800BDD510|   1277|800AC3D20|          33.81|         US Dollar|         33.81|       US Dollar|   Credit Card|            0|\n",
      "|2022/09/01 00:15|    11222|800BDD9E0|  21566|816C60240|          73.59|         US Dollar|         73.59|       US Dollar|   Credit Card|            0|\n",
      "|2022/09/01 00:25|    11701|800BDDA30|  21566|816C60240|          31.86|         US Dollar|         31.86|       US Dollar|   Credit Card|            0|\n",
      "|2022/09/01 00:07|     1217|800BDE6A0|  28625|80362AF40|         134.62|         US Dollar|        134.62|       US Dollar|   Credit Card|            0|\n",
      "|2022/09/01 00:20|      224|800BE1240|    224|800BE1240|        2109.57|         US Dollar|       2109.57|       US Dollar|  Reinvestment|            0|\n",
      "|2022/09/01 00:28|    21939|800E3E3F0|   1422|800BE1960|          140.0|         US Dollar|         140.0|       US Dollar|        Cheque|            0|\n",
      "|2022/09/01 00:21|     1277|800BE94E0|   1277|800BE94E0|     2496595.06|         US Dollar|    2496595.06|       US Dollar|  Reinvestment|            0|\n",
      "|2022/09/01 00:11|    32161|800C2E440|  32161|800C2E440|        19359.0|         US Dollar|       19359.0|       US Dollar|  Reinvestment|            0|\n",
      "|2022/09/01 00:01|     1277|800C2E610|   1277|800C2E610|       14049.01|         US Dollar|      14049.01|       US Dollar|  Reinvestment|            0|\n",
      "|2022/09/01 00:26|     1277|800C2E610|   2175|800E38970|      5116714.0|         US Dollar|     5116714.0|       US Dollar|        Cheque|            0|\n",
      "|2022/09/01 00:03|    32529|800E39400|  32529|800E39400|         180.83|         US Dollar|        180.83|       US Dollar|  Reinvestment|            0|\n",
      "|2022/09/01 00:07|    11046|800F6BC70|   1439|800E3E300|      2249241.0|         US Dollar|     2249241.0|       US Dollar|        Cheque|            0|\n",
      "|2022/09/01 00:17|    21393|800E3E350|  21393|800E3E350|        2597.74|         US Dollar|       2597.74|       US Dollar|  Reinvestment|            0|\n",
      "|2022/09/01 00:29|    21939|800E3E3F0|  21939|800E3E3F0|       18519.56|         US Dollar|      18519.56|       US Dollar|  Reinvestment|            0|\n",
      "|2022/09/01 00:01|    11046|800F6BC70|  11046|800F6BC70|       79446.43|         US Dollar|      79446.43|       US Dollar|  Reinvestment|            0|\n",
      "|2022/09/01 00:19|     2860|800BE1150|  12204|800F6CC70|      883116.54|         US Dollar|     883116.54|       US Dollar|        Cheque|            0|\n",
      "|2022/09/01 00:24|      349|800C2D690|  12204|800F6DA10|        88836.0|         US Dollar|       88836.0|       US Dollar|        Cheque|            0|\n",
      "|2022/09/01 00:14|       12|80005C2E0|    349|800C2D690|         4731.0|         US Dollar|        4731.0|       US Dollar|           ACH|            0|\n",
      "|2022/09/01 00:16|     1277|800BE1290|   1277|800BE1290|            6.3|         US Dollar|           6.3|       US Dollar|  Reinvestment|            0|\n",
      "|2022/09/01 00:14|     1422|800BE1960| 117301|806DCACA0|          35.53|         US Dollar|         35.53|       US Dollar|   Credit Card|            0|\n",
      "|2022/09/01 00:02|     1277|800BE94E0|   1277|800BE94E0|           5.31|         US Dollar|          5.31|       US Dollar|  Reinvestment|            0|\n",
      "|2022/09/01 00:10|     1638|800C2D5F0| 217862|8129D2D20|          40.98|         US Dollar|         40.98|       US Dollar|   Credit Card|            0|\n",
      "|2022/09/01 00:04|      394|800C2D860|    394|800C2D860|          19.84|         US Dollar|         19.84|       US Dollar|  Reinvestment|            0|\n",
      "|2022/09/01 00:12|     1291|800E38920| 117301|806DCACA0|          66.34|         US Dollar|         66.34|       US Dollar|   Credit Card|            0|\n",
      "|2022/09/01 00:01|     2175|800E38970|  22124|8171A08F0|         194.63|         US Dollar|        194.63|       US Dollar|   Credit Card|            0|\n",
      "|2022/09/01 00:28|    11495|800E3CE80| 117301|806DCACA0|          50.47|         US Dollar|         50.47|       US Dollar|   Credit Card|            0|\n",
      "|2022/09/01 00:27|     1439|800E3E300|  22124|8171A08F0|          18.28|         US Dollar|         18.28|       US Dollar|   Credit Card|            0|\n",
      "|2022/09/01 00:05|    21939|800E3E3F0|  21939|800E3E3F0|           5.38|         US Dollar|          5.38|       US Dollar|  Reinvestment|            0|\n",
      "|2022/09/01 00:27|      224|800E3E8A0|    224|800E3E8A0|           5.04|         US Dollar|          5.04|       US Dollar|  Reinvestment|            0|\n",
      "|2022/09/01 00:08|    11046|800F6BC70|  11046|800F6BC70|           3.54|         US Dollar|          3.54|       US Dollar|  Reinvestment|            0|\n",
      "|2022/09/01 00:16|    12204|800F6CC70| 214000|808BC76C0|           4.92|         US Dollar|          4.92|       US Dollar|   Credit Card|            0|\n",
      "|2022/09/01 00:23|    22435|800F6D270| 217862|8129D2D20|         169.65|         US Dollar|        169.65|       US Dollar|   Credit Card|            0|\n",
      "|2022/09/01 00:06|    12204|800F6DA10|  43863|8171A0850|           2.13|         US Dollar|          2.13|       US Dollar|   Credit Card|            0|\n",
      "|2022/09/01 00:19|       12|800F70510|     12|800F70510|         717.98|         US Dollar|        717.98|       US Dollar|  Reinvestment|            0|\n",
      "|2022/09/01 00:15|    32719|800F706E0|  32719|800F706E0|         475.51|         US Dollar|        475.51|       US Dollar|  Reinvestment|            0|\n",
      "|2022/09/01 00:04|     1812|800F713D0|   1812|800F713D0|        20625.6|         US Dollar|       20625.6|       US Dollar|  Reinvestment|            0|\n",
      "|2022/09/01 00:16|     1889|800F716F0|   1889|800F716F0|       12034.68|         US Dollar|      12034.68|       US Dollar|  Reinvestment|            0|\n",
      "|2022/09/01 00:29|    12592|800F71C50|  12592|800F71C50|       12883.23|         US Dollar|      12883.23|       US Dollar|  Reinvestment|            0|\n",
      "|2022/09/01 00:04|     2545|800F71F70|   2545|800F71F70|        4723.06|         US Dollar|       4723.06|       US Dollar|  Reinvestment|            0|\n",
      "|2022/09/01 00:20|    13125|8014CA6D0|   1231|800F738A0|      1185530.0|         US Dollar|     1185530.0|       US Dollar|        Cheque|            0|\n",
      "|2022/09/01 00:29|     1638|800F738F0|   1638|800F738F0|       12653.34|         US Dollar|      12653.34|       US Dollar|  Reinvestment|            0|\n",
      "|2022/09/01 00:05|    22129|800F73940|  22129|800F73940|        5132.54|         US Dollar|       5132.54|       US Dollar|  Reinvestment|            0|\n",
      "|2022/09/01 00:00|      531|800F70C00|   1291|800F73990|        4341.99|         US Dollar|       4341.99|       US Dollar|        Cheque|            0|\n",
      "|2022/09/01 00:21|     2545|800F77470|  12592|800F74B80|         1616.0|         US Dollar|        1616.0|       US Dollar|           ACH|            0|\n",
      "|2022/09/01 00:22|    22481|800F75A50|  22481|800F75A50|       16129.71|         US Dollar|      16129.71|       US Dollar|  Reinvestment|            0|\n",
      "|2022/09/01 00:05|      531|800F6F960|    349|800F75F00|        1976.57|         US Dollar|       1976.57|       US Dollar|        Cheque|            0|\n",
      "|2022/09/01 00:27|     2545|800F77470|   2545|800F77470|       25838.52|         US Dollar|      25838.52|       US Dollar|  Reinvestment|            0|\n",
      "|2022/09/01 00:26|     1217|800F778B0|   1217|800F778B0|        1772.36|         US Dollar|       1772.36|       US Dollar|  Reinvestment|            0|\n",
      "|2022/09/01 00:21|     1812|800F713D0|  13354|8013E3D20|          483.0|         US Dollar|         483.0|       US Dollar|           ACH|            0|\n",
      "|2022/09/01 00:18|    31587|8014C4D90|  31587|8014C4D90|          36.56|         US Dollar|         36.56|       US Dollar|  Reinvestment|            0|\n",
      "|2022/09/01 00:05|     1422|8014CA630|    394|8014C5960|         3479.0|         US Dollar|        3479.0|       US Dollar|           ACH|            0|\n",
      "|2022/09/01 00:28|     1889|800F716F0|   3389|8014C6120|        4072.75|         US Dollar|       4072.75|       US Dollar|           ACH|            0|\n",
      "|2022/09/01 00:29|     1812|800F713D0|  13354|8014CA680|          706.0|         US Dollar|         706.0|       US Dollar|           ACH|            0|\n",
      "|2022/09/01 00:23|       20|80005A340|   2545|800F71F70|        19732.0|         US Dollar|       19732.0|       US Dollar|           ACH|            0|\n",
      "|2022/09/01 00:22|      531|800F6F960|    531|800F6F960|          20.15|         US Dollar|         20.15|       US Dollar|  Reinvestment|            0|\n",
      "|2022/09/01 00:25|    11222|800F70400|  11968|80CB23DC0|          56.02|         US Dollar|         56.02|       US Dollar|   Credit Card|            0|\n",
      "|2022/09/01 00:23|     2545|800F704A0|  15786|8131C2670|           49.1|         US Dollar|          49.1|       US Dollar|   Credit Card|            0|\n",
      "|2022/09/01 00:05|    12592|800F71C50|  12592|800F71C50|          14.72|         US Dollar|         14.72|       US Dollar|  Reinvestment|            0|\n",
      "|2022/09/01 00:15|     1231|800F738A0|   5621|806C2A240|         450.34|         US Dollar|        450.34|       US Dollar|   Credit Card|            0|\n",
      "|2022/09/01 00:04|     1638|800F738F0|   1638|800F738F0|          18.19|         US Dollar|         18.19|       US Dollar|  Reinvestment|            0|\n",
      "|2022/09/01 00:07|     1291|800F73990|  22224|812BE7D00|            6.1|         US Dollar|           6.1|       US Dollar|   Credit Card|            0|\n",
      "|2022/09/01 00:10|    11770|800F74340| 241912|810D61250|          32.91|         US Dollar|         32.91|       US Dollar|   Credit Card|            0|\n",
      "|2022/09/01 00:22|    12592|800F74B80|  11968|80CB23DC0|           4.72|         US Dollar|          4.72|       US Dollar|   Credit Card|            0|\n",
      "|2022/09/01 00:24|    22364|800F75220| 114721|8118E7B00|          11.13|         US Dollar|         11.13|       US Dollar|   Credit Card|            0|\n",
      "|2022/09/01 00:22|     2860|800F75290| 151250|8131C2620|         160.83|         US Dollar|        160.83|       US Dollar|   Credit Card|            0|\n",
      "|2022/09/01 00:03|    22481|800F75A50|  22481|800F75A50|          18.79|         US Dollar|         18.79|       US Dollar|  Reinvestment|            0|\n",
      "|2022/09/01 00:18|      349|800F75F00| 223113|8113902E0|         179.43|         US Dollar|        179.43|       US Dollar|   Credit Card|            0|\n",
      "|2022/09/01 00:00|     1889|800F77250|  11968|80CB23DC0|         140.68|         US Dollar|        140.68|       US Dollar|   Credit Card|            0|\n",
      "|2022/09/01 00:01|    13354|8013E3D20| 151250|8131C2620|          17.57|         US Dollar|         17.57|       US Dollar|   Credit Card|            0|\n",
      "|2022/09/01 00:12|      394|8014C5960|   8801|80CDF0700|          42.64|         US Dollar|         42.64|       US Dollar|   Credit Card|            0|\n",
      "|2022/09/01 00:00|     3389|8014C6120|  11968|80CB23DC0|         150.28|         US Dollar|        150.28|       US Dollar|   Credit Card|            0|\n",
      "|2022/09/01 00:02|    13354|8014CA680|  11968|80CB23DC0|         121.19|         US Dollar|        121.19|       US Dollar|   Credit Card|            0|\n",
      "|2022/09/01 00:17|    13354|8014D0C40|  13354|8014D0C40|        1578.16|         US Dollar|       1578.16|       US Dollar|  Reinvestment|            0|\n",
      "|2022/09/01 00:17|    33563|8014D6EF0|  33563|8014D6EF0|       25238.42|         US Dollar|      25238.42|       US Dollar|  Reinvestment|            0|\n",
      "|2022/09/01 00:18|     3533|8014D70C0|  12063|8014D7070|      1288507.0|         US Dollar|     1288507.0|       US Dollar|           ACH|            0|\n",
      "|2022/09/01 00:13|     3533|8014D70C0|   3533|8014D70C0|         2383.6|         US Dollar|        2383.6|       US Dollar|  Reinvestment|            0|\n",
      "|2022/09/01 00:13|    12966|8015238B0|  12966|8015238B0|        2049.68|         US Dollar|       2049.68|       US Dollar|  Reinvestment|            0|\n",
      "|2022/09/01 00:29|    13474|8014CF900|  56335|81A89E7B0|          16.48|         US Dollar|         16.48|       US Dollar|   Credit Card|            0|\n",
      "|2022/09/01 00:21|    13354|8014D0C40|  13354|8014D0C40|           8.09|         US Dollar|          8.09|       US Dollar|  Reinvestment|            0|\n",
      "|2022/09/01 00:18|       11|8014D2420|     11|8014D2420|          23.15|         US Dollar|         23.15|       US Dollar|  Reinvestment|            0|\n",
      "|2022/09/01 00:18|    12063|8014D7070|  28958|806B44A40|           6.28|         US Dollar|          6.28|       US Dollar|   Credit Card|            0|\n",
      "|2022/09/01 00:16|    22129|8014D7290|  22129|8014D7290|          12.18|         US Dollar|         12.18|       US Dollar|  Reinvestment|            0|\n",
      "|2022/09/01 00:13|     1439|801533E70|   1439|801533E70|          14.24|         US Dollar|         14.24|       US Dollar|  Reinvestment|            0|\n",
      "|2022/09/01 00:26|    13354|80145D9E0|  13354|80145D9E0|      6916720.4|         US Dollar|     6916720.4|       US Dollar|  Reinvestment|            0|\n",
      "|2022/09/01 00:26|       20|801565C50|     20|801565C50|         684.65|         US Dollar|        684.65|       US Dollar|  Reinvestment|            0|\n",
      "|2022/09/01 00:28|    31984|8015662B0|  31984|8015662B0|          237.1|         US Dollar|         237.1|       US Dollar|  Reinvestment|            0|\n",
      "|2022/09/01 00:09|    33668|801566300|  33668|801566300|        4681.16|         US Dollar|       4681.16|       US Dollar|  Reinvestment|            0|\n",
      "|2022/09/01 00:26|     1439|8015677E0|  13125|8015664D0|       337647.0|         US Dollar|      337647.0|       US Dollar|           ACH|            0|\n",
      "|2022/09/01 00:29|     3914|80160DD30|   3914|80160DD30|       12093.52|         US Dollar|      12093.52|       US Dollar|  Reinvestment|            0|\n",
      "|2022/09/01 00:24|     1217|801565CA0|   3500|8072E32C0|          31.28|         US Dollar|         31.28|       US Dollar|   Credit Card|            0|\n",
      "|2022/09/01 00:00|    13125|8015664D0|  22129|804192180|         107.85|         US Dollar|        107.85|       US Dollar|   Credit Card|            0|\n",
      "|2022/09/01 00:00|     2196|80160DD80| 234933|80CF296D0|          19.09|         US Dollar|         19.09|       US Dollar|   Credit Card|            0|\n",
      "|2022/09/01 00:12|       20|800044230|     20|800044230|       43754.43|         US Dollar|      43754.43|       US Dollar|  Reinvestment|            0|\n",
      "|2022/09/01 00:07|       12|800056090|     12|800056090|        7666.72|         US Dollar|       7666.72|       US Dollar|  Reinvestment|            0|\n",
      "|2022/09/01 00:04|       70|10042B660|     20|800054200|      700620.29|         US Dollar|     700620.29|       US Dollar|        Cheque|            0|\n",
      "|2022/09/01 00:06|        1|800054290|      1|800054290|      891489.28|         US Dollar|     891489.28|       US Dollar|  Reinvestment|            0|\n",
      "|2022/09/01 00:13|        1|800056ED0|      1|800056ED0|  3.202723531E7|         US Dollar| 3.202723531E7|       US Dollar|  Reinvestment|            0|\n",
      "|2022/09/01 00:05|        1|800056ED0|      1|800056ED0|          21.08|         US Dollar|         21.08|       US Dollar|  Reinvestment|            0|\n",
      "|2022/09/01 00:04|       20|800057270|     20|800057270|       392427.5|         US Dollar|      392427.5|       US Dollar|  Reinvestment|            0|\n",
      "|2022/09/01 00:16|       20|800057660|     20|800057660|         5309.4|         US Dollar|        5309.4|       US Dollar|        Cheque|            0|\n",
      "|2022/09/01 00:22|       12|800057E30|     12|800057E30|      291136.22|         US Dollar|     291136.22|       US Dollar|  Reinvestment|            0|\n",
      "|2022/09/01 00:01|       12|800057E30|     12|800057E30|           8.77|         US Dollar|          8.77|       US Dollar|  Reinvestment|            0|\n",
      "|2022/09/01 00:14|       20|8000581F0|     20|8000581F0|           23.0|         US Dollar|          23.0|       US Dollar|  Reinvestment|            0|\n",
      "|2022/09/01 00:25|       20|800058C60|     20|800058C60|      894010.36|         US Dollar|     894010.36|       US Dollar|  Reinvestment|            0|\n",
      "|2022/09/01 00:12|       20|800059410|     20|800059410|      122921.49|         US Dollar|     122921.49|       US Dollar|  Reinvestment|            0|\n",
      "|2022/09/01 00:25|       20|8000563E0|     20|8000563E0|        32496.7|         US Dollar|       32496.7|       US Dollar|  Reinvestment|            0|\n",
      "|2022/09/01 00:05|        1|80005A0E0|      1|80005A0E0|          15.33|         US Dollar|         15.33|       US Dollar|  Reinvestment|            0|\n",
      "|2022/09/01 00:16|       20|80005A340|     20|80005A340|     1810272.39|         US Dollar|    1810272.39|       US Dollar|  Reinvestment|            0|\n",
      "|2022/09/01 00:27|      224|80005A930|    224|80005A930|          18.84|         US Dollar|         18.84|       US Dollar|  Reinvestment|            0|\n",
      "|2022/09/01 00:17|      224|80005ACF0|    224|80005ACF0|       95369.47|         US Dollar|      95369.47|       US Dollar|  Reinvestment|            0|\n",
      "|2022/09/01 00:05|       20|80005B040|     20|80005B040|       117164.6|         US Dollar|      117164.6|       US Dollar|  Reinvestment|            0|\n",
      "|2022/09/01 00:28|       20|80005B040|     20|80005B040|          15.81|         US Dollar|         15.81|       US Dollar|  Reinvestment|            0|\n",
      "|2022/09/01 00:06|       11|800058480|     11|800058480|      190623.14|         US Dollar|     190623.14|       US Dollar|  Reinvestment|            0|\n",
      "|2022/09/01 00:22|       11|80005BB60|     11|80005BB60|     1267704.14|         US Dollar|    1267704.14|       US Dollar|  Reinvestment|            0|\n",
      "|2022/09/01 00:00|        1|80005CA70|      1|80005CA70|       20021.25|         US Dollar|      20021.25|       US Dollar|  Reinvestment|            0|\n",
      "|2022/09/01 00:10|        1|80005CA70|      1|80005CA70|       31923.49|         US Dollar|      31923.49|       US Dollar|        Cheque|            0|\n",
      "|2022/09/01 00:14|       20|80005CDA0|     20|80005CDA0|           9.58|         US Dollar|          9.58|       US Dollar|  Reinvestment|            0|\n",
      "|2022/09/01 00:04|       12|80005D160|     12|80005D160|          11.41|         US Dollar|         11.41|       US Dollar|  Reinvestment|            0|\n",
      "|2022/09/01 00:27|       20|80005DA20|     20|80005DA20|       96089.81|         US Dollar|      96089.81|       US Dollar|  Reinvestment|            0|\n",
      "|2022/09/01 00:28|       20|80005DD70|     20|80005DD70|          14.62|         US Dollar|         14.62|       US Dollar|  Reinvestment|            0|\n",
      "|2022/09/01 00:03|       11|80005E750|     11|80005E750|      188755.39|         US Dollar|     188755.39|       US Dollar|  Reinvestment|            0|\n",
      "|2022/09/01 00:06|       11|80005E750|     11|80005E750|       81701.93|         US Dollar|      81701.93|       US Dollar|        Cheque|            0|\n",
      "|2022/09/01 00:08|       11|80005E750|     11|80005E750|         7527.7|         US Dollar|        7527.7|       US Dollar|   Credit Card|            0|\n",
      "|2022/09/01 00:09|       11|80005E750|     11|80005E750|      201551.63|         US Dollar|     201551.63|       US Dollar|          Wire|            0|\n",
      "|2022/09/01 00:28|       12|80005EA80|     12|80005EA80|       10406.57|         US Dollar|      10406.57|       US Dollar|        Cheque|            0|\n",
      "|2022/09/01 00:18|       12|80005EA80|     12|80005EA80|        17355.0|         US Dollar|       17355.0|       US Dollar|          Cash|            0|\n",
      "|2022/09/01 00:27|        1|80005F620|      1|80005F620|         686.74|         US Dollar|        686.74|       US Dollar|        Cheque|            0|\n",
      "|2022/09/01 00:10|        1|80005F620|      1|80005F620|        2124.57|         US Dollar|       2124.57|       US Dollar|   Credit Card|            0|\n",
      "|2022/09/01 00:05|        1|80005F620|      1|80005F620|         343.56|         US Dollar|        343.56|       US Dollar|           ACH|            0|\n",
      "|2022/09/01 00:09|       20|80005F910|     20|80005F910|          22.22|         US Dollar|         22.22|       US Dollar|  Reinvestment|            0|\n",
      "|2022/09/01 00:17|       11|8000ED820|     11|8000ED820|          17.83|         US Dollar|         17.83|       US Dollar|  Reinvestment|            0|\n",
      "|2022/09/01 00:19|       11|8000EDF00|     11|8000EDF00|     1092631.31|         US Dollar|    1092631.31|       US Dollar|  Reinvestment|            0|\n",
      "|2022/09/01 00:06|       20|8000EE770|     20|8000EE770|          11.08|         US Dollar|         11.08|       US Dollar|  Reinvestment|            0|\n",
      "|2022/09/01 00:24|       20|8000EEC20|     20|8000EEC20|       12462.52|         US Dollar|      12462.52|       US Dollar|  Reinvestment|            0|\n",
      "|2022/09/01 00:09|       12|8000EF760|     12|8000EF760|     6263655.65|         US Dollar|    6263655.65|       US Dollar|  Reinvestment|            0|\n",
      "|2022/09/01 00:23|       20|800057BB0|     12|8000EF760|       145706.3|         US Dollar|      145706.3|       US Dollar|        Cheque|            0|\n",
      "|2022/09/01 00:21|       20|800057BB0|     12|8000EF760|       21801.96|         US Dollar|      21801.96|       US Dollar|          Wire|            0|\n",
      "|2022/09/01 00:10|      224|8000F0B00|    224|8000F0B00|         727.67|         US Dollar|        727.67|       US Dollar|  Reinvestment|            0|\n",
      "|2022/09/01 00:03|       11|8000F9340|     11|8000F9340|       254047.5|         US Dollar|      254047.5|       US Dollar|  Reinvestment|            0|\n",
      "|2022/09/01 00:20|      224|80005B7C0|    224|80005B7C0|        9992.86|         US Dollar|       9992.86|       US Dollar|  Reinvestment|            0|\n",
      "|2022/09/01 00:22|       12|8000F8D20|     12|8000F8D20|         594.24|         US Dollar|        594.24|       US Dollar|  Reinvestment|            0|\n",
      "|2022/09/01 00:18|       20|8000F8990| 139833|812116FE0|           32.7|         US Dollar|          32.7|       US Dollar|   Credit Card|            0|\n",
      "|2022/09/01 00:09|       20|8000F8CD0|     20|8000F8CD0|          10.79|         US Dollar|         10.79|       US Dollar|  Reinvestment|            0|\n",
      "|2022/09/01 00:00|       11|8000FA930|     11|8000FA930|       32420.35|         US Dollar|      32420.35|       US Dollar|  Reinvestment|            0|\n",
      "|2022/09/01 00:04|       11|8000FAE50|     11|8000FAE50|      318410.69|         US Dollar|     318410.69|       US Dollar|  Reinvestment|            0|\n",
      "|2022/09/01 00:03|       20|800058C10|     11|8000FAE50|       69522.31|         US Dollar|      69522.31|       US Dollar|        Cheque|            0|\n",
      "|2022/09/01 00:23|       20|800058C10|     11|8000FAE50|       42576.97|         US Dollar|      42576.97|       US Dollar|           ACH|            0|\n",
      "|2022/09/01 00:06|       12|8000FB2E0|     12|8000FB2E0|          15.57|         US Dollar|         15.57|       US Dollar|  Reinvestment|            0|\n",
      "|2022/09/01 00:02|      224|8000FBE20|    224|8000FBE20|           10.5|         US Dollar|          10.5|       US Dollar|  Reinvestment|            0|\n",
      "|2022/09/01 00:14|        1|8000FCD60|      1|8000FCD60|      489108.41|         US Dollar|     489108.41|       US Dollar|  Reinvestment|            0|\n",
      "|2022/09/01 00:13|        1|8000FE080|      1|8000FE080|      532564.79|         US Dollar|     532564.79|       US Dollar|  Reinvestment|            0|\n",
      "|2022/09/01 00:17|       70|10042B660|     12|8001004E0|        2885.95|         US Dollar|       2885.95|       US Dollar|        Cheque|            0|\n",
      "|2022/09/01 00:29|       70|10042B660|     12|8001004E0|        5178.64|         US Dollar|       5178.64|       US Dollar|          Cash|            0|\n",
      "|2022/09/01 00:20|     1217|800100AC0|   1217|800100AC0|       61521.96|         US Dollar|      61521.96|       US Dollar|  Reinvestment|            0|\n",
      "|2022/09/01 00:17|      224|8000FC430|    224|8000FC430|     1867121.32|         US Dollar|    1867121.32|       US Dollar|  Reinvestment|            0|\n",
      "|2022/09/01 00:12|       11|800100250|     11|800100250|        9795.13|         US Dollar|       9795.13|       US Dollar|  Reinvestment|            0|\n",
      "|2022/09/01 00:14|      224|8000FC430|    224|8000FC430|          18.54|         US Dollar|         18.54|       US Dollar|  Reinvestment|            0|\n",
      "|2022/09/01 00:28|     1217|8000FE820|  24778|80D9BAC30|          28.41|         US Dollar|         28.41|       US Dollar|   Credit Card|            0|\n",
      "|2022/09/01 00:00|       11|800100E20|     20|8003E2560|          46.23|         US Dollar|         46.23|       US Dollar|   Credit Card|            0|\n",
      "|2022/09/01 00:20|       11|800101740|     11|800101740|      738971.41|         US Dollar|     738971.41|       US Dollar|  Reinvestment|            0|\n",
      "|2022/09/01 00:14|        1|800101790|      1|800101790|        7077.98|         US Dollar|       7077.98|       US Dollar|  Reinvestment|            0|\n",
      "|2022/09/01 00:21|       11|800101B80|     11|800101B80|        8414.44|         US Dollar|       8414.44|       US Dollar|  Reinvestment|            0|\n",
      "|2022/09/01 00:22|       20|8000FBC30|     20|8000FBC30|            5.1|         US Dollar|           5.1|       US Dollar|  Reinvestment|            0|\n",
      "|2022/09/01 00:27|       12|8000FB050|     12|8000FB050|       23227.43|         US Dollar|      23227.43|       US Dollar|  Reinvestment|            0|\n",
      "|2022/09/01 00:26|     1217|800104060|   1217|800104060|       32050.98|         US Dollar|      32050.98|       US Dollar|  Reinvestment|            0|\n",
      "|2022/09/01 00:05|       20|8001044D0|     20|8001044D0|      421288.53|         US Dollar|     421288.53|       US Dollar|  Reinvestment|            0|\n",
      "|2022/09/01 00:03|       20|800104CB0|     20|800104CB0|      678450.71|         US Dollar|     678450.71|       US Dollar|  Reinvestment|            0|\n",
      "|2022/09/01 00:00|     3200|8001052C0|   3200|8001052C0|       17748.52|         US Dollar|      17748.52|       US Dollar|  Reinvestment|            0|\n",
      "|2022/09/01 00:24|       12|80005C690|     20|800105270|       40747.91|         US Dollar|      40747.91|       US Dollar|        Cheque|            0|\n",
      "|2022/09/01 00:18|       12|80005C690|     20|800105270|        9752.12|         US Dollar|       9752.12|       US Dollar|   Credit Card|            0|\n",
      "|2022/09/01 00:06|      224|800103B80|    224|800103B80|      702774.88|         US Dollar|     702774.88|       US Dollar|  Reinvestment|            0|\n",
      "|2022/09/01 00:02|     3209|800103C20|   3209|800103C20|        16360.8|         US Dollar|       16360.8|       US Dollar|  Reinvestment|            0|\n",
      "|2022/09/01 00:13|     3210|800104770|     20|8001046D0|        1218.74|         US Dollar|       1218.74|       US Dollar|           ACH|            0|\n",
      "|2022/09/01 00:26|      224|800103B80|    224|800103B80|          20.82|         US Dollar|         20.82|       US Dollar|  Reinvestment|            0|\n",
      "|2022/09/01 00:01|     3208|800103790|   3208|800103790|        5226.78|         US Dollar|       5226.78|       US Dollar|  Reinvestment|            0|\n",
      "|2022/09/01 00:04|       20|8001063F0|     20|8001063F0|      232885.22|         US Dollar|     232885.22|       US Dollar|  Reinvestment|            0|\n",
      "|2022/09/01 00:22|       20|800106440|     20|800106440|       31134.85|         US Dollar|      31134.85|       US Dollar|  Reinvestment|            0|\n",
      "|2022/09/01 00:26|       20|800106490|     20|800106490|          21.21|         US Dollar|         21.21|       US Dollar|  Reinvestment|            0|\n",
      "|2022/09/01 00:03|      224|8001034E0|    224|8001034E0|          20.56|         US Dollar|         20.56|       US Dollar|  Reinvestment|            0|\n",
      "|2022/09/01 00:08|     1217|800107560|   1217|800107560|        2897.96|         US Dollar|       2897.96|       US Dollar|  Reinvestment|            0|\n",
      "|2022/09/01 00:18|     1217|800107560|   1217|800107560|          14.51|         US Dollar|         14.51|       US Dollar|  Reinvestment|            0|\n",
      "|2022/09/01 00:01|     1231|800108370|   1231|800108370|      417884.38|         US Dollar|     417884.38|       US Dollar|  Reinvestment|            0|\n",
      "|2022/09/01 00:09|        1|800101790|   1231|800108370|      221714.63|         US Dollar|     221714.63|       US Dollar|        Cheque|            0|\n",
      "|2022/09/01 00:20|        1|800101790|   1231|800108370|       14835.35|         US Dollar|      14835.35|       US Dollar|   Credit Card|            0|\n",
      "|2022/09/01 00:24|        1|800101790|   1231|800108370|       524554.5|         US Dollar|      524554.5|       US Dollar|          Cash|            0|\n",
      "|2022/09/01 00:16|     1231|800108370|   1231|800108370|          22.69|         US Dollar|         22.69|       US Dollar|  Reinvestment|            0|\n",
      "|2022/09/01 00:12|       12|800106DA0|     12|800106DA0|          14.04|         US Dollar|         14.04|       US Dollar|  Reinvestment|            0|\n",
      "|2022/09/01 00:10|       12|8001093C0|     12|8001093C0|        8303.18|         US Dollar|       8303.18|       US Dollar|  Reinvestment|            0|\n",
      "|2022/09/01 00:27|       12|8001093C0|     12|8001093C0|          16.44|         US Dollar|         16.44|       US Dollar|  Reinvestment|            0|\n",
      "|2022/09/01 00:00|       20|80005A690|      1|800109C10|      197626.25|         US Dollar|     197626.25|       US Dollar|        Cheque|            0|\n",
      "|2022/09/01 00:05|       20|80005A690|      1|800109C10|      165123.37|         US Dollar|     165123.37|       US Dollar|          Cash|            0|\n",
      "|2022/09/01 00:15|     1217|80010AC70|   1217|80010AC70|           3.77|         US Dollar|          3.77|       US Dollar|  Reinvestment|            0|\n",
      "|2022/09/01 00:07|       12|80010B520|     12|80010B520|      278295.82|         US Dollar|     278295.82|       US Dollar|  Reinvestment|            0|\n",
      "|2022/09/01 00:04|       20|80010BC80|     20|80010BC80|          15.38|         US Dollar|         15.38|       US Dollar|  Reinvestment|            0|\n",
      "|2022/09/01 00:12|     1231|80010C4C0|   1231|80010C4C0|       12067.64|         US Dollar|      12067.64|       US Dollar|  Reinvestment|            0|\n",
      "|2022/09/01 00:16|       20|80005B040|   1231|80010C4C0|         478.24|         US Dollar|        478.24|       US Dollar|        Cheque|            0|\n",
      "|2022/09/01 00:15|       20|80005B040|   1231|80010C4C0|         152.53|         US Dollar|        152.53|       US Dollar|   Credit Card|            0|\n",
      "|2022/09/01 00:12|       20|80005B040|   1231|80010C4C0|          39.02|         US Dollar|         39.02|       US Dollar|          Cash|            0|\n",
      "|2022/09/01 00:05|       20|80005B040|   1231|80010C4C0|           0.18|         US Dollar|          0.18|       US Dollar|           ACH|            0|\n",
      "|2022/09/01 00:15|       12|80005C690|     12|80010CF90|        3313.62|         US Dollar|       3313.62|       US Dollar|        Cheque|            0|\n",
      "|2022/09/01 00:21|       12|80005C690|     12|80010CF90|       10469.61|         US Dollar|      10469.61|       US Dollar|          Wire|            0|\n",
      "|2022/09/01 00:14|       12|80010CF90|     12|80010CF90|           5.43|         US Dollar|          5.43|       US Dollar|  Reinvestment|            0|\n",
      "|2022/09/01 00:25|       20|80010DC40|     20|80010DC40|       203789.6|         US Dollar|      203789.6|       US Dollar|  Reinvestment|            0|\n",
      "|2022/09/01 00:24|        1|80010E9C0|      1|80010E9C0|      110406.79|         US Dollar|     110406.79|       US Dollar|  Reinvestment|            0|\n",
      "|2022/09/01 00:19|       20|80010E3D0|     20|80010E3D0|       257039.5|         US Dollar|      257039.5|       US Dollar|  Reinvestment|            0|\n",
      "|2022/09/01 00:25|     3214|80010E420|   3214|80010E420|       48500.52|         US Dollar|      48500.52|       US Dollar|  Reinvestment|            0|\n",
      "|2022/09/01 00:00|       20|80010E3D0|     20|80010E3D0|          21.98|         US Dollar|         21.98|       US Dollar|  Reinvestment|            0|\n",
      "|2022/09/01 00:21|       20|8000F8990|      1|800110370|       19958.59|         US Dollar|      19958.59|       US Dollar|        Cheque|            0|\n",
      "|2022/09/01 00:07|       20|8000F8990|      1|800110370|       13938.51|         US Dollar|      13938.51|       US Dollar|   Credit Card|            0|\n",
      "|2022/09/01 00:25|     1217|80010FDD0|   1217|80010FDD0|           9.09|         US Dollar|          9.09|       US Dollar|  Reinvestment|            0|\n",
      "|2022/09/01 00:16|        1|8000F8F10|      1|8000F8F10|          23.37|         US Dollar|         23.37|       US Dollar|  Reinvestment|            0|\n",
      "|2022/09/01 00:21|      224|800112AE0|    224|800112AE0|       12722.98|         US Dollar|      12722.98|       US Dollar|  Reinvestment|            0|\n",
      "|2022/09/01 00:00|        1|800112F90|      1|800112F90|          13.16|         US Dollar|         13.16|       US Dollar|  Reinvestment|            0|\n",
      "|2022/09/01 00:03|      224|8000FD180|    224|8000FD180|       10191.94|         US Dollar|      10191.94|       US Dollar|  Reinvestment|            0|\n",
      "|2022/09/01 00:26|       20|800055E30|     20|800115330|        7298.67|         US Dollar|       7298.67|       US Dollar|          Cash|            0|\n",
      "|2022/09/01 00:03|       20|800055E30|     20|800115330|        3286.68|         US Dollar|       3286.68|       US Dollar|           ACH|            0|\n",
      "|2022/09/01 00:10|       20|800055E30|     20|800115330|         573.75|         US Dollar|        573.75|       US Dollar|          Wire|            0|\n",
      "|2022/09/01 00:14|       12|800115B90|     12|800115B90|      315112.47|         US Dollar|     315112.47|       US Dollar|  Reinvestment|            0|\n",
      "|2022/09/01 00:10|       12|800115B90|     12|800115B90|          19.24|         US Dollar|         19.24|       US Dollar|  Reinvestment|            0|\n",
      "|2022/09/01 00:02|       20|8001158B0|     20|8001158B0|        1103.08|         US Dollar|       1103.08|       US Dollar|  Reinvestment|            0|\n",
      "|2022/09/01 00:26|       20|800116490|     20|800116490|       12520.17|         US Dollar|      12520.17|       US Dollar|  Reinvestment|            0|\n",
      "|2022/09/01 00:17|       20|800116CC0|     20|800116CC0|      452394.68|         US Dollar|     452394.68|       US Dollar|  Reinvestment|            0|\n",
      "|2022/09/01 00:28|       12|800116D10|     12|800116D10|       22686.14|         US Dollar|      22686.14|       US Dollar|  Reinvestment|            0|\n",
      "|2022/09/01 00:26|       11|800116990|     11|800116990|     2724647.44|         US Dollar|    2724647.44|       US Dollar|  Reinvestment|            0|\n",
      "|2022/09/01 00:26|       11|800116A30|     11|800116A30|        9142.36|         US Dollar|       9142.36|       US Dollar|  Reinvestment|            0|\n",
      "|2022/09/01 00:15|     1217|800116A80|   1217|800116A80|          157.7|         US Dollar|         157.7|       US Dollar|  Reinvestment|            0|\n",
      "|2022/09/01 00:17|       11|800116A30|     11|800116A30|           16.6|         US Dollar|          16.6|       US Dollar|  Reinvestment|            0|\n",
      "|2022/09/01 00:21|       12|800117550|     12|800117550|      137121.19|         US Dollar|     137121.19|       US Dollar|  Reinvestment|            0|\n",
      "|2022/09/01 00:25|        1|8001160C0|      1|8001160C0|        3902.34|         US Dollar|       3902.34|       US Dollar|  Reinvestment|            0|\n",
      "|2022/09/01 00:19|       20|800117B80|     20|800117B80|        6968.69|         US Dollar|       6968.69|       US Dollar|  Reinvestment|            0|\n",
      "|2022/09/01 00:01|       20|800117B80|     20|800117B80|          19.41|         US Dollar|         19.41|       US Dollar|  Reinvestment|            0|\n",
      "|2022/09/01 00:27|       12|800110830|     12|800110830|        12362.1|         US Dollar|       12362.1|       US Dollar|  Reinvestment|            0|\n",
      "|2022/09/01 00:00|     3214|800110880|   3214|800110880|       17393.14|         US Dollar|      17393.14|       US Dollar|  Reinvestment|            0|\n",
      "|2022/09/01 00:28|       20|800110DE0|     20|800110DE0|        8639.86|         US Dollar|       8639.86|       US Dollar|  Reinvestment|            0|\n",
      "|2022/09/01 00:26|       20|800110E80|     20|800110E80|      104587.69|         US Dollar|     104587.69|       US Dollar|  Reinvestment|            0|\n",
      "|2022/09/01 00:11|      224|800113400|    224|800113400|        3940.72|         US Dollar|       3940.72|       US Dollar|  Reinvestment|            0|\n",
      "|2022/09/01 00:29|     1217|800113DE0|   1217|800113DE0|       29052.12|         US Dollar|      29052.12|       US Dollar|  Reinvestment|            0|\n",
      "|2022/09/01 00:01|     1231|800118230|   1231|800118230|        8357.61|         US Dollar|       8357.61|       US Dollar|  Reinvestment|            0|\n",
      "|2022/09/01 00:11|       12|800110830|     12|800110830|           4.44|         US Dollar|          4.44|       US Dollar|  Reinvestment|            0|\n",
      "|2022/09/01 00:20|       20|800110E80|     20|800110E80|           6.37|         US Dollar|          6.37|       US Dollar|  Reinvestment|            0|\n",
      "|2022/09/01 00:22|     1217|800113DE0|   1217|800113DE0|          15.91|         US Dollar|         15.91|       US Dollar|  Reinvestment|            0|\n",
      "|2022/09/01 00:04|       12|80011BF30|     12|80011BF30|           3.22|         US Dollar|          3.22|       US Dollar|  Reinvestment|            0|\n",
      "|2022/09/01 00:14|       20|80010E3D0|     20|80011D080|        3931.06|         US Dollar|       3931.06|       US Dollar|        Cheque|            0|\n",
      "|2022/09/01 00:02|       20|80011DDC0|     20|80011DDC0|         473.18|         US Dollar|        473.18|       US Dollar|  Reinvestment|            0|\n",
      "|2022/09/01 00:10|     3221|80011DEB0|   3221|80011DEB0|        5712.99|         US Dollar|       5712.99|       US Dollar|  Reinvestment|            0|\n",
      "|2022/09/01 00:05|       20|80011E2A0|     20|80011E2A0|         272.09|         US Dollar|        272.09|       US Dollar|  Reinvestment|            0|\n",
      "|2022/09/01 00:17|       12|80011DA50|     12|80011DA50|          12.32|         US Dollar|         12.32|       US Dollar|  Reinvestment|            0|\n",
      "|2022/09/01 00:04|     3229|80011A230|     20|80011B550|       12591.39|         US Dollar|      12591.39|       US Dollar|           ACH|            0|\n",
      "|2022/09/01 00:07|     1231|80011A760|   1231|80011A760|        5650.77|         US Dollar|       5650.77|       US Dollar|  Reinvestment|            0|\n",
      "|2022/09/01 00:24|      224|80011A7B0|    224|80011A7B0|        2605.12|         US Dollar|       2605.12|       US Dollar|  Reinvestment|            0|\n",
      "|2022/09/01 00:18|       20|80011B550|     20|80011B550|         297.75|         US Dollar|        297.75|       US Dollar|  Reinvestment|            0|\n",
      "|2022/09/01 00:21|     3225|80011B780|   3225|80011B780|        1771.52|         US Dollar|       1771.52|       US Dollar|  Reinvestment|            0|\n",
      "|2022/09/01 00:20|     3225|80011BBE0|   3225|80011BBE0|        3572.34|         US Dollar|       3572.34|       US Dollar|  Reinvestment|            0|\n",
      "|2022/09/01 00:09|     1217|80011EA20|   1217|80011EA20|        3665.73|         US Dollar|       3665.73|       US Dollar|  Reinvestment|            0|\n",
      "|2022/09/01 00:04|       20|80011B490| 115128|806F56120|         177.21|         US Dollar|        177.21|       US Dollar|   Credit Card|            0|\n",
      "|2022/09/01 00:11|       12|80011C720|     12|80011C720|          14.21|         US Dollar|         14.21|       US Dollar|  Reinvestment|            0|\n",
      "|2022/09/01 00:28|      224|80011CAD0|    224|80011CAD0|          15.67|         US Dollar|         15.67|       US Dollar|  Reinvestment|            0|\n",
      "|2022/09/01 00:15|     1217|800119C70|   1217|800119C70|     1347414.02|         US Dollar|    1347414.02|       US Dollar|  Reinvestment|            0|\n",
      "|2022/09/01 00:03|       20|800119D10|     20|800119D10|       17271.71|         US Dollar|      17271.71|       US Dollar|  Reinvestment|            0|\n",
      "|2022/09/01 00:01|     1217|800119C70|   1217|800119C70|           7.17|         US Dollar|          7.17|       US Dollar|  Reinvestment|            0|\n",
      "|2022/09/01 00:24|       11|800122090|     11|800122090|       52942.23|         US Dollar|      52942.23|       US Dollar|  Reinvestment|            0|\n",
      "|2022/09/01 00:06|       11|800121C30|     11|800121C30|           6.51|         US Dollar|          6.51|       US Dollar|  Reinvestment|            0|\n",
      "|2022/09/01 00:01|       20|800122DB0|     20|800122DB0|      396903.38|         US Dollar|     396903.38|       US Dollar|  Reinvestment|            0|\n",
      "|2022/09/01 00:08|       20|800122DB0|     20|800122DB0|          22.28|         US Dollar|         22.28|       US Dollar|  Reinvestment|            0|\n",
      "|2022/09/01 00:21|      224|8001242C0|    224|8001242C0|     1757753.23|         US Dollar|    1757753.23|       US Dollar|  Reinvestment|            0|\n",
      "|2022/09/01 00:23|       20|800127430|     20|800127430|        5678.54|         US Dollar|       5678.54|       US Dollar|  Reinvestment|            0|\n",
      "|2022/09/01 00:16|       20|8000F9FA0|     20|8000F9FA0|      134722.14|         US Dollar|     134722.14|       US Dollar|  Reinvestment|            0|\n",
      "|2022/09/01 00:25|      224|800127B30|    224|800127B30|        2659.37|         US Dollar|       2659.37|       US Dollar|  Reinvestment|            0|\n",
      "|2022/09/01 00:26|       12|800127AE0|     12|800127AE0|           4.02|         US Dollar|          4.02|       US Dollar|  Reinvestment|            0|\n",
      "|2022/09/01 00:09|       20|800128120|     20|800128120|       261742.1|         US Dollar|      261742.1|       US Dollar|  Reinvestment|            0|\n",
      "|2022/09/01 00:08|      224|8000EFBD0|    224|8000EFBD0|      296375.56|         US Dollar|     296375.56|       US Dollar|  Reinvestment|            0|\n",
      "|2022/09/01 00:07|       12|8000EFB10|     12|8000EFB10|      119222.47|         US Dollar|     119222.47|       US Dollar|  Reinvestment|            0|\n",
      "|2022/09/01 00:01|        1|800128B70|      1|800128B70|        1702.37|         US Dollar|       1702.37|       US Dollar|  Reinvestment|            0|\n",
      "|2022/09/01 00:06|       70|10042B660|     12|8000EFB10|     1096731.69|         US Dollar|    1096731.69|       US Dollar|        Cheque|            0|\n",
      "|2022/09/01 00:02|       70|10042B660|     12|8000EFB10|      2623544.8|         US Dollar|     2623544.8|       US Dollar|          Cash|            0|\n",
      "|2022/09/01 00:19|        1|800129270|      1|800129270|      539962.16|         US Dollar|     539962.16|       US Dollar|  Reinvestment|            0|\n",
      "|2022/09/01 00:22|       12|800129FA0|     12|800129FA0|          24.95|         US Dollar|         24.95|       US Dollar|  Reinvestment|            0|\n",
      "|2022/09/01 00:26|     1217|80012A2B0|   1217|80012A2B0|         517.87|         US Dollar|        517.87|       US Dollar|  Reinvestment|            0|\n",
      "|2022/09/01 00:06|     1231|800129C90|   1231|800129C90|          19.28|         US Dollar|         19.28|       US Dollar|  Reinvestment|            0|\n",
      "|2022/09/01 00:08|       20|80012A210|     20|80012A210|          22.45|         US Dollar|         22.45|       US Dollar|  Reinvestment|            0|\n",
      "|2022/09/01 00:20|     1231|80012B050|   1231|80012B050|          12.09|         US Dollar|         12.09|       US Dollar|  Reinvestment|            0|\n",
      "|2022/09/01 00:26|      224|80012B4B0|    224|80012B4B0|      134202.18|         US Dollar|     134202.18|       US Dollar|  Reinvestment|            0|\n",
      "|2022/09/01 00:16|       12|800106DA0|    224|80012B4B0|         6982.7|         US Dollar|        6982.7|       US Dollar|        Cheque|            0|\n",
      "|2022/09/01 00:02|       12|800106DA0|    224|80012B4B0|        2215.06|         US Dollar|       2215.06|       US Dollar|   Credit Card|            0|\n",
      "|2022/09/01 00:12|       20|80012B8F0|     20|80012B8F0|      437404.94|         US Dollar|     437404.94|       US Dollar|  Reinvestment|            0|\n",
      "|2022/09/01 00:19|     3208|800127EE0|    224|800128F90|       10585.95|         US Dollar|      10585.95|       US Dollar|           ACH|            0|\n",
      "|2022/09/01 00:07|      224|800127F30|    224|800127F30|       21085.91|         US Dollar|      21085.91|       US Dollar|  Reinvestment|            0|\n",
      "|2022/09/01 00:17|     3200|800129750|     20|80012AC30|          46.61|         US Dollar|         46.61|       US Dollar|           ACH|            0|\n",
      "|2022/09/01 00:09|       12|80012AB90|     12|80012AB90|        7552.71|         US Dollar|       7552.71|       US Dollar|  Reinvestment|            0|\n",
      "|2022/09/01 00:00|      224|80012D050|    224|80012D050|       23060.55|         US Dollar|      23060.55|       US Dollar|  Reinvestment|            0|\n",
      "|2022/09/01 00:04|       20|80012DFA0|     20|80012DFA0|      912840.57|         US Dollar|     912840.57|       US Dollar|  Reinvestment|            0|\n",
      "|2022/09/01 00:01|       20|80005A340|     20|80012DFA0|        56383.8|         US Dollar|       56383.8|       US Dollar|        Cheque|            0|\n",
      "|2022/09/01 00:07|       20|80005A340|     20|80012DFA0|       15932.46|         US Dollar|      15932.46|       US Dollar|          Cash|            0|\n",
      "|2022/09/01 00:09|       20|80005A340|     20|80012DFA0|        6707.07|         US Dollar|       6707.07|       US Dollar|           ACH|            0|\n",
      "|2022/09/01 00:11|       11|80012F3F0|     11|80012F3F0|           14.0|         US Dollar|          14.0|       US Dollar|  Reinvestment|            0|\n",
      "|2022/09/01 00:14|      224|800130160|    224|800130160|      117104.51|         US Dollar|     117104.51|       US Dollar|  Reinvestment|            0|\n",
      "|2022/09/01 00:08|      224|800130160|    224|800130160|           9.74|         US Dollar|          9.74|       US Dollar|  Reinvestment|            0|\n",
      "|2022/09/01 00:11|     1231|800129C40|   1231|800129C40|      225909.87|         US Dollar|     225909.87|       US Dollar|  Reinvestment|            0|\n",
      "|2022/09/01 00:29|      224|800131280|    224|800131280|         111.46|         US Dollar|        111.46|       US Dollar|  Reinvestment|            0|\n",
      "|2022/09/01 00:15|     3235|800131C40|   3235|800131C40|         741.51|         US Dollar|        741.51|       US Dollar|  Reinvestment|            0|\n",
      "|2022/09/01 00:02|     1231|800131F10|   1231|800131F10|       18664.15|         US Dollar|      18664.15|       US Dollar|  Reinvestment|            0|\n",
      "|2022/09/01 00:23|      224|800131280|    224|800131280|            8.3|         US Dollar|           8.3|       US Dollar|  Reinvestment|            0|\n",
      "|2022/09/01 00:01|     3210|80012FEA0|   3210|80012FEA0|        4411.72|         US Dollar|       4411.72|       US Dollar|  Reinvestment|            0|\n",
      "|2022/09/01 00:19|     1231|800130DD0|   1231|800130DD0|        1286.16|         US Dollar|       1286.16|       US Dollar|  Reinvestment|            0|\n",
      "|2022/09/01 00:17|     1217|800130E70|   1217|800130E70|        6106.81|         US Dollar|       6106.81|       US Dollar|  Reinvestment|            0|\n",
      "|2022/09/01 00:07|     1231|80012FD10|   1231|80012FD10|          23.01|         US Dollar|         23.01|       US Dollar|  Reinvestment|            0|\n",
      "|2022/09/01 00:01|      224|800132640|  11770|8095CEF90|          15.99|         US Dollar|         15.99|       US Dollar|   Credit Card|            0|\n",
      "|2022/09/01 00:29|       20|800132C60|     20|800132C60|     2712015.15|         US Dollar|    2712015.15|       US Dollar|  Reinvestment|            0|\n",
      "|2022/09/01 00:17|       12|800125460|     12|800125460|     3073452.08|         US Dollar|    3073452.08|       US Dollar|  Reinvestment|            0|\n",
      "|2022/09/01 00:22|       11|80012D6D0|     11|80012D6D0|        7485.62|         US Dollar|       7485.62|       US Dollar|  Reinvestment|            0|\n",
      "|2022/09/01 00:03|      224|80012DC10|    224|80012DC10|        6410.07|         US Dollar|       6410.07|       US Dollar|  Reinvestment|            0|\n",
      "|2022/09/01 00:25|       20|80012F900|     20|80012F900|       20905.94|         US Dollar|      20905.94|       US Dollar|  Reinvestment|            0|\n",
      "|2022/09/01 00:28|       12|800106DA0|     12|80012F630|     9898587.11|         US Dollar|    9898587.11|       US Dollar|        Cheque|            0|\n",
      "|2022/09/01 00:11|       12|800106DA0|     12|80012F630|       21574.15|         US Dollar|      21574.15|       US Dollar|   Credit Card|            0|\n",
      "|2022/09/01 00:11|       12|800106DA0|     12|80012F630|     3173854.66|         US Dollar|    3173854.66|       US Dollar|           ACH|            0|\n",
      "|2022/09/01 00:01|       12|800125460|     12|800125460|           8.61|         US Dollar|          8.61|       US Dollar|  Reinvestment|            0|\n",
      "|2022/09/01 00:07|       11|80012D6D0|     11|80012D6D0|          15.98|         US Dollar|         15.98|       US Dollar|  Reinvestment|            0|\n",
      "|2022/09/01 00:00|     1231|80012DBC0|   1231|80012DBC0|          10.58|         US Dollar|         10.58|       US Dollar|  Reinvestment|            0|\n",
      "|2022/09/01 00:12|       12|80012F630|     12|80012F630|           4.86|         US Dollar|          4.86|       US Dollar|  Reinvestment|            0|\n",
      "|2022/09/01 00:19|       20|80012F900|     20|80012F900|          11.19|         US Dollar|         11.19|       US Dollar|  Reinvestment|            0|\n",
      "|2022/09/01 00:25|       12|8001330E0|  11222|815805430|          12.59|         US Dollar|         12.59|       US Dollar|   Credit Card|            0|\n",
      "|2022/09/01 00:09|       11|8001348B0|     11|8001348B0|          18.15|         US Dollar|         18.15|       US Dollar|  Reinvestment|            0|\n",
      "|2022/09/01 00:05|        1|800135360|      1|800135360|     1432791.51|         US Dollar|    1432791.51|       US Dollar|  Reinvestment|            0|\n",
      "|2022/09/01 00:12|       11|800135A60|     11|800135A60|       66436.45|         US Dollar|      66436.45|       US Dollar|  Reinvestment|            0|\n",
      "|2022/09/01 00:18|       11|800135A60|     11|800135A60|          24.67|         US Dollar|         24.67|       US Dollar|  Reinvestment|            0|\n",
      "|2022/09/01 00:28|     1217|800135E70|   1217|800135E70|      343659.49|         US Dollar|     343659.49|       US Dollar|  Reinvestment|            0|\n",
      "|2022/09/01 00:13|     1217|800135E70|   1217|800135E70|          16.88|         US Dollar|         16.88|       US Dollar|  Reinvestment|            0|\n",
      "|2022/09/01 00:23|     1231|800138370|   1231|800138370|     1423609.38|         US Dollar|    1423609.38|       US Dollar|  Reinvestment|            0|\n",
      "|2022/09/01 00:09|       20|800138AC0|     20|800138AC0|     3966431.59|         US Dollar|    3966431.59|       US Dollar|  Reinvestment|            0|\n",
      "|2022/09/01 00:18|       20|800138F00|     20|800138F00|       47101.01|         US Dollar|      47101.01|       US Dollar|  Reinvestment|            0|\n",
      "|2022/09/01 00:27|     1231|8001398D0|   1231|8001398D0|         665.14|         US Dollar|        665.14|       US Dollar|  Reinvestment|            0|\n",
      "|2022/09/01 00:07|       20|800139920|     20|800139920|         300.64|         US Dollar|        300.64|       US Dollar|  Reinvestment|            0|\n",
      "|2022/09/01 00:26|     1231|8001398D0|   1231|8001398D0|           18.0|         US Dollar|          18.0|       US Dollar|  Reinvestment|            0|\n",
      "|2022/09/01 00:16|      224|800127B30|     20|80013A140|      114987.45|         US Dollar|     114987.45|       US Dollar|        Cheque|            0|\n",
      "|2022/09/01 00:00|      224|800127B30|     20|80013A140|       10788.19|         US Dollar|      10788.19|       US Dollar|   Credit Card|            0|\n",
      "|2022/09/01 00:25|      224|800127B30|     20|80013A140|       11729.33|         US Dollar|      11729.33|       US Dollar|          Cash|            0|\n",
      "|2022/09/01 00:05|      224|800127B30|     20|80013A140|        7378.27|         US Dollar|       7378.27|       US Dollar|           ACH|            0|\n",
      "|2022/09/01 00:07|       20|80013A140|     20|80013A140|          23.12|         US Dollar|         23.12|       US Dollar|  Reinvestment|            0|\n",
      "|2022/09/01 00:20|       70|10042B660|   1231|80013AF70|        3834.34|         US Dollar|       3834.34|       US Dollar|        Cheque|            0|\n",
      "|2022/09/01 00:23|       70|10042B660|   1231|80013AF70|        5742.37|         US Dollar|       5742.37|       US Dollar|   Credit Card|            0|\n",
      "|2022/09/01 00:20|       70|10042B660|   1231|80013AF70|        1121.28|         US Dollar|       1121.28|       US Dollar|          Cash|            0|\n",
      "|2022/09/01 00:22|     1217|80013DE80|   1217|80013DE80|      130882.65|         US Dollar|     130882.65|       US Dollar|  Reinvestment|            0|\n",
      "|2022/09/01 00:06|     3234|80013CC00|     12|80013D3E0|        1156.51|         US Dollar|       1156.51|       US Dollar|           ACH|            0|\n",
      "|2022/09/01 00:13|       20|80013CC50|    224|80013CDE0|      2750828.0|         US Dollar|     2750828.0|       US Dollar|           ACH|            0|\n",
      "|2022/09/01 00:19|     3200|80013D390|   3200|80013D390|          28.73|         US Dollar|         28.73|       US Dollar|  Reinvestment|            0|\n",
      "|2022/09/01 00:05|        1|80013DBE0|      1|80013DBE0|        1540.53|         US Dollar|       1540.53|       US Dollar|  Reinvestment|            0|\n",
      "|2022/09/01 00:27|      224|80013CDE0|   8801|8075380F0|          33.08|         US Dollar|         33.08|       US Dollar|   Credit Card|            0|\n",
      "|2022/09/01 00:10|     1217|80013D2A0|  18747|816D90BF0|         287.38|         US Dollar|        287.38|       US Dollar|   Credit Card|            0|\n",
      "|2022/09/01 00:14|       20|800140D50|     20|800140D50|       76198.72|         US Dollar|      76198.72|       US Dollar|  Reinvestment|            0|\n",
      "|2022/09/01 00:17|       11|8001414F0|      1|8001414A0|      9940725.0|         US Dollar|     9940725.0|       US Dollar|        Cheque|            0|\n",
      "|2022/09/01 00:11|       11|8001414F0|     11|8001414F0|        2458.85|         US Dollar|       2458.85|       US Dollar|  Reinvestment|            0|\n",
      "|2022/09/01 00:26|        1|8001414A0| 219368|80745B140|           5.53|         US Dollar|          5.53|       US Dollar|   Credit Card|            0|\n",
      "|2022/09/01 00:21|       11|8001414F0|     11|8001414F0|          24.01|         US Dollar|         24.01|       US Dollar|  Reinvestment|            0|\n",
      "|2022/09/01 00:23|      224|8001420B0|    224|8001420B0|        3349.25|         US Dollar|       3349.25|       US Dollar|  Reinvestment|            0|\n",
      "|2022/09/01 00:06|       20|800142060|     20|800142060|          20.03|         US Dollar|         20.03|       US Dollar|  Reinvestment|            0|\n",
      "|2022/09/01 00:21|       20|800140950|     20|800140950|     5257438.69|         US Dollar|    5257438.69|       US Dollar|  Reinvestment|            0|\n",
      "|2022/09/01 00:01|     1217|8001409A0|   1217|8001409A0|         489.44|         US Dollar|        489.44|       US Dollar|  Reinvestment|            0|\n",
      "|2022/09/01 00:26|       12|8001409F0|     12|8001409F0|        2708.14|         US Dollar|       2708.14|       US Dollar|  Reinvestment|            0|\n",
      "|2022/09/01 00:07|     3202|800141060|     20|800140950|           0.01|         US Dollar|          0.01|       US Dollar|        Cheque|            0|\n",
      "|2022/09/01 00:21|     3233|800142460|   3233|800142460|         117.27|         US Dollar|        117.27|       US Dollar|  Reinvestment|            0|\n",
      "|2022/09/01 00:25|       20|800140950|     20|800140950|          22.13|         US Dollar|         22.13|       US Dollar|  Reinvestment|            0|\n",
      "|2022/09/01 00:25|       12|8001409F0|     12|8001409F0|          16.61|         US Dollar|         16.61|       US Dollar|  Reinvestment|            0|\n",
      "|2022/09/01 00:00|     1231|800141DD0|   1231|800141DD0|          21.26|         US Dollar|         21.26|       US Dollar|  Reinvestment|            0|\n",
      "|2022/09/01 00:19|     1231|800144920|   1231|800144920|       210837.2|         US Dollar|      210837.2|       US Dollar|  Reinvestment|            0|\n",
      "|2022/09/01 00:26|     3210|800140140|   3210|800140140|         447.62|         US Dollar|        447.62|       US Dollar|  Reinvestment|            0|\n",
      "|2022/09/01 00:28|       20|8001404B0|     20|8001404B0|        2611.72|         US Dollar|       2611.72|       US Dollar|  Reinvestment|            0|\n",
      "|2022/09/01 00:28|       11|8001431B0|     11|8001431B0|       14449.15|         US Dollar|      14449.15|       US Dollar|  Reinvestment|            0|\n",
      "|2022/09/01 00:26|       12|800143570|     12|800143570|        9268.09|         US Dollar|       9268.09|       US Dollar|  Reinvestment|            0|\n",
      "|2022/09/01 00:20|       12|800143C90|     12|800143C90|        8841.83|         US Dollar|       8841.83|       US Dollar|  Reinvestment|            0|\n",
      "|2022/09/01 00:28|     3221|800144000|   3221|800144000|       17962.65|         US Dollar|      17962.65|       US Dollar|  Reinvestment|            0|\n",
      "|2022/09/01 00:10|     3208|8001440F0|   3208|8001440F0|         512.48|         US Dollar|        512.48|       US Dollar|  Reinvestment|            0|\n",
      "|2022/09/01 00:19|       12|800144190|     12|800144190|        1721.63|         US Dollar|       1721.63|       US Dollar|  Reinvestment|            0|\n",
      "|2022/09/01 00:05|        1|800144370|      1|800144370|       15214.86|         US Dollar|      15214.86|       US Dollar|  Reinvestment|            0|\n",
      "|2022/09/01 00:01|       12|800144410|     12|800144410|        2948.73|         US Dollar|       2948.73|       US Dollar|  Reinvestment|            0|\n",
      "|2022/09/01 00:10|     1217|800140070|  34117|80E0DD550|         154.84|         US Dollar|        154.84|       US Dollar|   Credit Card|            0|\n",
      "|2022/09/01 00:24|       12|800143570|     12|800143570|          16.42|         US Dollar|         16.42|       US Dollar|  Reinvestment|            0|\n",
      "|2022/09/01 00:21|       12|800143D30| 113213|808A4C330|          84.86|         US Dollar|         84.86|       US Dollar|   Credit Card|            0|\n",
      "|2022/09/01 00:05|        1|800144370|      1|800144370|           17.1|         US Dollar|          17.1|       US Dollar|  Reinvestment|            0|\n",
      "|2022/09/01 00:21|      224|800147010|    224|800147010|       31155.33|         US Dollar|      31155.33|       US Dollar|  Reinvestment|            0|\n",
      "|2022/09/01 00:05|       12|800146870|     12|800146870|       17863.13|         US Dollar|      17863.13|       US Dollar|  Reinvestment|            0|\n",
      "|2022/09/01 00:23|       11|800147320|     11|800147320|       13755.63|         US Dollar|      13755.63|       US Dollar|  Reinvestment|            0|\n",
      "|2022/09/01 00:22|     3232|800147590|     12|800146690|        4332.58|         US Dollar|       4332.58|       US Dollar|           ACH|            0|\n",
      "|2022/09/01 00:02|     1217|8001475E0|   1217|8001475E0|        9921.19|         US Dollar|       9921.19|       US Dollar|  Reinvestment|            0|\n",
      "|2022/09/01 00:23|      224|80013AB30|     12|800146690| 3.4392543898E8|         US Dollar|3.4392543898E8|       US Dollar|        Cheque|            0|\n",
      "|2022/09/01 00:05|      224|80013AB30|     12|800146690|       25991.77|         US Dollar|      25991.77|       US Dollar|   Credit Card|            0|\n",
      "|2022/09/01 00:12|      224|80013AB30|     12|800146690|  4.593199021E8|         US Dollar| 4.593199021E8|       US Dollar|          Cash|            0|\n",
      "|2022/09/01 00:08|      224|80013AB30|     12|800146690| 5.3858225232E8|         US Dollar|5.3858225232E8|       US Dollar|           ACH|            0|\n",
      "|2022/09/01 00:26|       12|800146870|     12|800146870|           19.6|         US Dollar|          19.6|       US Dollar|  Reinvestment|            0|\n",
      "|2022/09/01 00:19|     1217|8001475E0|   1217|8001475E0|           6.19|         US Dollar|          6.19|       US Dollar|  Reinvestment|            0|\n",
      "|2022/09/01 00:28|     3214|80013B730|   3214|80013B730|         4336.0|         US Dollar|        4336.0|       US Dollar|  Reinvestment|            0|\n",
      "|2022/09/01 00:17|     3230|80013B910|   3230|80013B910|       13438.07|         US Dollar|      13438.07|       US Dollar|  Reinvestment|            0|\n",
      "|2022/09/01 00:04|       12|80013B960|     12|80013B960|         2286.9|         US Dollar|        2286.9|       US Dollar|  Reinvestment|            0|\n",
      "|2022/09/01 00:08|     3230|80013BC80|   3230|80013BC80|         983.95|         US Dollar|        983.95|       US Dollar|  Reinvestment|            0|\n",
      "|2022/09/01 00:16|     3258|80013BEB0|   3258|80013BEB0|       27771.48|         US Dollar|      27771.48|       US Dollar|  Reinvestment|            0|\n",
      "|2022/09/01 00:26|       12|80013C340|     12|80013C340|       20964.18|         US Dollar|      20964.18|       US Dollar|  Reinvestment|            0|\n",
      "|2022/09/01 00:14|     1217|80013EE50|   1217|80013EE50|       15364.78|         US Dollar|      15364.78|       US Dollar|  Reinvestment|            0|\n",
      "|2022/09/01 00:28|        1|80013EEA0|      1|80013EEA0|         782.95|         US Dollar|        782.95|       US Dollar|  Reinvestment|            0|\n",
      "|2022/09/01 00:08|       20|80013EFE0|     20|80013EFE0|       12798.82|         US Dollar|      12798.82|       US Dollar|  Reinvestment|            0|\n",
      "|2022/09/01 00:12|     3245|80013F490|   3245|80013F490|        4348.93|         US Dollar|       4348.93|       US Dollar|  Reinvestment|            0|\n",
      "|2022/09/01 00:18|        1|800146310|      1|800146310|        5438.12|         US Dollar|       5438.12|       US Dollar|  Reinvestment|            0|\n",
      "|2022/09/01 00:25|       12|80013B960|     12|80013B960|          18.84|         US Dollar|         18.84|       US Dollar|  Reinvestment|            0|\n",
      "|2022/09/01 00:22|       11|80013C4D0| 137268|810FF9E50|          42.13|         US Dollar|         42.13|       US Dollar|   Credit Card|            0|\n",
      "|2022/09/01 00:12|       20|80013EFE0|     20|80013EFE0|           5.73|         US Dollar|          5.73|       US Dollar|  Reinvestment|            0|\n",
      "|2022/09/01 00:21|     1217|80013F4E0|   1217|80013F4E0|          12.32|         US Dollar|         12.32|       US Dollar|  Reinvestment|            0|\n",
      "|2022/09/01 00:19|     1231|800146220|   1231|800146220|           8.82|         US Dollar|          8.82|       US Dollar|  Reinvestment|            0|\n",
      "|2022/09/01 00:13|       11|80014BEE0|     11|80014BEE0|  1.172145109E7|         US Dollar| 1.172145109E7|       US Dollar|  Reinvestment|            0|\n",
      "|2022/09/01 00:09|      224|800132640|     11|80014BEE0|      555865.98|         US Dollar|     555865.98|       US Dollar|        Cheque|            0|\n",
      "|2022/09/01 00:22|      224|800132640|     11|80014BEE0|       10755.19|         US Dollar|      10755.19|       US Dollar|   Credit Card|            0|\n",
      "|2022/09/01 00:18|       11|80014BEE0|     11|80014BEE0|          16.27|         US Dollar|         16.27|       US Dollar|  Reinvestment|            0|\n",
      "|2022/09/01 00:27|     1231|80014C640|   1231|80014C640|      349299.65|         US Dollar|     349299.65|       US Dollar|  Reinvestment|            0|\n",
      "|2022/09/01 00:13|       70|10042B660|     12|80014CEB0|       40841.65|         US Dollar|      40841.65|       US Dollar|        Cheque|            0|\n",
      "|2022/09/01 00:18|       70|10042B660|     12|80014CEB0|         4958.3|         US Dollar|        4958.3|       US Dollar|   Credit Card|            0|\n",
      "|2022/09/01 00:15|       70|10042B660|     12|80014CEB0|       26585.18|         US Dollar|      26585.18|       US Dollar|          Cash|            0|\n",
      "|2022/09/01 00:01|     1231|80014CA90|   1231|80014CA90|     1702566.09|         US Dollar|    1702566.09|       US Dollar|  Reinvestment|            0|\n",
      "|2022/09/01 00:27|      224|80014CBD0|    224|80014CBD0|         857.62|         US Dollar|        857.62|       US Dollar|  Reinvestment|            0|\n",
      "|2022/09/01 00:24|       20|80014CCC0|     20|80014CCC0|        6736.61|         US Dollar|       6736.61|       US Dollar|  Reinvestment|            0|\n",
      "|2022/09/01 00:13|     3229|80014D260|   3229|80014D260|        6391.26|         US Dollar|       6391.26|       US Dollar|  Reinvestment|            0|\n",
      "|2022/09/01 00:27|       20|80014CCC0|     20|80014CCC0|           8.82|         US Dollar|          8.82|       US Dollar|  Reinvestment|            0|\n",
      "|2022/09/01 00:20|       70|10042B660|   1217|80014DE20|        4874.26|         US Dollar|       4874.26|       US Dollar|   Credit Card|            0|\n",
      "|2022/09/01 00:01|       70|10042B660|   1217|80014DE20|      118286.57|         US Dollar|     118286.57|       US Dollar|          Cash|            0|\n",
      "|2022/09/01 00:07|       70|10042B660|     20|80014EC60|      101581.08|         US Dollar|     101581.08|       US Dollar|        Cheque|            0|\n",
      "|2022/09/01 00:24|       70|10042B660|     20|80014EC60|       21818.29|         US Dollar|      21818.29|       US Dollar|   Credit Card|            0|\n",
      "|2022/09/01 00:01|       70|10042B660|     20|80014EC60|        5229.74|         US Dollar|       5229.74|       US Dollar|          Cash|            0|\n",
      "|2022/09/01 00:02|       20|80014EC60|     20|80014EC60|          21.88|         US Dollar|         21.88|       US Dollar|  Reinvestment|            0|\n",
      "|2022/09/01 00:22|       20|800115330|   1231|80014F600|        4198.57|         US Dollar|       4198.57|       US Dollar|   Credit Card|            0|\n",
      "|2022/09/01 00:22|       20|800115330|   1231|80014F600|        3876.65|         US Dollar|       3876.65|       US Dollar|           ACH|            0|\n",
      "|2022/09/01 00:29|      224|800150160|    224|800150160|     2639245.05|         US Dollar|    2639245.05|       US Dollar|  Reinvestment|            0|\n",
      "|2022/09/01 00:19|       70|10042B660|    224|800150160|        2333.81|         US Dollar|       2333.81|       US Dollar|        Cheque|            0|\n",
      "|2022/09/01 00:17|       70|10042B660|    224|800150160|        3408.97|         US Dollar|       3408.97|       US Dollar|   Credit Card|            0|\n",
      "|2022/09/01 00:03|       70|10042B660|    224|800150160|       11763.12|         US Dollar|      11763.12|       US Dollar|          Cash|            0|\n",
      "|2022/09/01 00:09|        1|8000F8F10|   1217|800150A40|        1543.94|         US Dollar|       1543.94|       US Dollar|        Cheque|            0|\n",
      "|2022/09/01 00:02|        1|8000F8F10|   1217|800150A40|        3603.57|         US Dollar|       3603.57|       US Dollar|   Credit Card|            0|\n",
      "|2022/09/01 00:13|       11|800151650|     11|800151650|          20.31|         US Dollar|         20.31|       US Dollar|  Reinvestment|            0|\n",
      "|2022/09/01 00:18|       20|800150FB0|     20|800150FB0|     4932858.46|         US Dollar|    4932858.46|       US Dollar|  Reinvestment|            0|\n",
      "|2022/09/01 00:18|     1217|800151B40|   1217|800151B40|          17.37|         US Dollar|         17.37|       US Dollar|  Reinvestment|            0|\n",
      "|2022/09/01 00:10|       11|80014BC40|     11|80014BC40|       41665.19|         US Dollar|      41665.19|       US Dollar|  Reinvestment|            0|\n",
      "|2022/09/01 00:13|       20|80014F060|     20|80014F060|         3994.6|         US Dollar|        3994.6|       US Dollar|  Reinvestment|            0|\n",
      "|2022/09/01 00:09|     1231|80014FB60|   1231|80014FB60|       32259.02|         US Dollar|      32259.02|       US Dollar|  Reinvestment|            0|\n",
      "|2022/09/01 00:24|     1231|8001507B0|   1231|8001507B0|        4924.79|         US Dollar|       4924.79|       US Dollar|  Reinvestment|            0|\n",
      "|2022/09/01 00:29|        1|800150CD0|      1|800150CD0|        4145.85|         US Dollar|       4145.85|       US Dollar|  Reinvestment|            0|\n",
      "|2022/09/01 00:16|     1217|800152270|   1217|800152270|        1696.88|         US Dollar|       1696.88|       US Dollar|  Reinvestment|            0|\n",
      "|2022/09/01 00:03|     3209|8001524A0|   3209|8001524A0|       36831.03|         US Dollar|      36831.03|       US Dollar|  Reinvestment|            0|\n",
      "|2022/09/01 00:14|        1|80014BCE0| 162822|81796A8B0|         140.16|         US Dollar|        140.16|       US Dollar|   Credit Card|            0|\n",
      "|2022/09/01 00:29|       20|80014C240| 113213|8063E8F00|          99.83|         US Dollar|         99.83|       US Dollar|   Credit Card|            0|\n",
      "|2022/09/01 00:13|       20|80014F060|     20|80014F060|          18.78|         US Dollar|         18.78|       US Dollar|  Reinvestment|            0|\n",
      "|2022/09/01 00:28|     1217|80014FBB0|   1217|80014FBB0|           7.13|         US Dollar|          7.13|       US Dollar|  Reinvestment|            0|\n",
      "|2022/09/01 00:13|     1217|800153F80|   1217|800153F80|       11331.19|         US Dollar|      11331.19|       US Dollar|  Reinvestment|            0|\n",
      "|2022/09/01 00:15|       20|80005A340|     11|800153F30|       12733.24|         US Dollar|      12733.24|       US Dollar|        Cheque|            0|\n",
      "|2022/09/01 00:23|       20|80005A340|     11|800153F30|        2963.63|         US Dollar|       2963.63|       US Dollar|   Credit Card|            0|\n",
      "|2022/09/01 00:06|       20|80005A340|     11|800153F30|          538.9|         US Dollar|         538.9|       US Dollar|          Cash|            0|\n",
      "|2022/09/01 00:04|       20|80005A340|     11|800153F30|          87.54|         US Dollar|         87.54|       US Dollar|           ACH|            0|\n",
      "|2022/09/01 00:29|      224|800154370|    224|800154370|           24.5|         US Dollar|          24.5|       US Dollar|  Reinvestment|            0|\n",
      "|2022/09/01 00:12|     1217|800154E90|   1217|800154E90|       47852.43|         US Dollar|      47852.43|       US Dollar|  Reinvestment|            0|\n",
      "|2022/09/01 00:22|       12|80013D3E0|   1217|800154E90|       14412.91|         US Dollar|      14412.91|       US Dollar|        Cheque|            0|\n",
      "|2022/09/01 00:01|       12|80013D3E0|   1217|800154E90|        7040.67|         US Dollar|       7040.67|       US Dollar|   Credit Card|            0|\n",
      "|2022/09/01 00:07|       12|80013D3E0|   1217|800154E90|         158.56|         US Dollar|        158.56|       US Dollar|          Cash|            0|\n",
      "|2022/09/01 00:04|      224|8001554D0|    224|8001554D0|        7889.44|         US Dollar|       7889.44|       US Dollar|  Reinvestment|            0|\n",
      "|2022/09/01 00:22|     3245|80013A7B0|      1|8001378C0|       23643.27|         US Dollar|      23643.27|       US Dollar|           ACH|            0|\n",
      "|2022/09/01 00:05|       20|80014A850|     20|80014A850|        2738.86|         US Dollar|       2738.86|       US Dollar|  Reinvestment|            0|\n",
      "|2022/09/01 00:23|     3209|80014AAD0|   3209|80014AAD0|        3311.15|         US Dollar|       3311.15|       US Dollar|  Reinvestment|            0|\n",
      "|2022/09/01 00:27|     3258|800153AC0|   3258|800153AC0|        2797.66|         US Dollar|       2797.66|       US Dollar|  Reinvestment|            0|\n",
      "|2022/09/01 00:27|      224|8001547E0|    224|8001547E0|         122.74|         US Dollar|        122.74|       US Dollar|  Reinvestment|            0|\n",
      "|2022/09/01 00:09|     3252|800154920|   3252|800154920|       20546.69|         US Dollar|      20546.69|       US Dollar|  Reinvestment|            0|\n",
      "|2022/09/01 00:17|       12|800154970|     12|800154970|        3419.55|         US Dollar|       3419.55|       US Dollar|  Reinvestment|            0|\n",
      "|2022/09/01 00:03|     1231|800154BF0|   1231|800154BF0|         545.55|         US Dollar|        545.55|       US Dollar|  Reinvestment|            0|\n",
      "|2022/09/01 00:18|     3235|800155720|   3235|800155720|         658.22|         US Dollar|        658.22|       US Dollar|  Reinvestment|            0|\n",
      "|2022/09/01 00:10|       20|80013A8F0|     20|80013A8F0|          18.01|         US Dollar|         18.01|       US Dollar|  Reinvestment|            0|\n",
      "|2022/09/01 00:16|       20|80013AD80| 226624|80ADDEA90|           5.35|         US Dollar|          5.35|       US Dollar|   Credit Card|            0|\n",
      "|2022/09/01 00:19|       20|80014AE90|     20|80014AE90|          15.59|         US Dollar|         15.59|       US Dollar|  Reinvestment|            0|\n",
      "|2022/09/01 00:12|      224|8001547E0|    224|8001547E0|          13.36|         US Dollar|         13.36|       US Dollar|  Reinvestment|            0|\n",
      "|2022/09/01 00:23|     1231|800157000|   1231|800157000|        2062.64|         US Dollar|       2062.64|       US Dollar|  Reinvestment|            0|\n",
      "|2022/09/01 00:08|     1217|800157140|   1217|800157140|        9796.65|         US Dollar|       9796.65|       US Dollar|  Reinvestment|            0|\n",
      "|2022/09/01 00:09|     1231|8001571E0|   1231|8001571E0|        3049.23|         US Dollar|       3049.23|       US Dollar|  Reinvestment|            0|\n",
      "|2022/09/01 00:18|     1231|800157000|   1231|800157000|          12.74|         US Dollar|         12.74|       US Dollar|  Reinvestment|            0|\n",
      "|2022/09/01 00:25|       20|800157050|     20|800157050|           18.1|         US Dollar|          18.1|       US Dollar|  Reinvestment|            0|\n",
      "|2022/09/01 00:26|     1217|800157140|   1217|800157140|           6.71|         US Dollar|          6.71|       US Dollar|  Reinvestment|            0|\n",
      "|2022/09/01 00:10|       20|800157910|   1231|8001578C0|      3913818.0|         US Dollar|     3913818.0|       US Dollar|           ACH|            0|\n",
      "|2022/09/01 00:10|       11|800136600|     11|800136600|           6.59|         US Dollar|          6.59|       US Dollar|  Reinvestment|            0|\n",
      "|2022/09/01 00:12|     1231|8001578C0| 223057|80D9FB240|          30.33|         US Dollar|         30.33|       US Dollar|   Credit Card|            0|\n",
      "|2022/09/01 00:16|        1|800159AD0|      1|800159AD0|       64174.53|         US Dollar|      64174.53|       US Dollar|  Reinvestment|            0|\n",
      "|2022/09/01 00:10|       20|80015A0A0|     20|80015A0A0|       22348.77|         US Dollar|      22348.77|       US Dollar|  Reinvestment|            0|\n",
      "|2022/09/01 00:16|        1|80010FA00|     20|80015A0A0|      107064.45|         US Dollar|     107064.45|       US Dollar|        Cheque|            0|\n",
      "|2022/09/01 00:17|        1|80010FA00|     20|80015A0A0|       19156.32|         US Dollar|      19156.32|       US Dollar|   Credit Card|            0|\n",
      "|2022/09/01 00:13|        1|80010FA00|     20|80015A0A0|      357832.49|         US Dollar|     357832.49|       US Dollar|          Cash|            0|\n",
      "|2022/09/01 00:03|        1|80010FA00|     20|80015A0A0|       28937.63|         US Dollar|      28937.63|       US Dollar|           ACH|            0|\n",
      "|2022/09/01 00:07|     1231|80015AB30|   1231|80015AB30|        43939.3|         US Dollar|       43939.3|       US Dollar|  Reinvestment|            0|\n",
      "|2022/09/01 00:17|       20|800110060|     20|800110060|          23.32|         US Dollar|         23.32|       US Dollar|  Reinvestment|            0|\n",
      "|2022/09/01 00:06|       20|80015B9D0|     20|80015B9D0|      362789.86|         US Dollar|     362789.86|       US Dollar|  Reinvestment|            0|\n",
      "|2022/09/01 00:06|       12|8001596C0|     12|8001596C0|        5543.61|         US Dollar|       5543.61|       US Dollar|  Reinvestment|            0|\n",
      "|2022/09/01 00:23|       12|800159710|     12|800159710|        3730.41|         US Dollar|       3730.41|       US Dollar|  Reinvestment|            0|\n",
      "|2022/09/01 00:11|     1217|80015A3B0|   1217|80015A3B0|         212.52|         US Dollar|        212.52|       US Dollar|  Reinvestment|            0|\n",
      "|2022/09/01 00:00|       20|8001595D0|     20|8001595D0|           6.02|         US Dollar|          6.02|       US Dollar|  Reinvestment|            0|\n",
      "|2022/09/01 00:28|       20|8001598E0|     20|8001598E0|           16.8|         US Dollar|          16.8|       US Dollar|  Reinvestment|            0|\n",
      "|2022/09/01 00:20|       11|80015A6D0|     11|80015A6D0|          24.68|         US Dollar|         24.68|       US Dollar|  Reinvestment|            0|\n",
      "|2022/09/01 00:27|     1217|800159170|   1217|800159170|      122600.45|         US Dollar|     122600.45|       US Dollar|  Reinvestment|            0|\n",
      "|2022/09/01 00:21|        1|8001591C0|      1|8001591C0|          22.08|         US Dollar|         22.08|       US Dollar|  Reinvestment|            0|\n",
      "|2022/09/01 00:04|     1231|80015C9F0|   1231|80015C9F0|     1294876.87|         US Dollar|    1294876.87|       US Dollar|  Reinvestment|            0|\n",
      "|2022/09/01 00:22|       20|800043DA0|   1231|80015C9F0|        8354.01|         US Dollar|       8354.01|       US Dollar|        Cheque|            0|\n",
      "|2022/09/01 00:13|       20|800043DA0|   1231|80015C9F0|       12899.84|         US Dollar|      12899.84|       US Dollar|   Credit Card|            0|\n",
      "|2022/09/01 00:15|       20|800043DA0|   1231|80015C9F0|        8856.69|         US Dollar|       8856.69|       US Dollar|          Cash|            0|\n",
      "|2022/09/01 00:05|      224|80015E880|    224|80015E880|          20.75|         US Dollar|         20.75|       US Dollar|  Reinvestment|            0|\n",
      "|2022/09/01 00:02|       20|80015EFB0|     20|80015EFB0|           5.55|         US Dollar|          5.55|       US Dollar|  Reinvestment|            0|\n",
      "|2022/09/01 00:24|        1|80015FCE0|      1|80015FCE0|      335784.91|         US Dollar|     335784.91|       US Dollar|  Reinvestment|            0|\n",
      "|2022/09/01 00:24|       20|800160280|     20|800160280|        5923.11|         US Dollar|       5923.11|       US Dollar|  Reinvestment|            0|\n",
      "|2022/09/01 00:22|       20|8001608A0|     20|8001608A0|          23.66|         US Dollar|         23.66|       US Dollar|  Reinvestment|            0|\n",
      "|2022/09/01 00:15|       20|8000563E0|      1|800161620|         833.56|         US Dollar|        833.56|       US Dollar|        Cheque|            0|\n",
      "|2022/09/01 00:13|       20|8000563E0|      1|800161620|        1726.29|         US Dollar|       1726.29|       US Dollar|   Credit Card|            0|\n",
      "|2022/09/01 00:13|       11|800161E40|     11|800161E40|        4283.86|         US Dollar|       4283.86|       US Dollar|  Reinvestment|            0|\n",
      "|2022/09/01 00:18|       12|800160E70|     12|800160E70|     2592836.13|         US Dollar|    2592836.13|       US Dollar|  Reinvestment|            0|\n",
      "|2022/09/01 00:06|        1|800161140|      1|800161140|         850.71|         US Dollar|        850.71|       US Dollar|  Reinvestment|            0|\n",
      "|2022/09/01 00:12|        1|800161140|      1|800161140|           10.2|         US Dollar|          10.2|       US Dollar|  Reinvestment|            0|\n",
      "|2022/09/01 00:08|       20|800161370|     20|800161370|           5.57|         US Dollar|          5.57|       US Dollar|  Reinvestment|            0|\n",
      "|2022/09/01 00:14|     1291|800162820|   1291|800162820|      111584.95|         US Dollar|     111584.95|       US Dollar|  Reinvestment|            0|\n",
      "|2022/09/01 00:24|       20|8001643F0|     20|8001643F0|      101544.24|         US Dollar|     101544.24|       US Dollar|  Reinvestment|            0|\n",
      "|2022/09/01 00:28|      224|80015F740|    224|80015F740|        9431.19|         US Dollar|       9431.19|       US Dollar|  Reinvestment|            0|\n",
      "|2022/09/01 00:06|      224|800162E50|    224|800162E50|         2975.7|         US Dollar|        2975.7|       US Dollar|  Reinvestment|            0|\n",
      "|2022/09/01 00:28|     1231|800162EA0|   1231|800162EA0|        6997.86|         US Dollar|       6997.86|       US Dollar|  Reinvestment|            0|\n",
      "|2022/09/01 00:29|     3208|800164780|   3208|800164780|          805.5|         US Dollar|         805.5|       US Dollar|  Reinvestment|            0|\n",
      "|2022/09/01 00:07|        1|8001649A0|      1|8001649A0|       33231.87|         US Dollar|      33231.87|       US Dollar|  Reinvestment|            0|\n",
      "|2022/09/01 00:19|       12|80015E0E0| 114954|80B6D3F70|           2.01|         US Dollar|          2.01|       US Dollar|   Credit Card|            0|\n",
      "|2022/09/01 00:17|       20|80015F7E0|     20|80015F7E0|           5.64|         US Dollar|          5.64|       US Dollar|  Reinvestment|            0|\n",
      "|2022/09/01 00:06|       20|80015FA50|     20|80015FA50|           4.38|         US Dollar|          4.38|       US Dollar|  Reinvestment|            0|\n",
      "|2022/09/01 00:18|      224|800162E50|    224|800162E50|          15.22|         US Dollar|         15.22|       US Dollar|  Reinvestment|            0|\n",
      "|2022/09/01 00:16|     1231|800162EA0|   1231|800162EA0|           9.45|         US Dollar|          9.45|       US Dollar|  Reinvestment|            0|\n",
      "|2022/09/01 00:15|        1|800163C40| 148288|81527DA70|         134.32|         US Dollar|        134.32|       US Dollar|   Credit Card|            0|\n",
      "|2022/09/01 00:03|     1291|800166340|   1291|800166340|       72839.67|         US Dollar|      72839.67|       US Dollar|  Reinvestment|            0|\n",
      "|2022/09/01 00:19|      224|800123C30|    224|800123C30|       36306.62|         US Dollar|      36306.62|       US Dollar|  Reinvestment|            0|\n",
      "|2022/09/01 00:08|       20|800124E20|     20|800124E20|        4795.52|         US Dollar|       4795.52|       US Dollar|  Reinvestment|            0|\n",
      "|2022/09/01 00:06|       12|800134CA0|     12|800134CA0|        5994.78|         US Dollar|       5994.78|       US Dollar|  Reinvestment|            0|\n",
      "|2022/09/01 00:23|     3252|800135650|   3252|800135650|        2764.63|         US Dollar|       2764.63|       US Dollar|  Reinvestment|            0|\n",
      "|2022/09/01 00:25|       20|800135820|     20|800135820|         190.89|         US Dollar|        190.89|       US Dollar|  Reinvestment|            0|\n",
      "|2022/09/01 00:11|     1231|800157ED0|   1231|800157ED0|         618.58|         US Dollar|        618.58|       US Dollar|  Reinvestment|            0|\n",
      "|2022/09/01 00:09|     1231|8001582E0|   1231|8001582E0|        1789.56|         US Dollar|       1789.56|       US Dollar|  Reinvestment|            0|\n",
      "|2022/09/01 00:18|       12|800166100|     12|800166100|       92644.88|         US Dollar|      92644.88|       US Dollar|  Reinvestment|            0|\n",
      "|2022/09/01 00:26|       12|8001240D0|     12|8001240D0|           9.25|         US Dollar|          9.25|       US Dollar|  Reinvestment|            0|\n",
      "|2022/09/01 00:19|       12|800134CA0|     12|800134CA0|          17.58|         US Dollar|         17.58|       US Dollar|  Reinvestment|            0|\n",
      "|2022/09/01 00:02|       20|800135820|     20|800135820|           7.03|         US Dollar|          7.03|       US Dollar|  Reinvestment|            0|\n",
      "|2022/09/01 00:18|     1231|800135870|   1231|800135870|           4.78|         US Dollar|          4.78|       US Dollar|  Reinvestment|            0|\n",
      "|2022/09/01 00:01|     1231|800157E80| 210700|809DEDD20|           15.9|         US Dollar|          15.9|       US Dollar|   Credit Card|            0|\n",
      "|2022/09/01 00:24|       12|800166100|     12|800166100|          20.93|         US Dollar|         20.93|       US Dollar|  Reinvestment|            0|\n",
      "|2022/09/01 00:00|       20|8001685D0|     20|8001685D0|          17.07|         US Dollar|         17.07|       US Dollar|  Reinvestment|            0|\n",
      "|2022/09/01 00:26|       11|800168BC0|     11|800168BC0|         2361.1|         US Dollar|        2361.1|       US Dollar|  Reinvestment|            0|\n",
      "|2022/09/01 00:12|       20|800169BE0|     20|800169BE0|      556791.12|         US Dollar|     556791.12|       US Dollar|  Reinvestment|            0|\n",
      "|2022/09/01 00:28|        1|80016A050|      1|80016A050|      252131.39|         US Dollar|     252131.39|       US Dollar|  Reinvestment|            0|\n",
      "|2022/09/01 00:15|       20|80016A780|     20|80016A780|         345.65|         US Dollar|        345.65|       US Dollar|  Reinvestment|            0|\n",
      "|2022/09/01 00:28|       20|8001696B0|     20|8001696B0|  1.370181144E7|         US Dollar| 1.370181144E7|       US Dollar|  Reinvestment|            0|\n",
      "|2022/09/01 00:17|       20|80016ABC0|     20|80016ABC0|        1970.89|         US Dollar|       1970.89|       US Dollar|  Reinvestment|            0|\n",
      "|2022/09/01 00:24|     3245|80016AD50|     11|800169930|        8323.55|         US Dollar|       8323.55|       US Dollar|        Cheque|            0|\n",
      "|2022/09/01 00:00|      224|80016B550|    224|80016B550|       11387.61|         US Dollar|      11387.61|       US Dollar|  Reinvestment|            0|\n",
      "|2022/09/01 00:13|        1|800169890| 228752|80B46C8D0|           6.85|         US Dollar|          6.85|       US Dollar|   Credit Card|            0|\n",
      "|2022/09/01 00:06|     3263|80016C520|   3263|80016C520|         442.36|         US Dollar|        442.36|       US Dollar|  Reinvestment|            0|\n",
      "|2022/09/01 00:23|       11|800169320|     11|800169320|      722804.03|         US Dollar|     722804.03|       US Dollar|  Reinvestment|            0|\n",
      "|2022/09/01 00:18|        1|80016C830|      1|80016C830|        14925.9|         US Dollar|       14925.9|       US Dollar|  Reinvestment|            0|\n",
      "|2022/09/01 00:06|       20|80016D940|     20|80016D940|           6.97|         US Dollar|          6.97|       US Dollar|  Reinvestment|            0|\n",
      "|2022/09/01 00:11|     1231|8001708D0|   1231|8001708D0|           7.09|         US Dollar|          7.09|       US Dollar|  Reinvestment|            0|\n",
      "|2022/09/01 00:14|       11|8000FA930|     11|800170CB0|      600096.08|         US Dollar|     600096.08|       US Dollar|        Cheque|            0|\n",
      "|2022/09/01 00:28|       11|8000FA930|     11|800170CB0|       28231.31|         US Dollar|      28231.31|       US Dollar|   Credit Card|            0|\n",
      "|2022/09/01 00:03|       11|8000FA930|     11|800170CB0|       31972.56|         US Dollar|      31972.56|       US Dollar|           ACH|            0|\n",
      "|2022/09/01 00:05|       11|8001704D0|     11|8001704D0|        7085.32|         US Dollar|       7085.32|       US Dollar|  Reinvestment|            0|\n",
      "|2022/09/01 00:28|     1231|800170AC0|   1231|800170AC0|        9427.65|         US Dollar|       9427.65|       US Dollar|  Reinvestment|            0|\n",
      "|2022/09/01 00:03|     1291|800170340|   1291|800170340|           13.4|         US Dollar|          13.4|       US Dollar|  Reinvestment|            0|\n",
      "|2022/09/01 00:01|       12|800115B90|     20|8001719A0|       16601.29|         US Dollar|      16601.29|       US Dollar|        Cheque|            0|\n",
      "|2022/09/01 00:14|       12|800115B90|     20|8001719A0|        9071.46|         US Dollar|       9071.46|       US Dollar|   Credit Card|            0|\n",
      "|2022/09/01 00:19|     1291|80016F9A0|   1291|80016F9A0|        8248.39|         US Dollar|       8248.39|       US Dollar|  Reinvestment|            0|\n",
      "|2022/09/01 00:21|     3278|800171BF0|   3278|800171BF0|       38642.58|         US Dollar|      38642.58|       US Dollar|  Reinvestment|            0|\n",
      "|2022/09/01 00:19|     1217|800171C40|   1217|800171C40|       10718.94|         US Dollar|      10718.94|       US Dollar|  Reinvestment|            0|\n",
      "|2022/09/01 00:19|      224|80016F860|    224|80016F860|          20.34|         US Dollar|         20.34|       US Dollar|  Reinvestment|            0|\n",
      "|2022/09/01 00:03|     1291|80016F9A0|   1291|80016F9A0|          15.53|         US Dollar|         15.53|       US Dollar|  Reinvestment|            0|\n",
      "|2022/09/01 00:15|        1|80016F9F0|   1439|801533E70|          37.62|         US Dollar|         37.62|       US Dollar|   Credit Card|            0|\n",
      "|2022/09/01 00:20|     1231|800172950|   1231|800172950|      100475.67|         US Dollar|     100475.67|       US Dollar|  Reinvestment|            0|\n",
      "|2022/09/01 00:08|       20|800173570|     20|800173570|          16.38|         US Dollar|         16.38|       US Dollar|  Reinvestment|            0|\n",
      "|2022/09/01 00:23|       20|800173CC0|     20|800173CC0|         189.23|         US Dollar|        189.23|       US Dollar|  Reinvestment|            0|\n",
      "|2022/09/01 00:13|       12|800173C20|     12|800173C20|          18.28|         US Dollar|         18.28|       US Dollar|  Reinvestment|            0|\n",
      "|2022/09/01 00:11|       12|8001744F0|     12|8001744F0|          16.32|         US Dollar|         16.32|       US Dollar|  Reinvestment|            0|\n",
      "|2022/09/01 00:14|     1291|8001755E0|   1291|8001755E0|       69951.62|         US Dollar|      69951.62|       US Dollar|  Reinvestment|            0|\n",
      "|2022/09/01 00:27|     1291|8001755E0|   1291|8001755E0|          10.02|         US Dollar|         10.02|       US Dollar|  Reinvestment|            0|\n",
      "|2022/09/01 00:24|       11|800174F90|     11|800174F90|        5138.45|         US Dollar|       5138.45|       US Dollar|  Reinvestment|            0|\n",
      "|2022/09/01 00:19|     3245|800175080|   3245|800175080|        10061.1|         US Dollar|       10061.1|       US Dollar|  Reinvestment|            0|\n",
      "|2022/09/01 00:25|     3290|800175210|     11|800174F90|       13845.55|         US Dollar|      13845.55|       US Dollar|          Wire|            0|\n",
      "|2022/09/01 00:27|     1217|800177AC0|   1217|800177AC0|        4923.28|         US Dollar|       4923.28|       US Dollar|  Reinvestment|            0|\n",
      "|2022/09/01 00:11|       11|8001776D0|     11|8001776D0|     1080892.14|         US Dollar|    1080892.14|       US Dollar|  Reinvestment|            0|\n",
      "|2022/09/01 00:23|       20|800177720|     20|800177720|       45036.18|         US Dollar|      45036.18|       US Dollar|  Reinvestment|            0|\n",
      "|2022/09/01 00:24|       20|800178120|     20|800178120|      169264.12|         US Dollar|     169264.12|       US Dollar|  Reinvestment|            0|\n",
      "|2022/09/01 00:05|     1217|8001784C0|   1217|8001784C0|          14.26|         US Dollar|         14.26|       US Dollar|  Reinvestment|            0|\n",
      "|2022/09/01 00:06|      224|800178B30|    224|800178B30|       24090.17|         US Dollar|      24090.17|       US Dollar|  Reinvestment|            0|\n",
      "|2022/09/01 00:23|       12|8001788F0|     12|8001788F0|          19.83|         US Dollar|         19.83|       US Dollar|  Reinvestment|            0|\n",
      "|2022/09/01 00:25|     1217|8001793F0|   1217|8001793F0|           9.37|         US Dollar|          9.37|       US Dollar|  Reinvestment|            0|\n",
      "|2022/09/01 00:21|     1217|800179DF0|   1217|800179DF0|     3653729.14|         US Dollar|    3653729.14|       US Dollar|  Reinvestment|            0|\n",
      "|2022/09/01 00:08|        1|80017A190|      1|80017A190|        8130.33|         US Dollar|       8130.33|       US Dollar|  Reinvestment|            0|\n",
      "|2022/09/01 00:28|       20|80017A020|  10416|80CAD1270|            6.7|         US Dollar|           6.7|       US Dollar|   Credit Card|            0|\n",
      "|2022/09/01 00:07|     1231|800179A90|   1231|800179A90|       177735.6|         US Dollar|      177735.6|       US Dollar|  Reinvestment|            0|\n",
      "|2022/09/01 00:29|     1231|800179B80|   1231|800179B80|        52827.8|         US Dollar|       52827.8|       US Dollar|  Reinvestment|            0|\n",
      "|2022/09/01 00:14|       11|80017AAE0|     11|80017AAE0|       54322.22|         US Dollar|      54322.22|       US Dollar|  Reinvestment|            0|\n",
      "|2022/09/01 00:16|       20|800179890|     20|800179890|           13.5|         US Dollar|          13.5|       US Dollar|  Reinvestment|            0|\n",
      "|2022/09/01 00:15|      224|80016CD90|    224|80016CD90|        2262.81|         US Dollar|       2262.81|       US Dollar|  Reinvestment|            0|\n",
      "|2022/09/01 00:05|     1291|80016D220|   1291|80016D220|        1584.66|         US Dollar|       1584.66|       US Dollar|  Reinvestment|            0|\n",
      "|2022/09/01 00:11|        1|8001737E0|      1|8001737E0|        2291.49|         US Dollar|       2291.49|       US Dollar|  Reinvestment|            0|\n",
      "|2022/09/01 00:01|     1231|800174CB0|   1231|800174CB0|      373792.19|         US Dollar|     373792.19|       US Dollar|  Reinvestment|            0|\n",
      "|2022/09/01 00:14|     3273|80017B0D0|   3273|80017B0D0|          908.1|         US Dollar|         908.1|       US Dollar|  Reinvestment|            0|\n",
      "|2022/09/01 00:13|        1|800121280|  22129|80452AB90|          37.27|         US Dollar|         37.27|       US Dollar|   Credit Card|            0|\n",
      "|2022/09/01 00:11|        1|80016CCF0|      1|80016CCF0|           7.37|         US Dollar|          7.37|       US Dollar|  Reinvestment|            0|\n",
      "|2022/09/01 00:26|     1291|80016D220|   1291|80016D220|           3.85|         US Dollar|          3.85|       US Dollar|  Reinvestment|            0|\n",
      "|2022/09/01 00:01|       20|80016F460|     20|80016F460|           7.23|         US Dollar|          7.23|       US Dollar|  Reinvestment|            0|\n",
      "|2022/09/01 00:24|     1231|8001738D0|   1231|8001738D0|          14.47|         US Dollar|         14.47|       US Dollar|  Reinvestment|            0|\n",
      "|2022/09/01 00:17|     1231|800174C60|   1231|800174C60|           7.46|         US Dollar|          7.46|       US Dollar|  Reinvestment|            0|\n",
      "|2022/09/01 00:02|     1291|80017AF40|   1291|80017AF40|           22.0|         US Dollar|          22.0|       US Dollar|  Reinvestment|            0|\n",
      "|2022/09/01 00:05|       20|80017AF90|     20|80017AF90|          10.85|         US Dollar|         10.85|       US Dollar|  Reinvestment|            0|\n",
      "|2022/09/01 00:05|      224|800114030|    224|800114030|       43570.13|         US Dollar|      43570.13|       US Dollar|  Reinvestment|            0|\n",
      "|2022/09/01 00:08|       20|800058E50|    224|800114030|       37679.68|         US Dollar|      37679.68|       US Dollar|          Cash|            0|\n",
      "|2022/09/01 00:21|       20|800058E50|    224|800114030|       69342.95|         US Dollar|      69342.95|       US Dollar|          Wire|            0|\n",
      "|2022/09/01 00:03|     1231|800180670|   1231|800180670|     4144260.78|         US Dollar|    4144260.78|       US Dollar|  Reinvestment|            0|\n",
      "|2022/09/01 00:27|     3200|8001808E0|   3200|8001808E0|           8.42|         US Dollar|          8.42|       US Dollar|  Reinvestment|            0|\n",
      "|2022/09/01 00:08|       11|8000ED820|   1231|800180670|      448779.14|         US Dollar|     448779.14|       US Dollar|        Cheque|            0|\n",
      "|2022/09/01 00:17|       11|8000ED820|   1231|800180670|        2248.61|         US Dollar|       2248.61|       US Dollar|   Credit Card|            0|\n",
      "|2022/09/01 00:25|       11|8000ED820|   1231|800180670|      200289.36|         US Dollar|     200289.36|       US Dollar|          Cash|            0|\n",
      "|2022/09/01 00:18|       11|8000ED820|   1231|800180670|      124091.92|         US Dollar|     124091.92|       US Dollar|           ACH|            0|\n",
      "|2022/09/01 00:08|       11|8000ED820|   1231|800180670|       16800.67|         US Dollar|      16800.67|       US Dollar|          Wire|            0|\n",
      "|2022/09/01 00:11|     1231|8001816D0|   1231|8001816D0|     1782869.27|         US Dollar|    1782869.27|       US Dollar|  Reinvestment|            0|\n",
      "|2022/09/01 00:07|       20|800180370|     20|800180370|     1185403.01|         US Dollar|    1185403.01|       US Dollar|  Reinvestment|            0|\n",
      "|2022/09/01 00:14|       20|800180370|   1217|8001813F0|     5574372.63|         US Dollar|    5574372.63|       US Dollar|           ACH|            0|\n",
      "|2022/09/01 00:11|      224|8001814E0|    224|8001814E0|       25082.23|         US Dollar|      25082.23|       US Dollar|  Reinvestment|            0|\n",
      "|2022/09/01 00:14|     1217|8001813F0|    349|800914EA0|          48.63|         US Dollar|         48.63|       US Dollar|   Credit Card|            0|\n",
      "|2022/09/01 00:22|     1291|800181970|  22435|805FB0930|          18.67|         US Dollar|         18.67|       US Dollar|   Credit Card|            0|\n",
      "|2022/09/01 00:08|       20|8001685D0|     11|8001800C0|       22464.72|         US Dollar|      22464.72|       US Dollar|        Cheque|            0|\n",
      "|2022/09/01 00:17|        1|800182720|      1|800182720|          21.34|         US Dollar|         21.34|       US Dollar|  Reinvestment|            0|\n",
      "|2022/09/01 00:13|       70|10042B660|     20|800183110|        1190.81|         US Dollar|       1190.81|       US Dollar|        Cheque|            0|\n",
      "|2022/09/01 00:20|       70|10042B660|     20|800183110|        5422.57|         US Dollar|       5422.57|       US Dollar|   Credit Card|            0|\n",
      "|2022/09/01 00:28|       20|800183110|     20|800183110|          20.06|         US Dollar|         20.06|       US Dollar|  Reinvestment|            0|\n",
      "|2022/09/01 00:18|       20|8000581F0|      1|800183FE0|        39073.9|         US Dollar|       39073.9|       US Dollar|        Cheque|            0|\n",
      "|2022/09/01 00:17|       20|8000581F0|      1|800183FE0|        9820.21|         US Dollar|       9820.21|       US Dollar|   Credit Card|            0|\n",
      "|2022/09/01 00:09|     3266|80017CBE0|   3266|80017CBE0|       17501.48|         US Dollar|      17501.48|       US Dollar|  Reinvestment|            0|\n",
      "|2022/09/01 00:16|     3200|80017DCF0|   3200|80017DCF0|        1237.78|         US Dollar|       1237.78|       US Dollar|  Reinvestment|            0|\n",
      "|2022/09/01 00:28|        1|80010CD00|      1|80010CD00|           9.86|         US Dollar|          9.86|       US Dollar|  Reinvestment|            0|\n",
      "|2022/09/01 00:20|      224|80010EE50|  22661|8047EF1B0|          66.45|         US Dollar|         66.45|       US Dollar|   Credit Card|            0|\n",
      "|2022/09/01 00:13|       11|800186390|     11|800186390|        6945.38|         US Dollar|       6945.38|       US Dollar|  Reinvestment|            0|\n",
      "|2022/09/01 00:10|       11|800186390|     11|800186390|          17.34|         US Dollar|         17.34|       US Dollar|  Reinvestment|            0|\n",
      "|2022/09/01 00:08|       11|800186A30|     11|800186A30|      237468.36|         US Dollar|     237468.36|       US Dollar|  Reinvestment|            0|\n",
      "|2022/09/01 00:17|       11|800185770|     11|800185770|        8285.33|         US Dollar|       8285.33|       US Dollar|  Reinvestment|            0|\n",
      "|2022/09/01 00:13|       12|8001867F0|     12|8001867F0|          654.0|         US Dollar|         654.0|       US Dollar|  Reinvestment|            0|\n",
      "|2022/09/01 00:08|       12|800186F10|     12|800186F10|           9.92|         US Dollar|          9.92|       US Dollar|  Reinvestment|            0|\n",
      "|2022/09/01 00:21|       11|8001875D0|     11|8001875D0|     2905200.25|         US Dollar|    2905200.25|       US Dollar|  Reinvestment|            0|\n",
      "|2022/09/01 00:09|       11|800187A60|     11|800187A60|        7179.36|         US Dollar|       7179.36|       US Dollar|  Reinvestment|            0|\n",
      "|2022/09/01 00:08|        1|800112570|      1|800112570|       14072.88|         US Dollar|      14072.88|       US Dollar|  Reinvestment|            0|\n",
      "|2022/09/01 00:19|       20|800189450|     20|800189450|      166634.61|         US Dollar|     166634.61|       US Dollar|  Reinvestment|            0|\n",
      "|2022/09/01 00:18|     3290|8001894F0|     20|800189450|        1541.27|         US Dollar|       1541.27|       US Dollar|           ACH|            0|\n",
      "|2022/09/01 00:24|       20|800189890|     20|800189890|     2785593.48|         US Dollar|    2785593.48|       US Dollar|  Reinvestment|            0|\n",
      "|2022/09/01 00:11|        1|800135360|   1217|8001125C0|      1505832.6|         US Dollar|     1505832.6|       US Dollar|        Cheque|            0|\n",
      "|2022/09/01 00:26|        1|800135360|   1217|8001125C0|       15507.82|         US Dollar|      15507.82|       US Dollar|   Credit Card|            0|\n",
      "|2022/09/01 00:04|        1|800135360|   1217|8001125C0|      203727.95|         US Dollar|     203727.95|       US Dollar|          Cash|            0|\n",
      "|2022/09/01 00:00|        1|800135360|   1217|8001125C0|      550989.26|         US Dollar|     550989.26|       US Dollar|           ACH|            0|\n",
      "|2022/09/01 00:22|        1|800135360|   1217|8001125C0|      415594.01|         US Dollar|     415594.01|       US Dollar|          Wire|            0|\n",
      "|2022/09/01 00:00|       20|8001887C0|     20|8001887C0|      346801.43|         US Dollar|     346801.43|       US Dollar|  Reinvestment|            0|\n",
      "|2022/09/01 00:19|       20|80018A190|     20|80018A190|      362690.52|         US Dollar|     362690.52|       US Dollar|  Reinvestment|            0|\n",
      "|2022/09/01 00:13|       20|80018A190|     20|80018A190|          22.16|         US Dollar|         22.16|       US Dollar|  Reinvestment|            0|\n",
      "|2022/09/01 00:11|     1217|80018AC80|   1217|80018AC80|       66936.27|         US Dollar|      66936.27|       US Dollar|  Reinvestment|            0|\n",
      "|2022/09/01 00:00|     1217|80018B2E0|   1217|80018B2E0|          24.65|         US Dollar|         24.65|       US Dollar|  Reinvestment|            0|\n",
      "|2022/09/01 00:04|       12|80018B720|     12|80018B720|     3313612.95|         US Dollar|    3313612.95|       US Dollar|  Reinvestment|            0|\n",
      "|2022/09/01 00:16|       12|80018B720|     12|80018B720|          21.92|         US Dollar|         21.92|       US Dollar|  Reinvestment|            0|\n",
      "|2022/09/01 00:15|       20|80018C4A0|     20|80018C4A0|      671443.16|         US Dollar|     671443.16|       US Dollar|  Reinvestment|            0|\n",
      "|2022/09/01 00:23|       11|80018C830|     11|80018C830|         267.69|         US Dollar|        267.69|       US Dollar|  Reinvestment|            0|\n",
      "|2022/09/01 00:16|      224|80018CB10|    224|80018CB10|       53794.01|         US Dollar|      53794.01|       US Dollar|  Reinvestment|            0|\n",
      "|2022/09/01 00:02|       70|10042B660|   1231|80018A810|        9725.97|         US Dollar|       9725.97|       US Dollar|        Cheque|            0|\n",
      "|2022/09/01 00:06|       70|10042B660|   1231|80018A810|       10895.97|         US Dollar|      10895.97|       US Dollar|   Credit Card|            0|\n",
      "|2022/09/01 00:22|       70|10042B660|   1231|80018A810|        7984.69|         US Dollar|       7984.69|       US Dollar|          Cash|            0|\n",
      "|2022/09/01 00:08|      224|80018CB10|    224|80018CB10|           3.58|         US Dollar|          3.58|       US Dollar|  Reinvestment|            0|\n",
      "|2022/09/01 00:10|     1217|80018D4A0|   1217|80018D4A0|     5001678.66|         US Dollar|    5001678.66|       US Dollar|  Reinvestment|            0|\n",
      "|2022/09/01 00:10|       20|80018DBF0|     20|80018DBF0|          24.68|         US Dollar|         24.68|       US Dollar|  Reinvestment|            0|\n",
      "|2022/09/01 00:18|       11|80018E610|     11|80018E610|        1165.09|         US Dollar|       1165.09|       US Dollar|  Reinvestment|            0|\n",
      "|2022/09/01 00:01|        1|80018FAF0|      1|80018FAF0|          18.15|         US Dollar|         18.15|       US Dollar|  Reinvestment|            0|\n",
      "|2022/09/01 00:24|      224|800114030|     11|800191640|       48790.03|         US Dollar|      48790.03|       US Dollar|        Cheque|            0|\n",
      "|2022/09/01 00:23|      224|800114030|     11|800191640|         4226.7|         US Dollar|        4226.7|       US Dollar|           ACH|            0|\n",
      "|2022/09/01 00:20|       11|800191640|     11|800191640|          18.71|         US Dollar|         18.71|       US Dollar|  Reinvestment|            0|\n",
      "|2022/09/01 00:00|      224|800191BC0|    224|800191BC0|       16962.69|         US Dollar|      16962.69|       US Dollar|  Reinvestment|            0|\n",
      "|2022/09/01 00:16|       20|800192300|     20|800192300|           3.51|         US Dollar|          3.51|       US Dollar|  Reinvestment|            0|\n",
      "|2022/09/01 00:03|       70|10042B660|    224|800192930|       78982.61|         US Dollar|      78982.61|       US Dollar|        Cheque|            0|\n",
      "|2022/09/01 00:27|       20|800193160|     20|800193160|      103467.32|         US Dollar|     103467.32|       US Dollar|  Reinvestment|            0|\n",
      "|2022/09/01 00:02|     1231|8001938C0|   1231|8001938C0|       39235.57|         US Dollar|      39235.57|       US Dollar|  Reinvestment|            0|\n",
      "|2022/09/01 00:18|     1217|800194B60|   1217|800194B60|      234464.03|         US Dollar|     234464.03|       US Dollar|  Reinvestment|            0|\n",
      "|2022/09/01 00:11|      224|800195010|    224|800195010|      138915.89|         US Dollar|     138915.89|       US Dollar|  Reinvestment|            0|\n",
      "|2022/09/01 00:16|     3264|800195980|   3264|800195980|           21.0|         US Dollar|          21.0|       US Dollar|  Reinvestment|            0|\n",
      "|2022/09/01 00:08|     1217|800194B60|   1217|800194B60|           5.66|         US Dollar|          5.66|       US Dollar|  Reinvestment|            0|\n",
      "|2022/09/01 00:16|       12|800194C00|     12|800194C00|           9.89|         US Dollar|          9.89|       US Dollar|  Reinvestment|            0|\n",
      "|2022/09/01 00:14|       12|800194DE0|  27155|804397DC0|           4.49|         US Dollar|          4.49|       US Dollar|   Credit Card|            0|\n",
      "|2022/09/01 00:28|     1231|800196940|   1231|800196940|  1.300414125E7|         US Dollar| 1.300414125E7|       US Dollar|  Reinvestment|            0|\n",
      "|2022/09/01 00:05|       20|800139570|     11|8001971E0|        8423.33|         US Dollar|       8423.33|       US Dollar|        Cheque|            0|\n",
      "|2022/09/01 00:09|       20|800139570|     11|8001971E0|        4480.42|         US Dollar|       4480.42|       US Dollar|   Credit Card|            0|\n",
      "|2022/09/01 00:15|       20|800139570|     11|8001971E0|         661.64|         US Dollar|        661.64|       US Dollar|           ACH|            0|\n",
      "|2022/09/01 00:04|       20|800139570|     11|8001971E0|        1225.75|         US Dollar|       1225.75|       US Dollar|          Wire|            0|\n",
      "|2022/09/01 00:10|     1291|8001978E0|   1291|8001978E0|          625.5|         US Dollar|         625.5|       US Dollar|  Reinvestment|            0|\n",
      "|2022/09/01 00:10|       12|8001976D0|     12|8001976D0|          11.54|         US Dollar|         11.54|       US Dollar|  Reinvestment|            0|\n",
      "|2022/09/01 00:02|       20|8001977C0|  28102|805CBDFD0|         437.71|         US Dollar|        437.71|       US Dollar|   Credit Card|            0|\n",
      "|2022/09/01 00:16|       11|800197E20|     11|800197E20|         588.67|         US Dollar|        588.67|       US Dollar|  Reinvestment|            0|\n",
      "|2022/09/01 00:17|       20|800197E70|     20|800197E70|        7582.15|         US Dollar|       7582.15|       US Dollar|  Reinvestment|            0|\n",
      "|2022/09/01 00:03|       11|800197E20|     11|800197E20|          24.94|         US Dollar|         24.94|       US Dollar|  Reinvestment|            0|\n",
      "|2022/09/01 00:00|       12|800198630|     12|800198630|           9.16|         US Dollar|          9.16|       US Dollar|  Reinvestment|            0|\n",
      "|2022/09/01 00:20|     3288|800194510|     20|800196480|        1803.47|         US Dollar|       1803.47|       US Dollar|           ACH|            0|\n",
      "|2022/09/01 00:01|       20|800196480|     20|800196480|        15689.7|         US Dollar|       15689.7|       US Dollar|  Reinvestment|            0|\n",
      "|2022/09/01 00:16|     3252|8001988A0|   3252|8001988A0|       16311.03|         US Dollar|      16311.03|       US Dollar|  Reinvestment|            0|\n",
      "|2022/09/01 00:16|       11|800199CC0|     11|800199CC0|        2587.75|         US Dollar|       2587.75|       US Dollar|  Reinvestment|            0|\n",
      "|2022/09/01 00:11|        1|8001A0FF0|      1|8001A0FF0|      678752.68|         US Dollar|     678752.68|       US Dollar|  Reinvestment|            0|\n",
      "|2022/09/01 00:04|        1|8001A0FF0|      1|8001A0FF0|           4.52|         US Dollar|          4.52|       US Dollar|  Reinvestment|            0|\n",
      "|2022/09/01 00:02|     1231|800182310|     20|8001B9370|       34590.68|         US Dollar|      34590.68|       US Dollar|        Cheque|            0|\n",
      "|2022/09/01 00:20|     1231|800182310|     20|8001B9370|         3256.4|         US Dollar|        3256.4|       US Dollar|           ACH|            0|\n",
      "|2022/09/01 00:23|     1231|800182310|     20|8001B9370|           7.28|         US Dollar|          7.28|       US Dollar|          Wire|            0|\n",
      "|2022/09/01 00:22|       20|8001BF780|     20|8001BF780|           6.36|         US Dollar|          6.36|       US Dollar|  Reinvestment|            0|\n",
      "|2022/09/01 00:21|       20|8001BFBB0|     20|8001BFBB0|       22986.68|         US Dollar|      22986.68|       US Dollar|  Reinvestment|            0|\n",
      "|2022/09/01 00:00|       20|8001BFBB0|     20|8001BFBB0|          22.64|         US Dollar|         22.64|       US Dollar|  Reinvestment|            0|\n",
      "|2022/09/01 00:06|       20|8001C1CB0|     20|8001C1CB0|      155618.07|         US Dollar|     155618.07|       US Dollar|  Reinvestment|            0|\n",
      "|2022/09/01 00:17|     1231|8001C20D0|   1231|8001C20D0|        72053.9|         US Dollar|       72053.9|       US Dollar|  Reinvestment|            0|\n",
      "|2022/09/01 00:06|      224|800107510|   1231|8001C20D0|  1.474421244E8|         US Dollar| 1.474421244E8|       US Dollar|        Cheque|            0|\n",
      "|2022/09/01 00:17|      224|800107510|   1231|8001C20D0|       26183.39|         US Dollar|      26183.39|       US Dollar|   Credit Card|            0|\n",
      "|2022/09/01 00:18|      224|800107510|   1231|8001C20D0| 7.3630782235E8|         US Dollar|7.3630782235E8|       US Dollar|          Cash|            0|\n",
      "|2022/09/01 00:24|        1|8001C2120|      1|8001C2120|          17.77|         US Dollar|         17.77|       US Dollar|  Reinvestment|            0|\n",
      "|2022/09/01 00:08|       20|8001C2EA0|     20|8001C2EA0|      338389.73|         US Dollar|     338389.73|       US Dollar|  Reinvestment|            0|\n",
      "|2022/09/01 00:15|       20|8001C2EA0|     20|8001C2EA0|          12.72|         US Dollar|         12.72|       US Dollar|  Reinvestment|            0|\n",
      "|2022/09/01 00:22|     1231|8001C2A40|   1231|8001C2A40|       62379.18|         US Dollar|      62379.18|       US Dollar|  Reinvestment|            0|\n",
      "|2022/09/01 00:24|        1|8001C2CB0|      1|8001C2CB0|         587.31|         US Dollar|        587.31|       US Dollar|  Reinvestment|            0|\n",
      "|2022/09/01 00:19|     1217|8001C3C30|   1217|8001C3C30|      390177.39|         US Dollar|     390177.39|       US Dollar|  Reinvestment|            0|\n",
      "|2022/09/01 00:17|        1|80015FCE0|     11|8001C3EB0|        55708.3|         US Dollar|       55708.3|       US Dollar|        Cheque|            0|\n",
      "|2022/09/01 00:01|        1|80015FCE0|     11|8001C3EB0|        8056.55|         US Dollar|       8056.55|       US Dollar|   Credit Card|            0|\n",
      "|2022/09/01 00:08|        1|80015FCE0|     11|8001C3EB0|       77236.64|         US Dollar|      77236.64|       US Dollar|          Cash|            0|\n",
      "|2022/09/01 00:14|        1|8001C8620|      1|8001C8620|     3132052.61|         US Dollar|    3132052.61|       US Dollar|  Reinvestment|            0|\n",
      "|2022/09/01 00:19|      224|8001C8B30|    224|8001C8B30|      243283.32|         US Dollar|     243283.32|       US Dollar|  Reinvestment|            0|\n",
      "|2022/09/01 00:11|     1291|80016CF80|   1291|80016CF80|      176260.01|         US Dollar|     176260.01|       US Dollar|  Reinvestment|            0|\n",
      "|2022/09/01 00:11|     1231|8001CFA80|   1231|8001CFA80|          24.34|         US Dollar|         24.34|       US Dollar|  Reinvestment|            0|\n",
      "|2022/09/01 00:07|     3266|8001CEA20|   1291|8001CED40|        9042.31|         US Dollar|       9042.31|       US Dollar|           ACH|            0|\n",
      "|2022/09/01 00:03|       11|8001CECF0|     11|8001CECF0|       17849.91|         US Dollar|      17849.91|       US Dollar|  Reinvestment|            0|\n",
      "|2022/09/01 00:14|     1217|8001CF010|   1217|8001CF010|       21707.08|         US Dollar|      21707.08|       US Dollar|  Reinvestment|            0|\n",
      "|2022/09/01 00:07|       20|8001D0010|     20|8001D0010|          25.48|         US Dollar|         25.48|       US Dollar|  Reinvestment|            0|\n",
      "|2022/09/01 00:09|       12|8001D07E0|     12|8001D07E0|        2266.17|         US Dollar|       2266.17|       US Dollar|  Reinvestment|            0|\n",
      "|2022/09/01 00:19|     1231|8001C81F0|   1217|80053DC80|          90.25|         US Dollar|         90.25|       US Dollar|   Credit Card|            0|\n",
      "|2022/09/01 00:06|       11|8001C8400|     11|8001C8400|           9.27|         US Dollar|          9.27|       US Dollar|  Reinvestment|            0|\n",
      "|2022/09/01 00:06|       12|8001C88C0|     12|8001C88C0|           4.49|         US Dollar|          4.49|       US Dollar|  Reinvestment|            0|\n",
      "|2022/09/01 00:19|       20|8001C9140|   2368|803B85FA0|         202.11|         US Dollar|        202.11|       US Dollar|   Credit Card|            0|\n",
      "|2022/09/01 00:07|       11|8001CECF0|     11|8001CECF0|          23.43|         US Dollar|         23.43|       US Dollar|  Reinvestment|            0|\n",
      "|2022/09/01 00:02|     1217|8001CF010|   1217|8001CF010|          15.54|         US Dollar|         15.54|       US Dollar|  Reinvestment|            0|\n",
      "|2022/09/01 00:23|       20|8001D0010|     20|8001D0010|          20.96|         US Dollar|         20.96|       US Dollar|  Reinvestment|            0|\n",
      "|2022/09/01 00:03|       11|8001D03C0|   1639|806C15F60|           5.14|         US Dollar|          5.14|       US Dollar|   Credit Card|            0|\n",
      "|2022/09/01 00:08|       12|8001D07E0|     12|8001D07E0|          17.68|         US Dollar|         17.68|       US Dollar|  Reinvestment|            0|\n",
      "|2022/09/01 00:23|     1217|8001C6DB0|   1217|8001C6DB0|          15.62|         US Dollar|         15.62|       US Dollar|  Reinvestment|            0|\n",
      "|2022/09/01 00:06|       12|8001C7030|  17831|80A3F69C0|          24.62|         US Dollar|         24.62|       US Dollar|   Credit Card|            0|\n",
      "|2022/09/01 00:07|     1291|8001D22D0|   1291|8001D22D0|      120132.43|         US Dollar|     120132.43|       US Dollar|  Reinvestment|            0|\n",
      "|2022/09/01 00:04|       70|10042B660|   1291|8001D22D0|        72615.0|         US Dollar|       72615.0|       US Dollar|        Cheque|            0|\n",
      "|2022/09/01 00:00|       70|10042B660|   1291|8001D22D0|        65520.7|         US Dollar|       65520.7|       US Dollar|          Cash|            0|\n",
      "|2022/09/01 00:20|     1231|80019AFA0|   1231|80019AFA0|         2101.1|         US Dollar|        2101.1|       US Dollar|  Reinvestment|            0|\n",
      "|2022/09/01 00:12|     3233|8001C26D0|   1231|80019AFA0|        4372.51|         US Dollar|       4372.51|       US Dollar|           ACH|            0|\n",
      "|2022/09/01 00:04|     1231|8001C4580|   1231|8001C4580|        4513.39|         US Dollar|       4513.39|       US Dollar|  Reinvestment|            0|\n",
      "|2022/09/01 00:17|       20|8001C4620|     20|8001C4620|       10564.17|         US Dollar|      10564.17|       US Dollar|  Reinvestment|            0|\n",
      "|2022/09/01 00:07|      224|8001C5CB0|    224|8001C5CB0|        3826.28|         US Dollar|       3826.28|       US Dollar|  Reinvestment|            0|\n",
      "|2022/09/01 00:25|       20|8001C6380|     20|8001C6380|        6141.17|         US Dollar|       6141.17|       US Dollar|  Reinvestment|            0|\n",
      "|2022/09/01 00:20|       20|8001C6600|     20|8001C6600|       15170.68|         US Dollar|      15170.68|       US Dollar|  Reinvestment|            0|\n",
      "|2022/09/01 00:02|        1|8001C69B0|      1|8001C69B0|         397.59|         US Dollar|        397.59|       US Dollar|  Reinvestment|            0|\n",
      "|2022/09/01 00:22|       20|8001C6A00|     20|8001C6A00|        6270.08|         US Dollar|       6270.08|       US Dollar|  Reinvestment|            0|\n",
      "|2022/09/01 00:09|       20|8001C4620|     20|8001C4620|          15.49|         US Dollar|         15.49|       US Dollar|  Reinvestment|            0|\n",
      "|2022/09/01 00:29|     1217|8001C6420|   1217|8001C6420|           5.22|         US Dollar|          5.22|       US Dollar|  Reinvestment|            0|\n",
      "|2022/09/01 00:21|       11|8001C66A0|     11|8001C66A0|           9.93|         US Dollar|          9.93|       US Dollar|  Reinvestment|            0|\n",
      "|2022/09/01 00:02|      224|8001C68C0|    224|8001C68C0|          13.74|         US Dollar|         13.74|       US Dollar|  Reinvestment|            0|\n",
      "|2022/09/01 00:19|     1291|8001D4310|   1291|8001D4310|      333287.23|         US Dollar|     333287.23|       US Dollar|  Reinvestment|            0|\n",
      "|2022/09/01 00:15|       12|8001D5A20|     12|8001D5A20|          11.09|         US Dollar|         11.09|       US Dollar|  Reinvestment|            0|\n",
      "|2022/09/01 00:18|     1231|8001D7200|   1231|8001D7200|      523753.21|         US Dollar|     523753.21|       US Dollar|  Reinvestment|            0|\n",
      "|2022/09/01 00:15|       11|8001D7CE0|     11|8001D7CE0|       106945.3|         US Dollar|      106945.3|       US Dollar|  Reinvestment|            0|\n",
      "|2022/09/01 00:18|       11|8001D8530|     11|8001D8530|      100289.22|         US Dollar|     100289.22|       US Dollar|  Reinvestment|            0|\n",
      "|2022/09/01 00:27|       70|10042B660|      1|8001D8BA0|       81247.61|         US Dollar|      81247.61|       US Dollar|        Cheque|            0|\n",
      "|2022/09/01 00:28|        1|8001D8BA0|      1|8001D8BA0|           9.96|         US Dollar|          9.96|       US Dollar|  Reinvestment|            0|\n",
      "|2022/09/01 00:13|     1291|8001D6750|   1291|8001D6750|       18965.95|         US Dollar|      18965.95|       US Dollar|  Reinvestment|            0|\n",
      "|2022/09/01 00:10|     1217|8001D67F0|   1217|8001D67F0|       10473.23|         US Dollar|      10473.23|       US Dollar|  Reinvestment|            0|\n",
      "|2022/09/01 00:28|       20|8001D6D40|     20|8001D6D40|       10235.66|         US Dollar|      10235.66|       US Dollar|  Reinvestment|            0|\n",
      "|2022/09/01 00:28|     1231|8001D6D90|   1231|8001D6D90|       23358.97|         US Dollar|      23358.97|       US Dollar|  Reinvestment|            0|\n",
      "|2022/09/01 00:18|     1291|8001D7470|   1291|8001D7470|        1825.43|         US Dollar|       1825.43|       US Dollar|  Reinvestment|            0|\n",
      "|2022/09/01 00:01|        1|8001D75B0|      1|8001D75B0|        3075.76|         US Dollar|       3075.76|       US Dollar|  Reinvestment|            0|\n",
      "|2022/09/01 00:19|     3343|8001D76A0|   3343|8001D76A0|         872.52|         US Dollar|        872.52|       US Dollar|  Reinvestment|            0|\n",
      "|2022/09/01 00:26|      224|8001D7EE0|    224|8001D7EE0|        5301.67|         US Dollar|       5301.67|       US Dollar|  Reinvestment|            0|\n",
      "|2022/09/01 00:12|     3256|8001D7F30|   3256|8001D7F30|         410.68|         US Dollar|        410.68|       US Dollar|  Reinvestment|            0|\n",
      "|2022/09/01 00:28|       20|8001D82F0|     20|8001D82F0|        4008.55|         US Dollar|       4008.55|       US Dollar|  Reinvestment|            0|\n",
      "|2022/09/01 00:25|     1231|8001D4F70|   1231|8001D4F70|          24.73|         US Dollar|         24.73|       US Dollar|  Reinvestment|            0|\n",
      "|2022/09/01 00:02|       20|8001D5C60|     20|8001D5C60|          11.84|         US Dollar|         11.84|       US Dollar|  Reinvestment|            0|\n",
      "|2022/09/01 00:17|     1291|8001D6750|   1291|8001D6750|          23.92|         US Dollar|         23.92|       US Dollar|  Reinvestment|            0|\n",
      "|2022/09/01 00:25|       12|80019A830|     12|80019A830|       16041.49|         US Dollar|      16041.49|       US Dollar|  Reinvestment|            0|\n",
      "|2022/09/01 00:00|       11|8001D40D0|     11|8001D40D0|        4585.01|         US Dollar|       4585.01|       US Dollar|  Reinvestment|            0|\n",
      "|2022/09/01 00:22|        1|8001D4560|      1|8001D4560|        6765.53|         US Dollar|       6765.53|       US Dollar|  Reinvestment|            0|\n",
      "|2022/09/01 00:14|        1|8001D4560|      1|8001D4560|          10.17|         US Dollar|         10.17|       US Dollar|  Reinvestment|            0|\n",
      "|2022/09/01 00:02|       20|8001D45B0|     20|8001D45B0|          13.26|         US Dollar|         13.26|       US Dollar|  Reinvestment|            0|\n",
      "|2022/09/01 00:21|       12|8001DB710|     12|8001DB710|      280068.35|         US Dollar|     280068.35|       US Dollar|  Reinvestment|            0|\n",
      "|2022/09/01 00:28|      224|8001DC0F0|    224|8001DC0F0|          18.21|         US Dollar|         18.21|       US Dollar|  Reinvestment|            0|\n",
      "|2022/09/01 00:07|       20|800132C60|     11|8001DC570|         319.94|         US Dollar|        319.94|       US Dollar|        Cheque|            0|\n",
      "|2022/09/01 00:06|       20|800132C60|     11|8001DC570|          149.9|         US Dollar|         149.9|       US Dollar|   Credit Card|            0|\n",
      "|2022/09/01 00:05|       20|800132C60|     11|8001DC570|          47.77|         US Dollar|         47.77|       US Dollar|           ACH|            0|\n",
      "|2022/09/01 00:05|       11|8001DD390|     11|8001DD390|           4.91|         US Dollar|          4.91|       US Dollar|  Reinvestment|            0|\n",
      "|2022/09/01 00:08|       11|8001DD430| 150020|8142A4320|           5.97|         US Dollar|          5.97|       US Dollar|   Credit Card|            0|\n",
      "|2022/09/01 00:28|      224|8001DBEB0|    224|8001DBEB0|     3132049.06|         US Dollar|    3132049.06|       US Dollar|  Reinvestment|            0|\n",
      "|2022/09/01 00:11|       11|8001DCE70|     11|8001DCE70|        2950.52|         US Dollar|       2950.52|       US Dollar|  Reinvestment|            0|\n",
      "|2022/09/01 00:23|     3210|800190820|   3210|800190820|         123.14|         US Dollar|        123.14|       US Dollar|  Reinvestment|            0|\n",
      "|2022/09/01 00:12|      224|800190C30|    224|800190C30|         635.89|         US Dollar|        635.89|       US Dollar|  Reinvestment|            0|\n",
      "|2022/09/01 00:12|     3249|800191120|   3249|800191120|       22533.61|         US Dollar|      22533.61|       US Dollar|  Reinvestment|            0|\n",
      "|2022/09/01 00:25|       20|8001920C0|     20|8001920C0|       23729.57|         US Dollar|      23729.57|       US Dollar|  Reinvestment|            0|\n",
      "|2022/09/01 00:00|      224|8001925C0|    224|8001925C0|        2079.58|         US Dollar|       2079.58|       US Dollar|  Reinvestment|            0|\n",
      "|2022/09/01 00:17|     3312|800192E40|   3312|800192E40|        4936.29|         US Dollar|       4936.29|       US Dollar|  Reinvestment|            0|\n",
      "|2022/09/01 00:21|     3258|800193360|   3258|800193360|        2092.89|         US Dollar|       2092.89|       US Dollar|  Reinvestment|            0|\n",
      "|2022/09/01 00:14|       12|800193C50|     12|800193C50|        2739.44|         US Dollar|       2739.44|       US Dollar|  Reinvestment|            0|\n",
      "|2022/09/01 00:18|     3278|8001DB520|   3278|8001DB520|        3675.03|         US Dollar|       3675.03|       US Dollar|  Reinvestment|            0|\n",
      "|2022/09/01 00:14|     1231|8001DE8A0|   1231|8001DE8A0|        2070.91|         US Dollar|       2070.91|       US Dollar|  Reinvestment|            0|\n",
      "|2022/09/01 00:21|     3209|8001DE8F0|   3209|8001DE8F0|       24998.17|         US Dollar|      24998.17|       US Dollar|  Reinvestment|            0|\n",
      "|2022/09/01 00:27|     3230|8001DEBC0|   3230|8001DEBC0|        2089.87|         US Dollar|       2089.87|       US Dollar|  Reinvestment|            0|\n",
      "|2022/09/01 00:09|     1231|8001553C0|   1231|8001553C0|          15.55|         US Dollar|         15.55|       US Dollar|  Reinvestment|            0|\n",
      "|2022/09/01 00:23|        1|800190B90|      1|800190B90|          21.26|         US Dollar|         21.26|       US Dollar|  Reinvestment|            0|\n",
      "|2022/09/01 00:21|      224|800190C30|    224|800190C30|          23.95|         US Dollar|         23.95|       US Dollar|  Reinvestment|            0|\n",
      "|2022/09/01 00:02|       11|800192110|     11|800192110|          13.47|         US Dollar|         13.47|       US Dollar|  Reinvestment|            0|\n",
      "|2022/09/01 00:14|     1217|8001DE9E0|  22481|806173480|          38.08|         US Dollar|         38.08|       US Dollar|   Credit Card|            0|\n",
      "|2022/09/01 00:25|     1231|8001DEA80| 115943|8184E5120|          70.05|         US Dollar|         70.05|       US Dollar|   Credit Card|            0|\n",
      "|2022/09/01 00:21|     3288|8001DFCA0|   3288|8001DFCA0|        3552.99|         US Dollar|       3552.99|       US Dollar|  Reinvestment|            0|\n",
      "|2022/09/01 00:19|       20|8001DFCF0|     20|8001DFCF0|       67342.32|         US Dollar|      67342.32|       US Dollar|  Reinvestment|            0|\n",
      "|2022/09/01 00:18|     1291|80016CF80|     20|8001270F0|         876.55|         US Dollar|        876.55|       US Dollar|        Cheque|            0|\n",
      "|2022/09/01 00:04|     1291|80016CF80|     20|8001270F0|        6796.78|         US Dollar|       6796.78|       US Dollar|          Cash|            0|\n",
      "|2022/09/01 00:14|       20|8001270F0|     20|8001270F0|          10.03|         US Dollar|         10.03|       US Dollar|  Reinvestment|            0|\n",
      "|2022/09/01 00:10|     1231|80018E380|   1231|80018E380|       25402.12|         US Dollar|      25402.12|       US Dollar|  Reinvestment|            0|\n",
      "|2022/09/01 00:24|       20|8000563E0|   1231|80018E380|       10002.94|         US Dollar|      10002.94|       US Dollar|        Cheque|            0|\n",
      "|2022/09/01 00:25|       20|8000563E0|   1231|80018E380|         2256.1|         US Dollar|        2256.1|       US Dollar|   Credit Card|            0|\n",
      "|2022/09/01 00:07|     1217|8000FDCE0|   1231|8001E2150|        2140.28|         US Dollar|       2140.28|       US Dollar|        Cheque|            0|\n",
      "|2022/09/01 00:25|     1217|8000FDCE0|   1231|8001E2150|         607.32|         US Dollar|        607.32|       US Dollar|          Cash|            0|\n",
      "|2022/09/01 00:17|       20|8001E28A0|     20|8001E28A0|      562666.81|         US Dollar|     562666.81|       US Dollar|  Reinvestment|            0|\n",
      "|2022/09/01 00:10|       20|8001E28A0|     20|8001E28A0|          18.36|         US Dollar|         18.36|       US Dollar|  Reinvestment|            0|\n",
      "|2022/09/01 00:27|       20|80010B1F0|     20|80010B1F0|         5791.2|         US Dollar|        5791.2|       US Dollar|  Reinvestment|            0|\n",
      "|2022/09/01 00:01|     3232|8001873E0|   3232|8001873E0|        1095.86|         US Dollar|       1095.86|       US Dollar|  Reinvestment|            0|\n",
      "|2022/09/01 00:12|     3307|80018D180|   3307|80018D180|         889.46|         US Dollar|        889.46|       US Dollar|  Reinvestment|            0|\n",
      "|2022/09/01 00:20|     3256|80018D830|   3256|80018D830|        4686.13|         US Dollar|       4686.13|       US Dollar|  Reinvestment|            0|\n",
      "|2022/09/01 00:19|       11|800188570|     11|800188570|          13.28|         US Dollar|         13.28|       US Dollar|  Reinvestment|            0|\n",
      "|2022/09/01 00:27|     1217|8001E3C00|   1217|8001E3C00|       15099.87|         US Dollar|      15099.87|       US Dollar|  Reinvestment|            0|\n",
      "|2022/09/01 00:07|     1217|80015DF80|   1217|80015DF80|          19.88|         US Dollar|         19.88|       US Dollar|  Reinvestment|            0|\n",
      "|2022/09/01 00:22|       20|8001E51F0|     20|8001E51F0|          16.06|         US Dollar|         16.06|       US Dollar|  Reinvestment|            0|\n",
      "|2022/09/01 00:29|       20|80005E480|      1|8001E5580|        8819.57|         US Dollar|       8819.57|       US Dollar|        Cheque|            0|\n",
      "|2022/09/01 00:28|       20|80005E480|      1|8001E5580|        1785.75|         US Dollar|       1785.75|       US Dollar|   Credit Card|            0|\n",
      "|2022/09/01 00:14|       70|10042B660|      1|8001E5580|       51905.58|         US Dollar|      51905.58|       US Dollar|        Cheque|            0|\n",
      "|2022/09/01 00:09|       70|10042B660|      1|8001E5580|        5617.07|         US Dollar|       5617.07|       US Dollar|   Credit Card|            0|\n",
      "|2022/09/01 00:04|       70|10042B660|      1|8001E5580|      195346.44|         US Dollar|     195346.44|       US Dollar|          Cash|            0|\n",
      "|2022/09/01 00:01|        1|8001E5580|      1|8001E5580|          20.07|         US Dollar|         20.07|       US Dollar|  Reinvestment|            0|\n",
      "|2022/09/01 00:03|     1217|800148410|   1217|800148410|      243615.95|         US Dollar|     243615.95|       US Dollar|  Reinvestment|            0|\n",
      "|2022/09/01 00:08|       12|8000588E0|    224|800148870|      157653.68|         US Dollar|     157653.68|       US Dollar|        Cheque|            0|\n",
      "|2022/09/01 00:15|       11|800149160|     11|800149160|      429220.16|         US Dollar|     429220.16|       US Dollar|  Reinvestment|            0|\n",
      "|2022/09/01 00:19|       20|800115330|     11|800149160|       10869.41|         US Dollar|      10869.41|       US Dollar|        Cheque|            0|\n",
      "|2022/09/01 00:23|       20|800115330|     11|800149160|         7893.7|         US Dollar|        7893.7|       US Dollar|           ACH|            0|\n",
      "|2022/09/01 00:16|       20|800115330|     11|800149160|         590.71|         US Dollar|        590.71|       US Dollar|          Wire|            0|\n",
      "|2022/09/01 00:00|       11|8001E7F80|     11|8001E7F80|       82379.67|         US Dollar|      82379.67|       US Dollar|  Reinvestment|            0|\n",
      "|2022/09/01 00:00|       20|8001E8940|     20|8001E8940|        2337.12|         US Dollar|       2337.12|       US Dollar|  Reinvestment|            0|\n",
      "|2022/09/01 00:05|       11|8001D7CE0|     11|8001E86C0|        8378.02|         US Dollar|       8378.02|       US Dollar|        Cheque|            0|\n",
      "|2022/09/01 00:16|       11|8001D7CE0|     11|8001E86C0|        2614.22|         US Dollar|       2614.22|       US Dollar|   Credit Card|            0|\n",
      "|2022/09/01 00:14|       20|8001E91D0|     20|8001E91D0|       80782.81|         US Dollar|      80782.81|       US Dollar|  Reinvestment|            0|\n",
      "|2022/09/01 00:21|      349|800148F70|   1291|8001E8FE0|    6.0832056E7|         US Dollar|   6.0832056E7|       US Dollar|           ACH|            0|\n",
      "|2022/09/01 00:19|      349|800148F70|    349|800148F70|           7.09|         US Dollar|          7.09|       US Dollar|  Reinvestment|            0|\n",
      "|2022/09/01 00:15|     1291|8001E8FE0|  37524|8154B9EB0|          16.56|         US Dollar|         16.56|       US Dollar|   Credit Card|            0|\n",
      "|2022/09/01 00:16|      349|8001EABB0|    349|8001EABB0|       61923.88|         US Dollar|      61923.88|       US Dollar|  Reinvestment|            0|\n",
      "|2022/09/01 00:05|     1291|8001EA440|   1291|8001EA440|      875465.43|         US Dollar|     875465.43|       US Dollar|  Reinvestment|            0|\n",
      "|2022/09/01 00:17|     1291|8001EA4E0|   1291|8001EA4E0|         5551.3|         US Dollar|        5551.3|       US Dollar|  Reinvestment|            0|\n",
      "|2022/09/01 00:00|       20|8001719A0|   1291|8001EA440|      173016.09|         US Dollar|     173016.09|       US Dollar|        Cheque|            0|\n",
      "|2022/09/01 00:29|       20|8001719A0|   1291|8001EA440|       22914.17|         US Dollar|      22914.17|       US Dollar|   Credit Card|            0|\n",
      "|2022/09/01 00:15|       20|8001719A0|   1291|8001EA440|       35968.81|         US Dollar|      35968.81|       US Dollar|          Cash|            0|\n",
      "|2022/09/01 00:11|       20|8001719A0|   1291|8001EA440|       28461.35|         US Dollar|      28461.35|       US Dollar|           ACH|            0|\n",
      "|2022/09/01 00:04|     1291|8001EA4E0|   1291|8001EA4E0|          14.06|         US Dollar|         14.06|       US Dollar|  Reinvestment|            0|\n",
      "|2022/09/01 00:23|     3230|8001EBC40|   3230|8001EBC40|        2393.61|         US Dollar|       2393.61|       US Dollar|  Reinvestment|            0|\n",
      "|2022/09/01 00:16|     1291|8001EC290|   1291|8001EC290|       56986.96|         US Dollar|      56986.96|       US Dollar|  Reinvestment|            0|\n",
      "|2022/09/01 00:18|     1291|8001EC290|   1291|8001EC290|           14.3|         US Dollar|          14.3|       US Dollar|  Reinvestment|            0|\n",
      "|2022/09/01 00:13|       20|8001EDEE0|     20|8001EDEE0|       34402.58|         US Dollar|      34402.58|       US Dollar|  Reinvestment|            0|\n",
      "|2022/09/01 00:28|      224|8001ED410|    224|8001ED410|     1372753.72|         US Dollar|    1372753.72|       US Dollar|  Reinvestment|            0|\n",
      "|2022/09/01 00:15|     1217|8001EE0E0|   1217|8001EE0E0|       78559.09|         US Dollar|      78559.09|       US Dollar|  Reinvestment|            0|\n",
      "|2022/09/01 00:01|     1231|8001EEEB0|   1231|8001EEEB0|      609996.08|         US Dollar|     609996.08|       US Dollar|  Reinvestment|            0|\n",
      "|2022/09/01 00:04|      349|8001EF3B0|    349|8001EF3B0|      115954.16|         US Dollar|     115954.16|       US Dollar|  Reinvestment|            0|\n",
      "|2022/09/01 00:16|       12|8001EECC0|     12|8001EECC0|      398496.56|         US Dollar|     398496.56|       US Dollar|  Reinvestment|            0|\n",
      "|2022/09/01 00:19|       12|8001EF1C0|   5621|80A4D1DD0|          46.79|         US Dollar|         46.79|       US Dollar|   Credit Card|            0|\n",
      "|2022/09/01 00:27|      349|8001F01E0|    349|8001F01E0|       82587.92|         US Dollar|      82587.92|       US Dollar|  Reinvestment|            0|\n",
      "|2022/09/01 00:09|       20|8001F0760|     20|8001F0760|      202065.98|         US Dollar|     202065.98|       US Dollar|  Reinvestment|            0|\n",
      "|2022/09/01 00:10|      349|8001EFF20|    349|8001EFF20|      839634.59|         US Dollar|     839634.59|       US Dollar|  Reinvestment|            0|\n",
      "|2022/09/01 00:07|      349|8001EFF20|    349|8001EFF20|          24.23|         US Dollar|         24.23|       US Dollar|  Reinvestment|            0|\n",
      "|2022/09/01 00:04|       20|8001F0570|   1639|8005A8360|          11.16|         US Dollar|         11.16|       US Dollar|   Credit Card|            0|\n",
      "|2022/09/01 00:29|     1217|80015DF80|     20|8001F1050|       19400.78|         US Dollar|      19400.78|       US Dollar|        Cheque|            0|\n",
      "|2022/09/01 00:18|     1217|80015DF80|     20|8001F1050|        7922.44|         US Dollar|       7922.44|       US Dollar|   Credit Card|            0|\n",
      "|2022/09/01 00:23|     1217|80015DF80|     20|8001F1050|       59471.85|         US Dollar|      59471.85|       US Dollar|           ACH|            0|\n",
      "|2022/09/01 00:14|      224|8001F1F40|    224|8001F1F40|       99479.83|         US Dollar|      99479.83|       US Dollar|  Reinvestment|            0|\n",
      "|2022/09/01 00:15|     3348|8001F1CA0|   3348|8001F1CA0|         713.81|         US Dollar|        713.81|       US Dollar|  Reinvestment|            0|\n",
      "|2022/09/01 00:03|        1|8001F22D0|      1|8001F22D0|        2509.59|         US Dollar|       2509.59|       US Dollar|  Reinvestment|            0|\n",
      "|2022/09/01 00:15|        1|8001F22D0|      1|8001F22D0|          20.74|         US Dollar|         20.74|       US Dollar|  Reinvestment|            0|\n",
      "|2022/09/01 00:27|     1291|8001F2990|   1291|8001F2990|      570215.53|         US Dollar|     570215.53|       US Dollar|  Reinvestment|            0|\n",
      "|2022/09/01 00:00|       12|8001F29E0|     12|8001F29E0|         545.54|         US Dollar|        545.54|       US Dollar|  Reinvestment|            0|\n",
      "|2022/09/01 00:09|     1291|8001CF1E0|   1291|8001CF1E0|      129916.01|         US Dollar|     129916.01|       US Dollar|  Reinvestment|            0|\n",
      "|2022/09/01 00:12|       20|8001F3590|     20|8001F3590|           7.32|         US Dollar|          7.32|       US Dollar|  Reinvestment|            0|\n",
      "|2022/09/01 00:15|       20|800168B70|     20|8001F3F30|       32246.93|         US Dollar|      32246.93|       US Dollar|        Cheque|            0|\n",
      "|2022/09/01 00:27|       20|800168B70|     20|8001F3F30|       22946.13|         US Dollar|      22946.13|       US Dollar|   Credit Card|            0|\n",
      "|2022/09/01 00:08|       20|800168B70|     20|8001F3F30|       11841.16|         US Dollar|      11841.16|       US Dollar|           ACH|            0|\n",
      "|2022/09/01 00:11|       20|800168B70|     20|8001F3F30|        4286.89|         US Dollar|       4286.89|       US Dollar|          Wire|            0|\n",
      "|2022/09/01 00:29|     1291|8001F5140|   1291|8001F5140|       41069.12|         US Dollar|      41069.12|       US Dollar|  Reinvestment|            0|\n",
      "|2022/09/01 00:18|     1291|8001F5140|   1291|8001F5140|           6.08|         US Dollar|          6.08|       US Dollar|  Reinvestment|            0|\n",
      "|2022/09/01 00:07|      224|80012D050|   1231|8001F5860|         933.51|         US Dollar|        933.51|       US Dollar|        Cheque|            0|\n",
      "|2022/09/01 00:06|      224|80012D050|   1231|8001F5860|         218.67|         US Dollar|        218.67|       US Dollar|   Credit Card|            0|\n",
      "|2022/09/01 00:29|     1231|8001F5860|   1231|8001F5860|          12.95|         US Dollar|         12.95|       US Dollar|  Reinvestment|            0|\n",
      "|2022/09/01 00:11|     1231|8001F5F10|   1231|8001F5F10|      599525.25|         US Dollar|     599525.25|       US Dollar|  Reinvestment|            0|\n",
      "|2022/09/01 00:05|     1217|8001F5DD0|   1217|8001F5DD0|           8.19|         US Dollar|          8.19|       US Dollar|  Reinvestment|            0|\n",
      "|2022/09/01 00:00|      349|8001F6700|    349|8001F6700|      430396.15|         US Dollar|     430396.15|       US Dollar|  Reinvestment|            0|\n",
      "|2022/09/01 00:28|        1|8001F7B70|      1|8001F7B70|          10.72|         US Dollar|         10.72|       US Dollar|  Reinvestment|            0|\n",
      "|2022/09/01 00:11|     1291|8001F83B0|   1291|8001F83B0|        3205.79|         US Dollar|       3205.79|       US Dollar|  Reinvestment|            0|\n",
      "|2022/09/01 00:08|     1291|8001F83B0|   1291|8001F83B0|           5.78|         US Dollar|          5.78|       US Dollar|  Reinvestment|            0|\n",
      "|2022/09/01 00:01|       12|8001F6BD0|     12|8001F6BD0|        2711.02|         US Dollar|       2711.02|       US Dollar|  Reinvestment|            0|\n",
      "|2022/09/01 00:24|      224|8001F8DE0|    224|8001F8DE0|       12237.53|         US Dollar|      12237.53|       US Dollar|  Reinvestment|            0|\n",
      "|2022/09/01 00:10|       12|8001F6BD0|     12|8001F6BD0|          22.14|         US Dollar|         22.14|       US Dollar|  Reinvestment|            0|\n",
      "|2022/09/01 00:08|       12|8001F2CF0|     12|8001F2CF0|       13985.38|         US Dollar|      13985.38|       US Dollar|  Reinvestment|            0|\n",
      "|2022/09/01 00:24|       20|8001F46C0|     20|8001F46C0|       16237.92|         US Dollar|      16237.92|       US Dollar|  Reinvestment|            0|\n",
      "|2022/09/01 00:28|      349|8001F47B0|    349|8001F47B0|        1414.61|         US Dollar|       1414.61|       US Dollar|  Reinvestment|            0|\n",
      "|2022/09/01 00:28|       12|8001F4C90|     12|8001F4C90|        1237.32|         US Dollar|       1237.32|       US Dollar|  Reinvestment|            0|\n",
      "|2022/09/01 00:15|     3245|8001F5400|   3245|8001F5400|        1671.11|         US Dollar|       1671.11|       US Dollar|  Reinvestment|            0|\n",
      "|2022/09/01 00:23|       12|8001330E0|   1291|8001F1720|        4109.98|         US Dollar|       4109.98|       US Dollar|        Cheque|            0|\n",
      "|2022/09/01 00:01|       12|8001330E0|   1291|8001F1720|        1711.52|         US Dollar|       1711.52|       US Dollar|   Credit Card|            0|\n",
      "|2022/09/01 00:01|       20|8001F46C0|     20|8001F46C0|           5.22|         US Dollar|          5.22|       US Dollar|  Reinvestment|            0|\n",
      "+----------------+---------+---------+-------+---------+---------------+------------------+--------------+----------------+--------------+-------------+\n",
      "only showing top 1000 rows"
     ]
    }
   ],
   "source": [
    "uniondf.show(1000)"
   ]
  },
  {
   "cell_type": "code",
   "execution_count": 6,
   "id": "73579f55",
   "metadata": {},
   "outputs": [
    {
     "data": {
      "application/vnd.jupyter.widget-view+json": {
       "model_id": "",
       "version_major": 2,
       "version_minor": 0
      },
      "text/plain": [
       "FloatProgress(value=0.0, bar_style='info', description='Progress:', layout=Layout(height='25px', width='50%'),…"
      ]
     },
     "metadata": {},
     "output_type": "display_data"
    },
    {
     "name": "stdout",
     "output_type": "stream",
     "text": [
      "DataFrame[summary: string, Timestamp: string, From Bank: string, Account2: string, To Bank: string, Account4: string, Amount Received: string, Receiving Currency: string, Amount Paid: string, Payment Currency: string, Payment Format: string, Is Laundering: string]"
     ]
    }
   ],
   "source": [
    "uniondf.describe()"
   ]
  },
  {
   "cell_type": "code",
   "execution_count": 7,
   "id": "714a4555",
   "metadata": {},
   "outputs": [
    {
     "data": {
      "application/vnd.jupyter.widget-view+json": {
       "model_id": "",
       "version_major": 2,
       "version_minor": 0
      },
      "text/plain": [
       "FloatProgress(value=0.0, bar_style='info', description='Progress:', layout=Layout(height='25px', width='50%'),…"
      ]
     },
     "metadata": {},
     "output_type": "display_data"
    }
   ],
   "source": [
    "\n",
    "# Summary\n",
    "# Timestamp: Convert to TimestampType for time-based operations.\n",
    "# Bank and Account Identifiers: Retain as StringType.\n",
    "# Amount Columns: Convert to FloatType or DoubleType for precise calculations.\n",
    "# Currency Columns: Retain as StringType (currency codes).\n",
    "# Payment Format: Retain as StringType.\n",
    "# Is Laundering: Convert to IntegerType for binary classification.\n",
    "# This approach ensures that each column is in the appropriate format for further analysis or processing.\n",
    "\n",
    "\n",
    "\n",
    "from pyspark.sql import SparkSession\n",
    "from pyspark.sql.functions import to_timestamp, col\n",
    "from pyspark.sql.types import FloatType, IntegerType, StringType\n",
    "\n",
    "\n",
    "\n",
    "uniondf = uniondf.withColumn(\"Timestamp\", to_timestamp(col(\"Timestamp\"), \"yyyy/MM/dd HH:mm\"))\n",
    "\n",
    "\n",
    "\n",
    "uniondf = uniondf.withColumn(\"Amount Received\", col(\"Amount Received\").cast(FloatType()))\n",
    "uniondf = uniondf.withColumn(\"Receiving Currency\", col(\"Receiving Currency\").cast(StringType()))\n",
    "uniondf = uniondf.withColumn(\"Amount Paid\", col(\"Amount Paid\").cast(FloatType()))\n",
    "\n",
    "\n",
    "uniondf = uniondf.withColumn(\"Is Laundering\", col(\"Is Laundering\").cast(IntegerType()))"
   ]
  },
  {
   "cell_type": "code",
   "execution_count": 8,
   "id": "5bbc79b5",
   "metadata": {},
   "outputs": [
    {
     "data": {
      "application/vnd.jupyter.widget-view+json": {
       "model_id": "",
       "version_major": 2,
       "version_minor": 0
      },
      "text/plain": [
       "FloatProgress(value=0.0, bar_style='info', description='Progress:', layout=Layout(height='25px', width='50%'),…"
      ]
     },
     "metadata": {},
     "output_type": "display_data"
    },
    {
     "name": "stdout",
     "output_type": "stream",
     "text": [
      "DataFrame[summary: string, From Bank: string, Account2: string, To Bank: string, Account4: string, Amount Received: string, Receiving Currency: string, Amount Paid: string, Payment Currency: string, Payment Format: string, Is Laundering: string]"
     ]
    }
   ],
   "source": [
    "uniondf.describe()"
   ]
  },
  {
   "cell_type": "code",
   "execution_count": 9,
   "id": "dd858afa",
   "metadata": {},
   "outputs": [
    {
     "data": {
      "application/vnd.jupyter.widget-view+json": {
       "model_id": "",
       "version_major": 2,
       "version_minor": 0
      },
      "text/plain": [
       "FloatProgress(value=0.0, bar_style='info', description='Progress:', layout=Layout(height='25px', width='50%'),…"
      ]
     },
     "metadata": {},
     "output_type": "display_data"
    },
    {
     "name": "stdout",
     "output_type": "stream",
     "text": [
      "root\n",
      " |-- Timestamp: timestamp (nullable = true)\n",
      " |-- From Bank: integer (nullable = true)\n",
      " |-- Account2: string (nullable = true)\n",
      " |-- To Bank: integer (nullable = true)\n",
      " |-- Account4: string (nullable = true)\n",
      " |-- Amount Received: float (nullable = true)\n",
      " |-- Receiving Currency: string (nullable = true)\n",
      " |-- Amount Paid: float (nullable = true)\n",
      " |-- Payment Currency: string (nullable = true)\n",
      " |-- Payment Format: string (nullable = true)\n",
      " |-- Is Laundering: integer (nullable = true)"
     ]
    }
   ],
   "source": [
    "uniondf.printSchema()"
   ]
  },
  {
   "cell_type": "code",
   "execution_count": 10,
   "id": "c27cd191",
   "metadata": {},
   "outputs": [
    {
     "data": {
      "application/vnd.jupyter.widget-view+json": {
       "model_id": "",
       "version_major": 2,
       "version_minor": 0
      },
      "text/plain": [
       "FloatProgress(value=0.0, bar_style='info', description='Progress:', layout=Layout(height='25px', width='50%'),…"
      ]
     },
     "metadata": {},
     "output_type": "display_data"
    }
   ],
   "source": [
    "uniondf = uniondf.withColumn(\"From Bank\", col(\"From Bank\").cast(StringType()))\n",
    "uniondf = uniondf.withColumn(\"Account2\", col(\"Account2\").cast(StringType()))\n",
    "uniondf = uniondf.withColumn(\"To Bank\", col(\"To Bank\").cast(StringType()))\n",
    "uniondf = uniondf.withColumn(\"Account4\", col(\"Account4\").cast(StringType()))\n",
    "uniondf = uniondf.withColumn(\"Receiving Currency\", col(\"Receiving Currency\").cast(StringType()))\n",
    "uniondf = uniondf.withColumn(\"Payment Currency\", col(\"Payment Currency\").cast(StringType()))\n",
    "uniondf = uniondf.withColumn(\"Payment Format\", col(\"Payment Format\").cast(StringType()))"
   ]
  },
  {
   "cell_type": "code",
   "execution_count": null,
   "id": "c2dd93f7",
   "metadata": {},
   "outputs": [],
   "source": []
  },
  {
   "cell_type": "code",
   "execution_count": 11,
   "id": "df5cb1da",
   "metadata": {},
   "outputs": [
    {
     "data": {
      "application/vnd.jupyter.widget-view+json": {
       "model_id": "",
       "version_major": 2,
       "version_minor": 0
      },
      "text/plain": [
       "FloatProgress(value=0.0, bar_style='info', description='Progress:', layout=Layout(height='25px', width='50%'),…"
      ]
     },
     "metadata": {},
     "output_type": "display_data"
    },
    {
     "name": "stdout",
     "output_type": "stream",
     "text": [
      "+-------------------+---------+---------+-------+---------+---------------+------------------+-----------+----------------+--------------+-------------+\n",
      "|          Timestamp|From Bank| Account2|To Bank| Account4|Amount Received|Receiving Currency|Amount Paid|Payment Currency|Payment Format|Is Laundering|\n",
      "+-------------------+---------+---------+-------+---------+---------------+------------------+-----------+----------------+--------------+-------------+\n",
      "|2022-09-01 00:08:00|       11|8000ECA90|     11|8000ECA90|      3195403.0|         US Dollar|  3195403.0|       US Dollar|  Reinvestment|            0|\n",
      "|2022-09-01 00:21:00|     3402|80021DAD0|   3402|80021DAD0|        1858.96|         US Dollar|    1858.96|       US Dollar|  Reinvestment|            0|\n",
      "|2022-09-01 00:00:00|       11|8000ECA90|   1120|8006AA910|       592571.0|         US Dollar|   592571.0|       US Dollar|        Cheque|            0|\n",
      "|2022-09-01 00:16:00|     3814|8006AD080|   3814|8006AD080|          12.32|         US Dollar|      12.32|       US Dollar|  Reinvestment|            0|\n",
      "|2022-09-01 00:00:00|       20|8006AD530|     20|8006AD530|        2941.56|         US Dollar|    2941.56|       US Dollar|  Reinvestment|            0|\n",
      "|2022-09-01 00:24:00|       12|8006ADD30|     12|8006ADD30|        6473.62|         US Dollar|    6473.62|       US Dollar|  Reinvestment|            0|\n",
      "|2022-09-01 00:17:00|       11|800059120|   1217|8006AD4E0|        60562.0|         US Dollar|    60562.0|       US Dollar|           ACH|            0|\n",
      "|2022-09-01 00:07:00|       11|8000ECA90|     11|8000ECA90|          22.97|         US Dollar|      22.97|       US Dollar|  Reinvestment|            0|\n",
      "|2022-09-01 00:28:00|     1120|8006AA910| 243166|81470DCF0|          43.53|         US Dollar|      43.53|       US Dollar|   Credit Card|            0|\n",
      "|2022-09-01 00:22:00|     1217|8006AD4E0|   1217|8006AD4E0|           5.04|         US Dollar|       5.04|       US Dollar|  Reinvestment|            0|\n",
      "|2022-09-01 00:28:00|      224|8006AD580|  23319|80567ED00|           9.28|         US Dollar|       9.28|       US Dollar|   Credit Card|            0|\n",
      "|2022-09-01 00:28:00|      394|8006AF210| 214342|805586EA0|          93.85|         US Dollar|      93.85|       US Dollar|   Credit Card|            0|\n",
      "|2022-09-01 00:29:00|     3618|800929EA0|   1277|800929EF0|           0.05|         US Dollar|       0.05|       US Dollar|           ACH|            0|\n",
      "|2022-09-01 00:08:00|      394|80093BDB0|  21414|80092A6C0|        64335.0|         US Dollar|    64335.0|       US Dollar|           ACH|            0|\n",
      "|2022-09-01 00:04:00|     1291|80092A730|   1291|80092A730|        3975.24|         US Dollar|    3975.24|       US Dollar|  Reinvestment|            0|\n",
      "|2022-09-01 00:20:00|     1231|800B69730|  11265|80092AC50|         1986.0|         US Dollar|     1986.0|       US Dollar|        Cheque|            0|\n",
      "|2022-09-01 00:14:00|      394|80093BDB0|    394|80093BDB0|       14903.78|         US Dollar|   14903.78|       US Dollar|  Reinvestment|            0|\n",
      "|2022-09-01 00:23:00|     1231|800B69730|  21414|80093CED0|          217.0|         US Dollar|      217.0|       US Dollar|           ACH|            0|\n",
      "|2022-09-01 00:05:00|       20|800952940|     20|800952940|       21126.92|         US Dollar|   21126.92|       US Dollar|  Reinvestment|            0|\n",
      "|2022-09-01 00:03:00|    31811|800A8FCD0|  31811|800A8FCD0|        4455.63|         US Dollar|    4455.63|       US Dollar|  Reinvestment|            0|\n",
      "+-------------------+---------+---------+-------+---------+---------------+------------------+-----------+----------------+--------------+-------------+\n",
      "only showing top 20 rows\n",
      "\n",
      "+------------------+\n",
      "|Receiving Currency|\n",
      "+------------------+\n",
      "|         US Dollar|\n",
      "|              Euro|\n",
      "|           Bitcoin|\n",
      "|              Yuan|\n",
      "|               Yen|\n",
      "|          UK Pound|\n",
      "|       Brazil Real|\n",
      "| Australian Dollar|\n",
      "|             Rupee|\n",
      "|             Ruble|\n",
      "|   Canadian Dollar|\n",
      "|      Mexican Peso|\n",
      "|       Swiss Franc|\n",
      "|            Shekel|\n",
      "|       Saudi Riyal|\n",
      "+------------------+"
     ]
    }
   ],
   "source": [
    "from pyspark.ml.feature import StringIndexer,VectorAssembler,MinMaxScaler\n",
    "\n",
    "uniondf.show()\n",
    "\n",
    "\n",
    "unique_values_A = uniondf.select('Receiving Currency').distinct()\n",
    "\n",
    "unique_values_A.show()\n",
    "\n",
    "from pyspark.sql.functions import col, when\n",
    "\n",
    "conversion_rates = {\n",
    "    \"Yen\": 0.0068,  # Example rate for USD\n",
    "    \"Swiss Franc\": 1.15,       # Example rate for Euro\n",
    "    \"Ruble\": 0.011,\n",
    "    \"Saudi Riyal\": 0.27,\n",
    "    \"Mexican Peso\":0.053,\n",
    "    \"Canadian Dollar\":0.73,\n",
    "    \"Brazil Real\": 0.20,              # Example rate to US Dollar\n",
    "    \"Bitcoin\": 20000,                 # Example rate to US Dollar (1 Bitcoin = 20,000 USD)\n",
    "    \"UK Pound\": 1.35,                 # Example rate to US Dollar\n",
    "    \"Yuan\": 0.14,                     # Example rate to US Dollar\n",
    "    \"Rupee\": 0.012,                   # Example rate to US Dollar\n",
    "    \"Australian Dollar\": 0.65,        # Example rate to US Dollar\n",
    "    \"Shekel\": 0.29,\n",
    "    \"Euro\": 1.1,# Example rate for GBP\n",
    "}\n",
    "\n",
    "\n",
    "uniondf = uniondf.withColumn(\n",
    "    \"Amount Received\",\n",
    "     when(col(\"Receiving Currency\") == \"Yen\", col(\"Amount Received\") * conversion_rates[\"Yen\"])\n",
    "    .when(col(\"Receiving Currency\") == \"Swiss Franc\", col(\"Amount Received\") * conversion_rates[\"Swiss Franc\"])\n",
    "    .when(col(\"Receiving Currency\") == \"Ruble\", col(\"Amount Received\") * conversion_rates[\"Ruble\"])\n",
    "    .when(col(\"Receiving Currency\") == \"Saudi Riyal\", col(\"Amount Received\") * conversion_rates[\"Saudi Riyal\"])\n",
    "    .when(col(\"Receiving Currency\") == \"Mexican Peso\", col(\"Amount Received\") * conversion_rates[\"Mexican Peso\"])\n",
    "    .when(col(\"Receiving Currency\") == \"Canadian Dollar\", col(\"Amount Received\") * conversion_rates[\"Canadian Dollar\"])\n",
    "    .when(col(\"Receiving Currency\") == \"Brazil Real\", col(\"Amount Received\") * conversion_rates[\"Brazil Real\"])\n",
    "    .when(col(\"Receiving Currency\") == \"Bitcoin\", col(\"Amount Received\") * conversion_rates[\"Bitcoin\"])\n",
    "    .when(col(\"Receiving Currency\") == \"UK Pound\", col(\"Amount Received\") * conversion_rates[\"UK Pound\"])\n",
    "    .when(col(\"Receiving Currency\") == \"Yuan\", col(\"Amount Received\") * conversion_rates[\"Yuan\"])\n",
    "    .when(col(\"Receiving Currency\") == \"Rupee\", col(\"Amount Received\") * conversion_rates[\"Rupee\"])\n",
    "    .when(col(\"Receiving Currency\") == \"Australian Dollar\", col(\"Amount Received\") * conversion_rates[\"Australian Dollar\"])\n",
    "    .when(col(\"Receiving Currency\") == \"Shekel\", col(\"Amount Received\") * conversion_rates[\"Shekel\"])\n",
    "    .when(col(\"Receiving Currency\") == \"Euro\", col(\"Amount Received\") * conversion_rates[\"Euro\"])\n",
    "    .otherwise(col(\"Amount Received\"))  # No conversion if currency is not listed\n",
    ")\n",
    "\n"
   ]
  },
  {
   "cell_type": "code",
   "execution_count": null,
   "id": "eb81c6df",
   "metadata": {},
   "outputs": [],
   "source": []
  },
  {
   "cell_type": "code",
   "execution_count": 12,
   "id": "0814d849",
   "metadata": {},
   "outputs": [
    {
     "data": {
      "application/vnd.jupyter.widget-view+json": {
       "model_id": "",
       "version_major": 2,
       "version_minor": 0
      },
      "text/plain": [
       "FloatProgress(value=0.0, bar_style='info', description='Progress:', layout=Layout(height='25px', width='50%'),…"
      ]
     },
     "metadata": {},
     "output_type": "display_data"
    }
   ],
   "source": [
    "conversion_rates = {\n",
    "    \"Yen\": 0.0068,  # Example rate for USD\n",
    "    \"Swiss Franc\": 1.15,       # Example rate for Euro\n",
    "    \"Ruble\": 0.011,\n",
    "    \"Saudi Riyal\": 0.27,\n",
    "    \"Mexican Peso\":0.053,\n",
    "    \"Canadian Dollar\":0.73,\n",
    "    \"Brazil Real\": 0.20,              # Example rate to US Dollar\n",
    "    \"Bitcoin\": 20000,                 # Example rate to US Dollar (1 Bitcoin = 20,000 USD)\n",
    "    \"UK Pound\": 1.35,                 # Example rate to US Dollar\n",
    "    \"Yuan\": 0.14,                     # Example rate to US Dollar\n",
    "    \"Rupee\": 0.012,                   # Example rate to US Dollar\n",
    "    \"Australian Dollar\": 0.65,        # Example rate to US Dollar\n",
    "    \"Shekel\": 0.29,\n",
    "    \"Euro\": 1.1,# Example rate for GBP\n",
    "}\n",
    "\n",
    "\n",
    "uniondf = uniondf.withColumn(\n",
    "    \"Amount Paid\",\n",
    "     when(col(\"Receiving Currency\") == \"Yen\", col(\"Amount Received\") * conversion_rates[\"Yen\"])\n",
    "    .when(col(\"Receiving Currency\") == \"Swiss Franc\", col(\"Amount Received\") * conversion_rates[\"Swiss Franc\"])\n",
    "    .when(col(\"Receiving Currency\") == \"Ruble\", col(\"Amount Received\") * conversion_rates[\"Ruble\"])\n",
    "    .when(col(\"Receiving Currency\") == \"Saudi Riyal\", col(\"Amount Received\") * conversion_rates[\"Saudi Riyal\"])\n",
    "    .when(col(\"Receiving Currency\") == \"Mexican Peso\", col(\"Amount Received\") * conversion_rates[\"Mexican Peso\"])\n",
    "    .when(col(\"Receiving Currency\") == \"Canadian Dollar\", col(\"Amount Received\") * conversion_rates[\"Canadian Dollar\"])\n",
    "    .when(col(\"Receiving Currency\") == \"Brazil Real\", col(\"Amount Received\") * conversion_rates[\"Brazil Real\"])\n",
    "    .when(col(\"Receiving Currency\") == \"Bitcoin\", col(\"Amount Received\") * conversion_rates[\"Bitcoin\"])\n",
    "    .when(col(\"Receiving Currency\") == \"UK Pound\", col(\"Amount Received\") * conversion_rates[\"UK Pound\"])\n",
    "    .when(col(\"Receiving Currency\") == \"Yuan\", col(\"Amount Received\") * conversion_rates[\"Yuan\"])\n",
    "    .when(col(\"Receiving Currency\") == \"Rupee\", col(\"Amount Received\") * conversion_rates[\"Rupee\"])\n",
    "    .when(col(\"Receiving Currency\") == \"Australian Dollar\", col(\"Amount Received\") * conversion_rates[\"Australian Dollar\"])\n",
    "    .when(col(\"Receiving Currency\") == \"Shekel\", col(\"Amount Received\") * conversion_rates[\"Shekel\"])\n",
    "    .when(col(\"Receiving Currency\") == \"Euro\", col(\"Amount Received\") * conversion_rates[\"Euro\"])\n",
    "    .otherwise(col(\"Amount Paid\"))  # No conversion if currency is not listed\n",
    ")\n",
    "\n"
   ]
  },
  {
   "cell_type": "code",
   "execution_count": 13,
   "id": "23938e3a",
   "metadata": {},
   "outputs": [
    {
     "data": {
      "application/vnd.jupyter.widget-view+json": {
       "model_id": "",
       "version_major": 2,
       "version_minor": 0
      },
      "text/plain": [
       "FloatProgress(value=0.0, bar_style='info', description='Progress:', layout=Layout(height='25px', width='50%'),…"
      ]
     },
     "metadata": {},
     "output_type": "display_data"
    }
   ],
   "source": [
    "df_dropped = uniondf.drop(\"Receiving Currency\", \"Payment Currency\")\n"
   ]
  },
  {
   "cell_type": "code",
   "execution_count": 14,
   "id": "fa2ab6ec",
   "metadata": {},
   "outputs": [
    {
     "data": {
      "application/vnd.jupyter.widget-view+json": {
       "model_id": "",
       "version_major": 2,
       "version_minor": 0
      },
      "text/plain": [
       "FloatProgress(value=0.0, bar_style='info', description='Progress:', layout=Layout(height='25px', width='50%'),…"
      ]
     },
     "metadata": {},
     "output_type": "display_data"
    },
    {
     "name": "stdout",
     "output_type": "stream",
     "text": [
      "Sum of 'Amount Paid': 4784385723540295.0"
     ]
    }
   ],
   "source": [
    "from pyspark.sql import functions as F\n",
    "\n",
    "# Calculate the sum of the 'Amount Paid' column\n",
    "sum_value = df_dropped.agg(F.sum(\"Amount Paid\").alias(\"Total Sum\")).collect()[0][\"Total Sum\"]\n",
    "\n",
    "# Print the sum\n",
    "print(f\"Sum of 'Amount Paid': {sum_value}\")\n"
   ]
  },
  {
   "cell_type": "code",
   "execution_count": 15,
   "id": "982c0665",
   "metadata": {},
   "outputs": [
    {
     "data": {
      "application/vnd.jupyter.widget-view+json": {
       "model_id": "",
       "version_major": 2,
       "version_minor": 0
      },
      "text/plain": [
       "FloatProgress(value=0.0, bar_style='info', description='Progress:', layout=Layout(height='25px', width='50%'),…"
      ]
     },
     "metadata": {},
     "output_type": "display_data"
    },
    {
     "name": "stdout",
     "output_type": "stream",
     "text": [
      "Sum of 'Amount Paid': 4135962820317.391"
     ]
    }
   ],
   "source": [
    "sum_value = df_dropped.agg(F.sum(\"Amount Received\").alias(\"Total Sum\")).collect()[0][\"Total Sum\"]\n",
    "\n",
    "# Print the sum\n",
    "print(f\"Sum of 'Amount Paid': {sum_value}\")"
   ]
  },
  {
   "cell_type": "code",
   "execution_count": null,
   "id": "64b5500d",
   "metadata": {},
   "outputs": [],
   "source": []
  },
  {
   "cell_type": "code",
   "execution_count": 76,
   "id": "f3ca7e25",
   "metadata": {},
   "outputs": [
    {
     "data": {
      "application/vnd.jupyter.widget-view+json": {
       "model_id": "",
       "version_major": 2,
       "version_minor": 0
      },
      "text/plain": [
       "FloatProgress(value=0.0, bar_style='info', description='Progress:', layout=Layout(height='25px', width='50%'),…"
      ]
     },
     "metadata": {},
     "output_type": "display_data"
    },
    {
     "name": "stdout",
     "output_type": "stream",
     "text": [
      "+-------------------+---------+---------+-------+---------+---------------+-----------+--------------+-------------+\n",
      "|          Timestamp|From Bank| Account2|To Bank| Account4|Amount Received|Amount Paid|Payment Format|Is Laundering|\n",
      "+-------------------+---------+---------+-------+---------+---------------+-----------+--------------+-------------+\n",
      "|2022-09-01 00:08:00|       11|8000ECA90|     11|8000ECA90|      3195403.0|  3195403.0|  Reinvestment|            0|\n",
      "|2022-09-01 00:21:00|     3402|80021DAD0|   3402|80021DAD0|        1858.96|    1858.96|  Reinvestment|            0|\n",
      "|2022-09-01 00:00:00|       11|8000ECA90|   1120|8006AA910|       592571.0|   592571.0|        Cheque|            0|\n",
      "|2022-09-01 00:16:00|     3814|8006AD080|   3814|8006AD080|          12.32|      12.32|  Reinvestment|            0|\n",
      "|2022-09-01 00:00:00|       20|8006AD530|     20|8006AD530|        2941.56|    2941.56|  Reinvestment|            0|\n",
      "|2022-09-01 00:24:00|       12|8006ADD30|     12|8006ADD30|        6473.62|    6473.62|  Reinvestment|            0|\n",
      "|2022-09-01 00:17:00|       11|800059120|   1217|8006AD4E0|        60562.0|    60562.0|           ACH|            0|\n",
      "|2022-09-01 00:07:00|       11|8000ECA90|     11|8000ECA90|          22.97|      22.97|  Reinvestment|            0|\n",
      "|2022-09-01 00:28:00|     1120|8006AA910| 243166|81470DCF0|          43.53|      43.53|   Credit Card|            0|\n",
      "|2022-09-01 00:22:00|     1217|8006AD4E0|   1217|8006AD4E0|           5.04|       5.04|  Reinvestment|            0|\n",
      "|2022-09-01 00:28:00|      224|8006AD580|  23319|80567ED00|           9.28|       9.28|   Credit Card|            0|\n",
      "|2022-09-01 00:28:00|      394|8006AF210| 214342|805586EA0|          93.85|      93.85|   Credit Card|            0|\n",
      "|2022-09-01 00:29:00|     3618|800929EA0|   1277|800929EF0|           0.05|       0.05|           ACH|            0|\n",
      "|2022-09-01 00:08:00|      394|80093BDB0|  21414|80092A6C0|        64335.0|    64335.0|           ACH|            0|\n",
      "|2022-09-01 00:04:00|     1291|80092A730|   1291|80092A730|        3975.24|    3975.24|  Reinvestment|            0|\n",
      "|2022-09-01 00:20:00|     1231|800B69730|  11265|80092AC50|         1986.0|     1986.0|        Cheque|            0|\n",
      "|2022-09-01 00:14:00|      394|80093BDB0|    394|80093BDB0|       14903.78|   14903.78|  Reinvestment|            0|\n",
      "|2022-09-01 00:23:00|     1231|800B69730|  21414|80093CED0|          217.0|      217.0|           ACH|            0|\n",
      "|2022-09-01 00:05:00|       20|800952940|     20|800952940|       21126.92|   21126.92|  Reinvestment|            0|\n",
      "|2022-09-01 00:03:00|    31811|800A8FCD0|  31811|800A8FCD0|        4455.63|    4455.63|  Reinvestment|            0|\n",
      "+-------------------+---------+---------+-------+---------+---------------+-----------+--------------+-------------+\n",
      "only showing top 20 rows\n",
      "\n",
      "12002394"
     ]
    }
   ],
   "source": [
    "from pyspark.sql.functions import round\n",
    "df_rounded = df_dropped.withColumn(\n",
    "    \"Amount Received\", round(col(\"Amount Received\"), 2)\n",
    ")\n",
    "\n",
    "df_rounded=df_rounded.withColumn(\n",
    "    \"Amount Paid\", round(col(\"Amount Paid\"), 2)\n",
    ")\n",
    "\n",
    "df_rounded.show()\n",
    "\n",
    "df_rounded = df_rounded.coalesce(1)\n",
    "\n",
    "df_rounded.count()\n"
   ]
  },
  {
   "cell_type": "code",
   "execution_count": 77,
   "id": "740bcfae",
   "metadata": {},
   "outputs": [
    {
     "data": {
      "application/vnd.jupyter.widget-view+json": {
       "model_id": "",
       "version_major": 2,
       "version_minor": 0
      },
      "text/plain": [
       "FloatProgress(value=0.0, bar_style='info', description='Progress:', layout=Layout(height='25px', width='50%'),…"
      ]
     },
     "metadata": {},
     "output_type": "display_data"
    }
   ],
   "source": [
    "df_rounded=df_rounded.drop(\"Timestamp\")"
   ]
  },
  {
   "cell_type": "code",
   "execution_count": 31,
   "id": "f5fc53c1",
   "metadata": {},
   "outputs": [
    {
     "data": {
      "application/vnd.jupyter.widget-view+json": {
       "model_id": "",
       "version_major": 2,
       "version_minor": 0
      },
      "text/plain": [
       "FloatProgress(value=0.0, bar_style='info', description='Progress:', layout=Layout(height='25px', width='50%'),…"
      ]
     },
     "metadata": {},
     "output_type": "display_data"
    },
    {
     "name": "stdout",
     "output_type": "stream",
     "text": [
      "+---------+---------+-------+---------+---------------+-----------+--------------+-------------+\n",
      "|From Bank| Account2|To Bank| Account4|Amount Received|Amount Paid|Payment Format|Is Laundering|\n",
      "+---------+---------+-------+---------+---------------+-----------+--------------+-------------+\n",
      "|       11|8000ECA90|     11|8000ECA90|      3195403.0|  3195403.0|  Reinvestment|            0|\n",
      "|     3402|80021DAD0|   3402|80021DAD0|        1858.96|    1858.96|  Reinvestment|            0|\n",
      "|       11|8000ECA90|   1120|8006AA910|       592571.0|   592571.0|        Cheque|            0|\n",
      "|     3814|8006AD080|   3814|8006AD080|          12.32|      12.32|  Reinvestment|            0|\n",
      "|       20|8006AD530|     20|8006AD530|        2941.56|    2941.56|  Reinvestment|            0|\n",
      "|       12|8006ADD30|     12|8006ADD30|        6473.62|    6473.62|  Reinvestment|            0|\n",
      "|       11|800059120|   1217|8006AD4E0|        60562.0|    60562.0|           ACH|            0|\n",
      "|       11|8000ECA90|     11|8000ECA90|          22.97|      22.97|  Reinvestment|            0|\n",
      "|     1120|8006AA910| 243166|81470DCF0|          43.53|      43.53|   Credit Card|            0|\n",
      "|     1217|8006AD4E0|   1217|8006AD4E0|           5.04|       5.04|  Reinvestment|            0|\n",
      "|      224|8006AD580|  23319|80567ED00|           9.28|       9.28|   Credit Card|            0|\n",
      "|      394|8006AF210| 214342|805586EA0|          93.85|      93.85|   Credit Card|            0|\n",
      "|     3618|800929EA0|   1277|800929EF0|           0.05|       0.05|           ACH|            0|\n",
      "|      394|80093BDB0|  21414|80092A6C0|        64335.0|    64335.0|           ACH|            0|\n",
      "|     1291|80092A730|   1291|80092A730|        3975.24|    3975.24|  Reinvestment|            0|\n",
      "|     1231|800B69730|  11265|80092AC50|         1986.0|     1986.0|        Cheque|            0|\n",
      "|      394|80093BDB0|    394|80093BDB0|       14903.78|   14903.78|  Reinvestment|            0|\n",
      "|     1231|800B69730|  21414|80093CED0|          217.0|      217.0|           ACH|            0|\n",
      "|       20|800952940|     20|800952940|       21126.92|   21126.92|  Reinvestment|            0|\n",
      "|    31811|800A8FCD0|  31811|800A8FCD0|        4455.63|    4455.63|  Reinvestment|            0|\n",
      "+---------+---------+-------+---------+---------------+-----------+--------------+-------------+\n",
      "only showing top 20 rows"
     ]
    }
   ],
   "source": [
    "\n",
    "df_rounded.show()"
   ]
  },
  {
   "cell_type": "code",
   "execution_count": null,
   "id": "0393bab4",
   "metadata": {},
   "outputs": [],
   "source": [
    "\n"
   ]
  },
  {
   "cell_type": "code",
   "execution_count": null,
   "id": "c4bdcaef",
   "metadata": {},
   "outputs": [],
   "source": [
    "\n"
   ]
  },
  {
   "cell_type": "code",
   "execution_count": 16,
   "id": "991ccef6",
   "metadata": {},
   "outputs": [
    {
     "data": {
      "application/vnd.jupyter.widget-view+json": {
       "model_id": "",
       "version_major": 2,
       "version_minor": 0
      },
      "text/plain": [
       "FloatProgress(value=0.0, bar_style='info', description='Progress:', layout=Layout(height='25px', width='50%'),…"
      ]
     },
     "metadata": {},
     "output_type": "display_data"
    },
    {
     "name": "stderr",
     "output_type": "stream",
     "text": [
      "An error was encountered:\n",
      "name 'df_filtered' is not defined\n",
      "Traceback (most recent call last):\n",
      "NameError: name 'df_filtered' is not defined\n",
      "\n"
     ]
    }
   ],
   "source": []
  },
  {
   "cell_type": "code",
   "execution_count": 17,
   "id": "8477a8c1",
   "metadata": {},
   "outputs": [
    {
     "data": {
      "application/vnd.jupyter.widget-view+json": {
       "model_id": "",
       "version_major": 2,
       "version_minor": 0
      },
      "text/plain": [
       "FloatProgress(value=0.0, bar_style='info', description='Progress:', layout=Layout(height='25px', width='50%'),…"
      ]
     },
     "metadata": {},
     "output_type": "display_data"
    },
    {
     "name": "stderr",
     "output_type": "stream",
     "text": [
      "An error was encountered:\n",
      "name 'df_filtered' is not defined\n",
      "Traceback (most recent call last):\n",
      "NameError: name 'df_filtered' is not defined\n",
      "\n"
     ]
    }
   ],
   "source": []
  },
  {
   "cell_type": "code",
   "execution_count": 18,
   "id": "a759eca8",
   "metadata": {},
   "outputs": [
    {
     "data": {
      "application/vnd.jupyter.widget-view+json": {
       "model_id": "",
       "version_major": 2,
       "version_minor": 0
      },
      "text/plain": [
       "FloatProgress(value=0.0, bar_style='info', description='Progress:', layout=Layout(height='25px', width='50%'),…"
      ]
     },
     "metadata": {},
     "output_type": "display_data"
    },
    {
     "name": "stderr",
     "output_type": "stream",
     "text": [
      "An error was encountered:\n",
      "name 'df_filtered' is not defined\n",
      "Traceback (most recent call last):\n",
      "NameError: name 'df_filtered' is not defined\n",
      "\n"
     ]
    }
   ],
   "source": []
  },
  {
   "cell_type": "code",
   "execution_count": 32,
   "id": "98feea11",
   "metadata": {},
   "outputs": [
    {
     "data": {
      "application/vnd.jupyter.widget-view+json": {
       "model_id": "cec34eb132af4429ac3c25ac96ecfd3f",
       "version_major": 2,
       "version_minor": 0
      },
      "text/plain": [
       "FloatProgress(value=0.0, bar_style='info', description='Progress:', layout=Layout(height='25px', width='50%'),…"
      ]
     },
     "metadata": {},
     "output_type": "display_data"
    },
    {
     "name": "stderr",
     "output_type": "stream",
     "text": [
      "Interrupted by user\n"
     ]
    }
   ],
   "source": [
    "df_rounded.write.mode(\"overwrite\").parquet(\"s3://newmlmain/withtimestamp/\")"
   ]
  },
  {
   "cell_type": "code",
   "execution_count": 20,
   "id": "354dcec5",
   "metadata": {},
   "outputs": [
    {
     "data": {
      "application/vnd.jupyter.widget-view+json": {
       "model_id": "",
       "version_major": 2,
       "version_minor": 0
      },
      "text/plain": [
       "FloatProgress(value=0.0, bar_style='info', description='Progress:', layout=Layout(height='25px', width='50%'),…"
      ]
     },
     "metadata": {},
     "output_type": "display_data"
    },
    {
     "name": "stderr",
     "output_type": "stream",
     "text": [
      "An error was encountered:\n",
      "name 'df_rounded' is not defined\n",
      "Traceback (most recent call last):\n",
      "NameError: name 'df_rounded' is not defined\n",
      "\n"
     ]
    }
   ],
   "source": []
  },
  {
   "cell_type": "code",
   "execution_count": 78,
   "id": "ed87418e",
   "metadata": {},
   "outputs": [
    {
     "data": {
      "application/vnd.jupyter.widget-view+json": {
       "model_id": "",
       "version_major": 2,
       "version_minor": 0
      },
      "text/plain": [
       "FloatProgress(value=0.0, bar_style='info', description='Progress:', layout=Layout(height='25px', width='50%'),…"
      ]
     },
     "metadata": {},
     "output_type": "display_data"
    }
   ],
   "source": [
    "df_rounded.write.mode(\"overwrite\").parquet(\"s3://mlpro11/mk111/\")"
   ]
  },
  {
   "cell_type": "code",
   "execution_count": 71,
   "id": "fbb06f88",
   "metadata": {},
   "outputs": [
    {
     "data": {
      "application/vnd.jupyter.widget-view+json": {
       "model_id": "",
       "version_major": 2,
       "version_minor": 0
      },
      "text/plain": [
       "FloatProgress(value=0.0, bar_style='info', description='Progress:', layout=Layout(height='25px', width='50%'),…"
      ]
     },
     "metadata": {},
     "output_type": "display_data"
    }
   ],
   "source": [
    "df_rounded=spark.read.parquet(\"s3://mlpro11/twolakhsrows/\")"
   ]
  },
  {
   "cell_type": "code",
   "execution_count": 79,
   "id": "f8077710",
   "metadata": {},
   "outputs": [
    {
     "data": {
      "application/vnd.jupyter.widget-view+json": {
       "model_id": "",
       "version_major": 2,
       "version_minor": 0
      },
      "text/plain": [
       "FloatProgress(value=0.0, bar_style='info', description='Progress:', layout=Layout(height='25px', width='50%'),…"
      ]
     },
     "metadata": {},
     "output_type": "display_data"
    }
   ],
   "source": [
    "filtered_df = df_rounded.filter(df_rounded[\"Is Laundering\"] == 1)\n",
    "\n",
    "filtered_df1 = df_rounded.filter(df_rounded[\"Is Laundering\"] == 0)\n"
   ]
  },
  {
   "cell_type": "code",
   "execution_count": 80,
   "id": "cf68249b",
   "metadata": {},
   "outputs": [
    {
     "data": {
      "application/vnd.jupyter.widget-view+json": {
       "model_id": "",
       "version_major": 2,
       "version_minor": 0
      },
      "text/plain": [
       "FloatProgress(value=0.0, bar_style='info', description='Progress:', layout=Layout(height='25px', width='50%'),…"
      ]
     },
     "metadata": {},
     "output_type": "display_data"
    }
   ],
   "source": [
    "fraction = 0.2"
   ]
  },
  {
   "cell_type": "code",
   "execution_count": 81,
   "id": "9a2f77e2",
   "metadata": {},
   "outputs": [
    {
     "data": {
      "application/vnd.jupyter.widget-view+json": {
       "model_id": "",
       "version_major": 2,
       "version_minor": 0
      },
      "text/plain": [
       "FloatProgress(value=0.0, bar_style='info', description='Progress:', layout=Layout(height='25px', width='50%'),…"
      ]
     },
     "metadata": {},
     "output_type": "display_data"
    },
    {
     "name": "stdout",
     "output_type": "stream",
     "text": [
      "1805"
     ]
    }
   ],
   "source": [
    "sampled_df = filtered_df.sample(withReplacement=False, fraction=fraction, seed=42)\n",
    "\n",
    "# Limit the result to 10,000 rows\n",
    "limited_df = sampled_df.limit(10000)\n",
    "\n",
    "limited_df.count()\n"
   ]
  },
  {
   "cell_type": "code",
   "execution_count": 82,
   "id": "49ae8247",
   "metadata": {},
   "outputs": [
    {
     "data": {
      "application/vnd.jupyter.widget-view+json": {
       "model_id": "",
       "version_major": 2,
       "version_minor": 0
      },
      "text/plain": [
       "FloatProgress(value=0.0, bar_style='info', description='Progress:', layout=Layout(height='25px', width='50%'),…"
      ]
     },
     "metadata": {},
     "output_type": "display_data"
    }
   ],
   "source": [
    "fraction = 0.1  # Adjust this fraction as needed\n",
    "\n",
    "# Sample a fraction of the DataFrame\n",
    "sampled_df1 = filtered_df1.sample(withReplacement=False, fraction=fraction, seed=42)\n",
    "\n",
    "# Limit the result to 10,000 rows\n",
    "limited_df1 = sampled_df1.limit(20000)\n"
   ]
  },
  {
   "cell_type": "code",
   "execution_count": 38,
   "id": "6a0b2db6",
   "metadata": {},
   "outputs": [
    {
     "data": {
      "application/vnd.jupyter.widget-view+json": {
       "model_id": "",
       "version_major": 2,
       "version_minor": 0
      },
      "text/plain": [
       "FloatProgress(value=0.0, bar_style='info', description='Progress:', layout=Layout(height='25px', width='50%'),…"
      ]
     },
     "metadata": {},
     "output_type": "display_data"
    },
    {
     "name": "stdout",
     "output_type": "stream",
     "text": [
      "200000"
     ]
    }
   ],
   "source": [
    "limited_df1.count()\n"
   ]
  },
  {
   "cell_type": "code",
   "execution_count": 83,
   "id": "9956f181",
   "metadata": {},
   "outputs": [
    {
     "data": {
      "application/vnd.jupyter.widget-view+json": {
       "model_id": "",
       "version_major": 2,
       "version_minor": 0
      },
      "text/plain": [
       "FloatProgress(value=0.0, bar_style='info', description='Progress:', layout=Layout(height='25px', width='50%'),…"
      ]
     },
     "metadata": {},
     "output_type": "display_data"
    },
    {
     "name": "stdout",
     "output_type": "stream",
     "text": [
      "+---------+---------+-------+---------+---------------+-----------+--------------+-------------+\n",
      "|From Bank| Account2|To Bank| Account4|Amount Received|Amount Paid|Payment Format|Is Laundering|\n",
      "+---------+---------+-------+---------+---------------+-----------+--------------+-------------+\n",
      "|       11|8000ECA90|     11|8000ECA90|          22.97|      22.97|  Reinvestment|            0|\n",
      "|      394|80093BDB0|    394|80093BDB0|       14903.78|   14903.78|  Reinvestment|            0|\n",
      "|       20|800952940|     20|800952940|       21126.92|   21126.92|  Reinvestment|            0|\n",
      "|    32050|800BA59F0|  32050|800BA59F0|         609.17|     609.17|  Reinvestment|            0|\n",
      "|       12|800BA4BE0|     12|800BA4BE0|           14.7|       14.7|  Reinvestment|            0|\n",
      "|     1231|800BBE260| 261455|817C3BC30|          189.6|      189.6|   Credit Card|            0|\n",
      "|     1439|800BBF6C0|   1439|800BBF6C0|          11.98|      11.98|  Reinvestment|            0|\n",
      "|    32081|800BC6D10|   1439|800BDF9C0|          41.11|      41.11|          Wire|            0|\n",
      "|    11265|800BD0DD0|  11701|800BDDA30|         6645.0|     6645.0|           ACH|            0|\n",
      "|     1439|800BCF200|   5855|80A88ABA0|           4.12|       4.12|   Credit Card|            0|\n",
      "|     1889|800BDCE50|     20|800BF1EB0|           6.58|       6.58|   Credit Card|            0|\n",
      "|    21393|800E3E350|  21393|800E3E350|        2597.74|    2597.74|  Reinvestment|            0|\n",
      "|    11046|800F6BC70|  11046|800F6BC70|       79446.43|   79446.43|  Reinvestment|            0|\n",
      "|     2860|800BE1150|  12204|800F6CC70|      883116.56|  883116.56|        Cheque|            0|\n",
      "|     1277|800BE1290|   1277|800BE1290|            6.3|        6.3|  Reinvestment|            0|\n",
      "|    22435|800F6D270| 217862|8129D2D20|         169.65|     169.65|   Credit Card|            0|\n",
      "|    12592|800F71C50|  12592|800F71C50|       12883.23|   12883.23|  Reinvestment|            0|\n",
      "|     1217|800F778B0|   1217|800F778B0|        1772.36|    1772.36|  Reinvestment|            0|\n",
      "|     1422|8014CA630|    394|8014C5960|         3479.0|     3479.0|           ACH|            0|\n",
      "|       20|801565C50|     20|801565C50|         684.65|     684.65|  Reinvestment|            0|\n",
      "+---------+---------+-------+---------+---------------+-----------+--------------+-------------+\n",
      "only showing top 20 rows"
     ]
    }
   ],
   "source": [
    "df_rounded=limited_df1.union(limited_df)\n",
    "\n",
    "df_rounded.show()\n",
    "\n"
   ]
  },
  {
   "cell_type": "raw",
   "id": "3fdf0216",
   "metadata": {},
   "source": []
  },
  {
   "cell_type": "code",
   "execution_count": 48,
   "id": "0af489b7",
   "metadata": {},
   "outputs": [
    {
     "data": {
      "application/vnd.jupyter.widget-view+json": {
       "model_id": "",
       "version_major": 2,
       "version_minor": 0
      },
      "text/plain": [
       "FloatProgress(value=0.0, bar_style='info', description='Progress:', layout=Layout(height='25px', width='50%'),…"
      ]
     },
     "metadata": {},
     "output_type": "display_data"
    },
    {
     "name": "stdout",
     "output_type": "stream",
     "text": [
      "DataFrame[summary: string, From Bank: string, Account2: string, To Bank: string, Account4: string, Amount Received: string, Amount Paid: string, Payment Format: string, Is Laundering: string]"
     ]
    }
   ],
   "source": [
    "df_rounded.describe()\n"
   ]
  },
  {
   "cell_type": "code",
   "execution_count": 40,
   "id": "09c2f4e0",
   "metadata": {},
   "outputs": [
    {
     "data": {
      "application/vnd.jupyter.widget-view+json": {
       "model_id": "",
       "version_major": 2,
       "version_minor": 0
      },
      "text/plain": [
       "FloatProgress(value=0.0, bar_style='info', description='Progress:', layout=Layout(height='25px', width='50%'),…"
      ]
     },
     "metadata": {},
     "output_type": "display_data"
    },
    {
     "name": "stdout",
     "output_type": "stream",
     "text": [
      "201805"
     ]
    }
   ],
   "source": [
    "df_rounded.count()"
   ]
  },
  {
   "cell_type": "code",
   "execution_count": 84,
   "id": "0aad64c9",
   "metadata": {},
   "outputs": [
    {
     "data": {
      "application/vnd.jupyter.widget-view+json": {
       "model_id": "",
       "version_major": 2,
       "version_minor": 0
      },
      "text/plain": [
       "FloatProgress(value=0.0, bar_style='info', description='Progress:', layout=Layout(height='25px', width='50%'),…"
      ]
     },
     "metadata": {},
     "output_type": "display_data"
    }
   ],
   "source": [
    "df_rounded.write.mode(\"overwrite\").parquet(\"s3://mlpro11/twolakhsrows/\")"
   ]
  },
  {
   "cell_type": "code",
   "execution_count": 85,
   "id": "30d2037a",
   "metadata": {},
   "outputs": [
    {
     "data": {
      "application/vnd.jupyter.widget-view+json": {
       "model_id": "",
       "version_major": 2,
       "version_minor": 0
      },
      "text/plain": [
       "FloatProgress(value=0.0, bar_style='info', description='Progress:', layout=Layout(height='25px', width='50%'),…"
      ]
     },
     "metadata": {},
     "output_type": "display_data"
    }
   ],
   "source": [
    "from pyspark.ml.feature import StringIndexer, OneHotEncoder, VectorAssembler, StandardScaler\n",
    "from pyspark.ml import Pipeline\n",
    "\n",
    "indexers = [\n",
    "    StringIndexer(inputCol=\"From Bank\", outputCol=\"from_bank_index\",handleInvalid=\"keep\"),\n",
    "    StringIndexer(inputCol=\"To Bank\", outputCol=\"to_bank_index\",handleInvalid=\"keep\"),\n",
    "    StringIndexer(inputCol=\"Payment Format\", outputCol=\"type_index\",handleInvalid=\"keep\")\n",
    "]\n",
    "\n",
    "# OneHotEncoding the indexed columns\n",
    "encoders = [\n",
    "    OneHotEncoder(inputCol=\"from_bank_index\", outputCol=\"from_bank_encoded\"),\n",
    "    OneHotEncoder(inputCol=\"to_bank_index\", outputCol=\"to_bank_encoded\"),\n",
    "    OneHotEncoder(inputCol=\"type_index\", outputCol=\"type_encoded\")\n",
    "]\n",
    "\n",
    "# Assembling all features into a single vector\n",
    "assembler = VectorAssembler(\n",
    "    inputCols=[\"from_bank_encoded\", \"to_bank_encoded\", \"type_encoded\", \"Amount Paid\", \"Amount Received\"],\n",
    "    outputCol=\"features\"\n",
    ")"
   ]
  },
  {
   "cell_type": "code",
   "execution_count": 86,
   "id": "f492dbd4",
   "metadata": {},
   "outputs": [
    {
     "data": {
      "application/vnd.jupyter.widget-view+json": {
       "model_id": "",
       "version_major": 2,
       "version_minor": 0
      },
      "text/plain": [
       "FloatProgress(value=0.0, bar_style='info', description='Progress:', layout=Layout(height='25px', width='50%'),…"
      ]
     },
     "metadata": {},
     "output_type": "display_data"
    }
   ],
   "source": [
    "scaler = StandardScaler(inputCol=\"features\", outputCol=\"scaled_features\", withMean=True, withStd=True)"
   ]
  },
  {
   "cell_type": "code",
   "execution_count": 87,
   "id": "bc595f13",
   "metadata": {},
   "outputs": [
    {
     "data": {
      "application/vnd.jupyter.widget-view+json": {
       "model_id": "",
       "version_major": 2,
       "version_minor": 0
      },
      "text/plain": [
       "FloatProgress(value=0.0, bar_style='info', description='Progress:', layout=Layout(height='25px', width='50%'),…"
      ]
     },
     "metadata": {},
     "output_type": "display_data"
    }
   ],
   "source": [
    "pipeline = Pipeline(stages=indexers + encoders + [assembler, scaler])\n"
   ]
  },
  {
   "cell_type": "code",
   "execution_count": 88,
   "id": "ddd3864b",
   "metadata": {},
   "outputs": [
    {
     "data": {
      "application/vnd.jupyter.widget-view+json": {
       "model_id": "",
       "version_major": 2,
       "version_minor": 0
      },
      "text/plain": [
       "FloatProgress(value=0.0, bar_style='info', description='Progress:', layout=Layout(height='25px', width='50%'),…"
      ]
     },
     "metadata": {},
     "output_type": "display_data"
    }
   ],
   "source": [
    "data_spark_preprocessed = pipeline.fit(df_rounded).transform(df_rounded)"
   ]
  },
  {
   "cell_type": "code",
   "execution_count": 89,
   "id": "53b1ef88",
   "metadata": {},
   "outputs": [
    {
     "data": {
      "application/vnd.jupyter.widget-view+json": {
       "model_id": "",
       "version_major": 2,
       "version_minor": 0
      },
      "text/plain": [
       "FloatProgress(value=0.0, bar_style='info', description='Progress:', layout=Layout(height='25px', width='50%'),…"
      ]
     },
     "metadata": {},
     "output_type": "display_data"
    },
    {
     "name": "stdout",
     "output_type": "stream",
     "text": [
      "+--------------------+\n",
      "|     scaled_features|\n",
      "+--------------------+\n",
      "|[-0.1806316401868...|\n",
      "|[-0.1806316401868...|\n",
      "|[-0.1806316401868...|\n",
      "|[-0.1806316401868...|\n",
      "|[-0.1806316401868...|\n",
      "+--------------------+\n",
      "only showing top 5 rows"
     ]
    }
   ],
   "source": [
    "data_spark_preprocessed.select(\"scaled_features\").show(5)"
   ]
  },
  {
   "cell_type": "code",
   "execution_count": 90,
   "id": "619b21ec",
   "metadata": {},
   "outputs": [
    {
     "data": {
      "application/vnd.jupyter.widget-view+json": {
       "model_id": "",
       "version_major": 2,
       "version_minor": 0
      },
      "text/plain": [
       "FloatProgress(value=0.0, bar_style='info', description='Progress:', layout=Layout(height='25px', width='50%'),…"
      ]
     },
     "metadata": {},
     "output_type": "display_data"
    }
   ],
   "source": [
    "from pyspark.ml.classification import RandomForestClassifier\n",
    "from pyspark.ml.evaluation import MulticlassClassificationEvaluator\n",
    "from pyspark.ml.tuning import CrossValidator, ParamGridBuilder"
   ]
  },
  {
   "cell_type": "code",
   "execution_count": 91,
   "id": "94db81e0",
   "metadata": {},
   "outputs": [
    {
     "data": {
      "application/vnd.jupyter.widget-view+json": {
       "model_id": "",
       "version_major": 2,
       "version_minor": 0
      },
      "text/plain": [
       "FloatProgress(value=0.0, bar_style='info', description='Progress:', layout=Layout(height='25px', width='50%'),…"
      ]
     },
     "metadata": {},
     "output_type": "display_data"
    }
   ],
   "source": [
    "train_data, test_data = data_spark_preprocessed.randomSplit([0.7, 0.3], seed=42)\n"
   ]
  },
  {
   "cell_type": "code",
   "execution_count": 94,
   "id": "e330d4ea",
   "metadata": {},
   "outputs": [
    {
     "data": {
      "application/vnd.jupyter.widget-view+json": {
       "model_id": "",
       "version_major": 2,
       "version_minor": 0
      },
      "text/plain": [
       "FloatProgress(value=0.0, bar_style='info', description='Progress:', layout=Layout(height='25px', width='50%'),…"
      ]
     },
     "metadata": {},
     "output_type": "display_data"
    },
    {
     "name": "stdout",
     "output_type": "stream",
     "text": [
      "Training Data Count: 15328\n",
      "Test Data Count: 6477"
     ]
    }
   ],
   "source": [
    "# Show the size of the training and test sets\n",
    "print(f\"Training Data Count: {train_data.count()}\")\n",
    "print(f\"Test Data Count: {test_data.count()}\")\n"
   ]
  },
  {
   "cell_type": "code",
   "execution_count": 101,
   "id": "450447b9",
   "metadata": {},
   "outputs": [
    {
     "data": {
      "application/vnd.jupyter.widget-view+json": {
       "model_id": "",
       "version_major": 2,
       "version_minor": 0
      },
      "text/plain": [
       "FloatProgress(value=0.0, bar_style='info', description='Progress:', layout=Layout(height='25px', width='50%'),…"
      ]
     },
     "metadata": {},
     "output_type": "display_data"
    }
   ],
   "source": [
    "rf_classifier = RandomForestClassifier(labelCol=\"Is Laundering\", featuresCol=\"scaled_features\", numTrees=100)"
   ]
  },
  {
   "cell_type": "code",
   "execution_count": 102,
   "id": "6d808f04",
   "metadata": {},
   "outputs": [
    {
     "data": {
      "application/vnd.jupyter.widget-view+json": {
       "model_id": "",
       "version_major": 2,
       "version_minor": 0
      },
      "text/plain": [
       "FloatProgress(value=0.0, bar_style='info', description='Progress:', layout=Layout(height='25px', width='50%'),…"
      ]
     },
     "metadata": {},
     "output_type": "display_data"
    }
   ],
   "source": [
    "rf_model = rf_classifier.fit(train_data)"
   ]
  },
  {
   "cell_type": "code",
   "execution_count": 104,
   "id": "7ed0c09b",
   "metadata": {},
   "outputs": [
    {
     "data": {
      "application/vnd.jupyter.widget-view+json": {
       "model_id": "",
       "version_major": 2,
       "version_minor": 0
      },
      "text/plain": [
       "FloatProgress(value=0.0, bar_style='info', description='Progress:', layout=Layout(height='25px', width='50%'),…"
      ]
     },
     "metadata": {},
     "output_type": "display_data"
    },
    {
     "name": "stdout",
     "output_type": "stream",
     "text": [
      "Test Set Accuracy: 0.9161648911533117"
     ]
    }
   ],
   "source": [
    "predictions = rf_model.transform(test_data)\n",
    "\n",
    "# Initialize an evaluator with metrics like accuracy, precision, recall, and F1-score\n",
    "evaluator = MulticlassClassificationEvaluator(labelCol=\"Is Laundering\", predictionCol=\"prediction\", metricName=\"accuracy\")\n",
    "\n",
    "# Calculate accuracy\n",
    "accuracy = evaluator.evaluate(predictions)\n",
    "print(f\"Test Set Accuracy: {accuracy}\")\n",
    "\n",
    "# Optionally, evaluate other metrics like precision, recall, and F1-score\n",
    "precision_evaluator = MulticlassClassificationEvaluator(labelCol=\"Is Laundering\", predictionCol=\"prediction\", metricName=\"weightedPrecision\")\n",
    "recall_evaluator = MulticlassClassificationEvaluator(labelCol=\"Is Laundering\", predictionCol=\"prediction\", metricName=\"weightedRecall\")\n",
    "f1_evaluator = MulticlassClassificationEvaluator(labelCol=\"Is Laundering\", predictionCol=\"prediction\", metricName=\"f1\")\n",
    "\n",
    "precision = precision_evaluator.evaluate(predictions)\n",
    "recall = recall_evaluator.evaluate(predictions)\n",
    "f1_score = f1_evaluator.evaluate(predictions)"
   ]
  },
  {
   "cell_type": "code",
   "execution_count": 105,
   "id": "9f2fc61a",
   "metadata": {},
   "outputs": [
    {
     "data": {
      "application/vnd.jupyter.widget-view+json": {
       "model_id": "",
       "version_major": 2,
       "version_minor": 0
      },
      "text/plain": [
       "FloatProgress(value=0.0, bar_style='info', description='Progress:', layout=Layout(height='25px', width='50%'),…"
      ]
     },
     "metadata": {},
     "output_type": "display_data"
    },
    {
     "name": "stdout",
     "output_type": "stream",
     "text": [
      "Test Set Precision: 0.8393581077819594\n",
      "Test Set Recall: 0.9161648911533117\n",
      "Test Set F1-Score: 0.8760812930632103"
     ]
    }
   ],
   "source": [
    "print(f\"Test Set Precision: {precision}\")\n",
    "print(f\"Test Set Recall: {recall}\")\n",
    "print(f\"Test Set F1-Score: {f1_score}\")"
   ]
  },
  {
   "cell_type": "code",
   "execution_count": null,
   "id": "1761b53d",
   "metadata": {},
   "outputs": [
    {
     "data": {
      "application/vnd.jupyter.widget-view+json": {
       "model_id": "3553e9853a1240808ea49ad707960cfc",
       "version_major": 2,
       "version_minor": 0
      },
      "text/plain": [
       "FloatProgress(value=0.0, bar_style='info', description='Progress:', layout=Layout(height='25px', width='50%'),…"
      ]
     },
     "metadata": {},
     "output_type": "display_data"
    }
   ],
   "source": [
    "# Create a parameter grid for hyperparameter tuning\n",
    "paramGrid = ParamGridBuilder() \\\n",
    "    .addGrid(rf_classifier.numTrees, [50, 100, 200]) \\\n",
    "    .addGrid(rf_classifier.maxDepth, [5, 10, 15]) \\\n",
    "    .build()\n",
    "\n",
    "# Initialize CrossValidator\n",
    "crossval = CrossValidator(estimator=rf_classifier,\n",
    "                          estimatorParamMaps=paramGrid,\n",
    "                          evaluator=evaluator,\n",
    "                          numFolds=5)\n",
    "\n",
    "# Perform cross-validation\n",
    "cv_model = crossval.fit(train_data)\n",
    "\n",
    "# Evaluate the best model\n",
    "cv_predictions = cv_model.transform(test_data)\n",
    "cv_accuracy = evaluator.evaluate(cv_predictions)\n",
    "print(f\"Cross-Validated Test Set Accuracy: {cv_accuracy}\")\n"
   ]
  },
  {
   "cell_type": "code",
   "execution_count": null,
   "id": "648d0167",
   "metadata": {},
   "outputs": [],
   "source": []
  },
  {
   "cell_type": "code",
   "execution_count": 92,
   "id": "c3c1d586",
   "metadata": {},
   "outputs": [
    {
     "data": {
      "application/vnd.jupyter.widget-view+json": {
       "model_id": "",
       "version_major": 2,
       "version_minor": 0
      },
      "text/plain": [
       "FloatProgress(value=0.0, bar_style='info', description='Progress:', layout=Layout(height='25px', width='50%'),…"
      ]
     },
     "metadata": {},
     "output_type": "display_data"
    }
   ],
   "source": [
    "from pyspark.ml.classification import LogisticRegression"
   ]
  },
  {
   "cell_type": "code",
   "execution_count": 93,
   "id": "a9875e8b",
   "metadata": {},
   "outputs": [
    {
     "data": {
      "application/vnd.jupyter.widget-view+json": {
       "model_id": "",
       "version_major": 2,
       "version_minor": 0
      },
      "text/plain": [
       "FloatProgress(value=0.0, bar_style='info', description='Progress:', layout=Layout(height='25px', width='50%'),…"
      ]
     },
     "metadata": {},
     "output_type": "display_data"
    }
   ],
   "source": [
    "lr = LogisticRegression(featuresCol=\"scaled_features\", labelCol=\"Is Laundering\")  # Make sure you have a 'label' column\n",
    "\n"
   ]
  },
  {
   "cell_type": "code",
   "execution_count": 95,
   "id": "2ca1672e",
   "metadata": {},
   "outputs": [
    {
     "data": {
      "application/vnd.jupyter.widget-view+json": {
       "model_id": "",
       "version_major": 2,
       "version_minor": 0
      },
      "text/plain": [
       "FloatProgress(value=0.0, bar_style='info', description='Progress:', layout=Layout(height='25px', width='50%'),…"
      ]
     },
     "metadata": {},
     "output_type": "display_data"
    }
   ],
   "source": [
    "lr_model = lr.fit(train_data)\n"
   ]
  },
  {
   "cell_type": "code",
   "execution_count": 97,
   "id": "6698e9cf",
   "metadata": {},
   "outputs": [
    {
     "data": {
      "application/vnd.jupyter.widget-view+json": {
       "model_id": "",
       "version_major": 2,
       "version_minor": 0
      },
      "text/plain": [
       "FloatProgress(value=0.0, bar_style='info', description='Progress:', layout=Layout(height='25px', width='50%'),…"
      ]
     },
     "metadata": {},
     "output_type": "display_data"
    },
    {
     "name": "stdout",
     "output_type": "stream",
     "text": [
      "+--------------------+-------------+----------+\n",
      "|            features|IS Laundering|prediction|\n",
      "+--------------------+-------------+----------+\n",
      "|(6347,[13,3308,63...|            0|       0.0|\n",
      "|(6347,[13,3308,63...|            0|       0.0|\n",
      "|(6347,[13,3357,63...|            0|       0.0|\n",
      "|(6347,[13,3311,63...|            0|       0.0|\n",
      "|(6347,[13,3367,63...|            0|       0.0|\n",
      "|(6347,[13,3400,63...|            0|       0.0|\n",
      "|(6347,[13,3308,63...|            0|       0.0|\n",
      "|(6347,[13,4504,63...|            0|       0.0|\n",
      "|(6347,[13,3308,63...|            0|       0.0|\n",
      "|(6347,[13,3308,63...|            0|       0.0|\n",
      "|(6347,[13,3308,63...|            0|       0.0|\n",
      "|(6347,[13,3310,63...|            0|       1.0|\n",
      "|(6347,[13,3308,63...|            0|       0.0|\n",
      "|(6347,[13,3308,63...|            0|       0.0|\n",
      "|(6347,[13,3308,63...|            0|       0.0|\n",
      "|(6347,[13,3308,63...|            0|       0.0|\n",
      "|(6347,[13,3620,63...|            0|       0.0|\n",
      "|(6347,[13,3706,63...|            0|       0.0|\n",
      "|(6347,[13,3308,63...|            0|       0.0|\n",
      "|(6347,[13,3308,63...|            0|       0.0|\n",
      "+--------------------+-------------+----------+\n",
      "only showing top 20 rows"
     ]
    }
   ],
   "source": [
    "predictions = lr_model.transform(test_data)\n",
    "\n",
    "# Show some predictions\n",
    "predictions.select(\"features\", \"IS Laundering\", \"prediction\").show()\n",
    "\n"
   ]
  },
  {
   "cell_type": "code",
   "execution_count": 98,
   "id": "6a00b693",
   "metadata": {},
   "outputs": [
    {
     "data": {
      "application/vnd.jupyter.widget-view+json": {
       "model_id": "",
       "version_major": 2,
       "version_minor": 0
      },
      "text/plain": [
       "FloatProgress(value=0.0, bar_style='info', description='Progress:', layout=Layout(height='25px', width='50%'),…"
      ]
     },
     "metadata": {},
     "output_type": "display_data"
    },
    {
     "name": "stdout",
     "output_type": "stream",
     "text": [
      "Area Under ROC Curve (AUC): 0.96"
     ]
    }
   ],
   "source": [
    "from pyspark.ml.evaluation import BinaryClassificationEvaluator\n",
    "binary_evaluator = BinaryClassificationEvaluator(labelCol=\"Is Laundering\", metricName=\"areaUnderROC\")\n",
    "roc_auc = binary_evaluator.evaluate(predictions)\n",
    "print(f\"Area Under ROC Curve (AUC): {roc_auc:.2f}\")\n",
    "\n",
    "# Binary Classification Evaluator for Accuracy\n",
    "accuracy_evaluator = MulticlassClassificationEvaluator(\n",
    "    labelCol=\"Is Laundering\", \n",
    "    predictionCol=\"prediction\", \n",
    "    metricName=\"accuracy\"\n",
    ")\n",
    "\n"
   ]
  },
  {
   "cell_type": "code",
   "execution_count": 99,
   "id": "04b0da9c",
   "metadata": {},
   "outputs": [
    {
     "data": {
      "application/vnd.jupyter.widget-view+json": {
       "model_id": "",
       "version_major": 2,
       "version_minor": 0
      },
      "text/plain": [
       "FloatProgress(value=0.0, bar_style='info', description='Progress:', layout=Layout(height='25px', width='50%'),…"
      ]
     },
     "metadata": {},
     "output_type": "display_data"
    },
    {
     "name": "stdout",
     "output_type": "stream",
     "text": [
      "True Positives: 434\n",
      "True Negatives: 5773\n",
      "False Positives: 161\n",
      "False Negatives: 109"
     ]
    }
   ],
   "source": [
    "from pyspark.sql.functions import col\n",
    "\n",
    "# Compute confusion matrix\n",
    "tp = predictions.filter((col(\"Is Laundering\") == 1) & (col(\"prediction\") == 1)).count()\n",
    "tn = predictions.filter((col(\"Is Laundering\") == 0) & (col(\"prediction\") == 0)).count()\n",
    "fp = predictions.filter((col(\"Is Laundering\") == 0) & (col(\"prediction\") == 1)).count()\n",
    "fn = predictions.filter((col(\"Is Laundering\") == 1) & (col(\"prediction\") == 0)).count()\n",
    "\n",
    "print(f\"True Positives: {tp}\")\n",
    "print(f\"True Negatives: {tn}\")\n",
    "print(f\"False Positives: {fp}\")\n",
    "print(f\"False Negatives: {fn}\")\n",
    "\n"
   ]
  },
  {
   "cell_type": "code",
   "execution_count": 100,
   "id": "c8b2780d",
   "metadata": {},
   "outputs": [
    {
     "data": {
      "application/vnd.jupyter.widget-view+json": {
       "model_id": "",
       "version_major": 2,
       "version_minor": 0
      },
      "text/plain": [
       "FloatProgress(value=0.0, bar_style='info', description='Progress:', layout=Layout(height='25px', width='50%'),…"
      ]
     },
     "metadata": {},
     "output_type": "display_data"
    },
    {
     "name": "stdout",
     "output_type": "stream",
     "text": [
      "Accuracy: 0.96"
     ]
    }
   ],
   "source": [
    "accuracy = accuracy_evaluator.evaluate(predictions)\n",
    "print(f\"Accuracy: {accuracy:.2f}\")"
   ]
  },
  {
   "cell_type": "code",
   "execution_count": null,
   "id": "a9f9c5a5",
   "metadata": {},
   "outputs": [],
   "source": []
  }
 ],
 "metadata": {
  "kernelspec": {
   "display_name": "PySpark",
   "language": "python",
   "name": "pysparkkernel"
  },
  "language_info": {
   "codemirror_mode": {
    "name": "python",
    "version": 3
   },
   "file_extension": ".py",
   "mimetype": "text/x-python",
   "name": "pyspark",
   "pygments_lexer": "python3"
  }
 },
 "nbformat": 4,
 "nbformat_minor": 5
}
