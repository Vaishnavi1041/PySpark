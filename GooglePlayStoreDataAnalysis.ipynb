{
 "cells": [
  {
   "cell_type": "code",
   "execution_count": 4,
   "id": "cac37b05-0792-4752-bab9-7dac8389e800",
   "metadata": {},
   "outputs": [],
   "source": [
    "import findspark\n",
    "findspark.init()"
   ]
  },
  {
   "cell_type": "code",
   "execution_count": 6,
   "id": "74095872-7ae5-495e-b5dc-34917b4e9796",
   "metadata": {},
   "outputs": [],
   "source": [
    "import pyspark\n",
    "from pyspark.sql.types import StructType,StructField, StringType,IntegerType\n",
    "from pyspark.sql.functions import *\n",
    "from pyspark.sql import SparkSession\n"
   ]
  },
  {
   "cell_type": "code",
   "execution_count": 7,
   "id": "471c7e81-00c8-48cc-9a27-340a5058784f",
   "metadata": {},
   "outputs": [
    {
     "data": {
      "text/html": [
       "\n",
       "            <div>\n",
       "                <p><b>SparkSession - in-memory</b></p>\n",
       "                \n",
       "        <div>\n",
       "            <p><b>SparkContext</b></p>\n",
       "\n",
       "            <p><a href=\"http://LAPTOP-TULCQNCV:4040\">Spark UI</a></p>\n",
       "\n",
       "            <dl>\n",
       "              <dt>Version</dt>\n",
       "                <dd><code>v3.5.2</code></dd>\n",
       "              <dt>Master</dt>\n",
       "                <dd><code>local[*]</code></dd>\n",
       "              <dt>AppName</dt>\n",
       "                <dd><code>Project</code></dd>\n",
       "            </dl>\n",
       "        </div>\n",
       "        \n",
       "            </div>\n",
       "        "
      ],
      "text/plain": [
       "<pyspark.sql.session.SparkSession at 0x1e3e5add930>"
      ]
     },
     "execution_count": 7,
     "metadata": {},
     "output_type": "execute_result"
    }
   ],
   "source": [
    "# Spark Session\n",
    "spark = (\n",
    "    SparkSession\n",
    "    .builder\n",
    "    .appName(\"Project\")\n",
    "    .master(\"local[*]\")\n",
    "    .getOrCreate()\n",
    ")\n",
    "\n",
    "spark"
   ]
  },
  {
   "cell_type": "code",
   "execution_count": 9,
   "id": "19b3c4bf-6d54-4039-b0ea-e7c71130e800",
   "metadata": {},
   "outputs": [],
   "source": [
    "df = spark.read.option(\"header\", True).option(\"inferSchema\", True).csv(\"C:/Users/vaishnavi/Desktop/Pyspark/Google Store Pyspark Project/googleplaystore.csv\")\n"
   ]
  },
  {
   "cell_type": "code",
   "execution_count": 15,
   "id": "f0648234-257b-4d87-ae53-3d719b2c1cfe",
   "metadata": {},
   "outputs": [
    {
     "name": "stdout",
     "output_type": "stream",
     "text": [
      "+--------------------+--------------+------+-------+----+--------+----+-----+--------------+------------+---------------+-----------+------------+\n",
      "|                 App|      Category|Rating|Reviews|Size|Installs|Type|Price|Content Rating|      Genres|   Last Updated|Current Ver| Android Ver|\n",
      "+--------------------+--------------+------+-------+----+--------+----+-----+--------------+------------+---------------+-----------+------------+\n",
      "|Photo Editor & Ca...|ART_AND_DESIGN|   4.1|    159| 19M| 10,000+|Free|    0|      Everyone|Art & Design|January 7, 2018|      1.0.0|4.0.3 and up|\n",
      "+--------------------+--------------+------+-------+----+--------+----+-----+--------------+------------+---------------+-----------+------------+\n",
      "only showing top 1 row\n",
      "\n"
     ]
    }
   ],
   "source": [
    "df.show(1)"
   ]
  },
  {
   "cell_type": "code",
   "execution_count": 14,
   "id": "89ef6081-7332-4fa8-afea-b16c052a14f3",
   "metadata": {},
   "outputs": [
    {
     "data": {
      "text/plain": [
       "10841"
      ]
     },
     "execution_count": 14,
     "metadata": {},
     "output_type": "execute_result"
    }
   ],
   "source": [
    "df.count()"
   ]
  },
  {
   "cell_type": "code",
   "execution_count": 16,
   "id": "e40cc0b4-2087-41b6-a890-b58a99637808",
   "metadata": {},
   "outputs": [
    {
     "name": "stdout",
     "output_type": "stream",
     "text": [
      "root\n",
      " |-- App: string (nullable = true)\n",
      " |-- Category: string (nullable = true)\n",
      " |-- Rating: string (nullable = true)\n",
      " |-- Reviews: string (nullable = true)\n",
      " |-- Size: string (nullable = true)\n",
      " |-- Installs: string (nullable = true)\n",
      " |-- Type: string (nullable = true)\n",
      " |-- Price: string (nullable = true)\n",
      " |-- Content Rating: string (nullable = true)\n",
      " |-- Genres: string (nullable = true)\n",
      " |-- Last Updated: string (nullable = true)\n",
      " |-- Current Ver: string (nullable = true)\n",
      " |-- Android Ver: string (nullable = true)\n",
      "\n"
     ]
    }
   ],
   "source": [
    "df.printSchema()"
   ]
  },
  {
   "cell_type": "code",
   "execution_count": 17,
   "id": "3b22b7cf-8d0b-49b5-a6ee-0fe4ab1aa7ff",
   "metadata": {},
   "outputs": [
    {
     "data": {
      "text/plain": [
       "DataFrame[summary: string, App: string, Category: string, Rating: string, Reviews: string, Size: string, Installs: string, Type: string, Price: string, Content Rating: string, Genres: string, Last Updated: string, Current Ver: string, Android Ver: string]"
      ]
     },
     "execution_count": 17,
     "metadata": {},
     "output_type": "execute_result"
    }
   ],
   "source": [
    "df.describe()"
   ]
  },
  {
   "cell_type": "code",
   "execution_count": 18,
   "id": "9e7fa84b-991d-4379-8ea1-3974f6bfe838",
   "metadata": {},
   "outputs": [],
   "source": [
    "df = df.drop(\"Size\",\"Content Rating\",\"Content Rating\",\"Android Ver\")"
   ]
  },
  {
   "cell_type": "code",
   "execution_count": 19,
   "id": "c9110756-ced8-4a5f-b702-7ebd8ca1368a",
   "metadata": {},
   "outputs": [
    {
     "name": "stdout",
     "output_type": "stream",
     "text": [
      "+--------------------+--------------+------+-------+-----------+----+-----+--------------------+----------------+------------------+\n",
      "|                 App|      Category|Rating|Reviews|   Installs|Type|Price|              Genres|    Last Updated|       Current Ver|\n",
      "+--------------------+--------------+------+-------+-----------+----+-----+--------------------+----------------+------------------+\n",
      "|Photo Editor & Ca...|ART_AND_DESIGN|   4.1|    159|    10,000+|Free|    0|        Art & Design| January 7, 2018|             1.0.0|\n",
      "| Coloring book moana|ART_AND_DESIGN|   3.9|    967|   500,000+|Free|    0|Art & Design;Pret...|January 15, 2018|             2.0.0|\n",
      "|U Launcher Lite –...|ART_AND_DESIGN|   4.7|  87510| 5,000,000+|Free|    0|        Art & Design|  August 1, 2018|             1.2.4|\n",
      "|Sketch - Draw & P...|ART_AND_DESIGN|   4.5| 215644|50,000,000+|Free|    0|        Art & Design|    June 8, 2018|Varies with device|\n",
      "|Pixel Draw - Numb...|ART_AND_DESIGN|   4.3|    967|   100,000+|Free|    0|Art & Design;Crea...|   June 20, 2018|               1.1|\n",
      "+--------------------+--------------+------+-------+-----------+----+-----+--------------------+----------------+------------------+\n",
      "only showing top 5 rows\n",
      "\n"
     ]
    }
   ],
   "source": [
    "df.show(5)"
   ]
  },
  {
   "cell_type": "code",
   "execution_count": 20,
   "id": "c9715380-e28e-4482-9d11-bfb8234afbc9",
   "metadata": {},
   "outputs": [],
   "source": [
    "df = df.drop(\"Current Ver\")"
   ]
  },
  {
   "cell_type": "code",
   "execution_count": 22,
   "id": "8238b808-9511-4057-99d4-8af56f12e020",
   "metadata": {},
   "outputs": [
    {
     "name": "stdout",
     "output_type": "stream",
     "text": [
      "+--------------------+--------------+------+-------+-----------+----+-----+--------------------+----------------+\n",
      "|                 App|      Category|Rating|Reviews|   Installs|Type|Price|              Genres|    Last Updated|\n",
      "+--------------------+--------------+------+-------+-----------+----+-----+--------------------+----------------+\n",
      "|Photo Editor & Ca...|ART_AND_DESIGN|   4.1|    159|    10,000+|Free|    0|        Art & Design| January 7, 2018|\n",
      "| Coloring book moana|ART_AND_DESIGN|   3.9|    967|   500,000+|Free|    0|Art & Design;Pret...|January 15, 2018|\n",
      "|U Launcher Lite –...|ART_AND_DESIGN|   4.7|  87510| 5,000,000+|Free|    0|        Art & Design|  August 1, 2018|\n",
      "|Sketch - Draw & P...|ART_AND_DESIGN|   4.5| 215644|50,000,000+|Free|    0|        Art & Design|    June 8, 2018|\n",
      "|Pixel Draw - Numb...|ART_AND_DESIGN|   4.3|    967|   100,000+|Free|    0|Art & Design;Crea...|   June 20, 2018|\n",
      "+--------------------+--------------+------+-------+-----------+----+-----+--------------------+----------------+\n",
      "only showing top 5 rows\n",
      "\n"
     ]
    }
   ],
   "source": [
    "df.show(5)"
   ]
  },
  {
   "cell_type": "code",
   "execution_count": 21,
   "id": "9eecb8eb-0eff-465d-9da6-af2d5e98a1c3",
   "metadata": {},
   "outputs": [
    {
     "name": "stdout",
     "output_type": "stream",
     "text": [
      "root\n",
      " |-- App: string (nullable = true)\n",
      " |-- Category: string (nullable = true)\n",
      " |-- Rating: string (nullable = true)\n",
      " |-- Reviews: string (nullable = true)\n",
      " |-- Installs: string (nullable = true)\n",
      " |-- Type: string (nullable = true)\n",
      " |-- Price: string (nullable = true)\n",
      " |-- Genres: string (nullable = true)\n",
      " |-- Last Updated: string (nullable = true)\n",
      "\n"
     ]
    }
   ],
   "source": [
    "df.printSchema()"
   ]
  },
  {
   "cell_type": "code",
   "execution_count": 32,
   "id": "81a40314-6e47-4290-88cb-e2c1c1b98293",
   "metadata": {},
   "outputs": [],
   "source": [
    "from pyspark.sql.functions import col, regexp_replace\n",
    "from pyspark.sql.types import IntegerType, FloatType"
   ]
  },
  {
   "cell_type": "code",
   "execution_count": 33,
   "id": "15c715b4-135a-4b97-b57a-6dfa40b67f69",
   "metadata": {},
   "outputs": [],
   "source": [
    "df = df.withColumn(\"Rating\", col(\"Rating\").cast(FloatType())) \\\n",
    "       .withColumn(\"Reviews\", col(\"Reviews\").cast(IntegerType())) \\\n",
    "       .withColumn(\"Installs\", regexp_replace(col(\"Installs\"), \"[^0-9]\", \"\")) \\\n",
    "       .withColumn(\"Installs\", col(\"Installs\").cast(IntegerType())) \\\n",
    "       .withColumn(\"Price\", regexp_replace(col(\"Price\"), \"[$]\", \"\")) \\\n",
    "       .withColumn(\"Price\", col(\"Price\").cast(FloatType()))"
   ]
  },
  {
   "cell_type": "code",
   "execution_count": 34,
   "id": "8c468379-5cd1-423d-bded-4cd8b516628d",
   "metadata": {},
   "outputs": [
    {
     "name": "stdout",
     "output_type": "stream",
     "text": [
      "+--------------------+--------------+------+-------+--------+----+-----+--------------------+------------------+\n",
      "|                 App|      Category|Rating|Reviews|Installs|Type|Price|              Genres|      Last Updated|\n",
      "+--------------------+--------------+------+-------+--------+----+-----+--------------------+------------------+\n",
      "|Photo Editor & Ca...|ART_AND_DESIGN|   4.1|    159|   10000|Free|  0.0|        Art & Design|   January 7, 2018|\n",
      "| Coloring book moana|ART_AND_DESIGN|   3.9|    967|  500000|Free|  0.0|Art & Design;Pret...|  January 15, 2018|\n",
      "|U Launcher Lite –...|ART_AND_DESIGN|   4.7|  87510| 5000000|Free|  0.0|        Art & Design|    August 1, 2018|\n",
      "|Sketch - Draw & P...|ART_AND_DESIGN|   4.5| 215644|50000000|Free|  0.0|        Art & Design|      June 8, 2018|\n",
      "|Pixel Draw - Numb...|ART_AND_DESIGN|   4.3|    967|  100000|Free|  0.0|Art & Design;Crea...|     June 20, 2018|\n",
      "|Paper flowers ins...|ART_AND_DESIGN|   4.4|    167|   50000|Free|  0.0|        Art & Design|    March 26, 2017|\n",
      "|Smoke Effect Phot...|ART_AND_DESIGN|   3.8|    178|   50000|Free|  0.0|        Art & Design|    April 26, 2018|\n",
      "|    Infinite Painter|ART_AND_DESIGN|   4.1|  36815| 1000000|Free|  0.0|        Art & Design|     June 14, 2018|\n",
      "|Garden Coloring Book|ART_AND_DESIGN|   4.4|  13791| 1000000|Free|  0.0|        Art & Design|September 20, 2017|\n",
      "|Kids Paint Free -...|ART_AND_DESIGN|   4.7|    121|   10000|Free|  0.0|Art & Design;Crea...|      July 3, 2018|\n",
      "|Text on Photo - F...|ART_AND_DESIGN|   4.4|  13880| 1000000|Free|  0.0|        Art & Design|  October 27, 2017|\n",
      "|Name Art Photo Ed...|ART_AND_DESIGN|   4.4|   8788| 1000000|Free|  0.0|        Art & Design|     July 31, 2018|\n",
      "|Tattoo Name On My...|ART_AND_DESIGN|   4.2|  44829|10000000|Free|  0.0|        Art & Design|     April 2, 2018|\n",
      "|Mandala Coloring ...|ART_AND_DESIGN|   4.6|   4326|  100000|Free|  0.0|        Art & Design|     June 26, 2018|\n",
      "|3D Color Pixel by...|ART_AND_DESIGN|   4.4|   1518|  100000|Free|  0.0|        Art & Design|    August 3, 2018|\n",
      "|Learn To Draw Kaw...|ART_AND_DESIGN|   3.2|     55|    5000|Free|  0.0|        Art & Design|      June 6, 2018|\n",
      "|Photo Designer - ...|ART_AND_DESIGN|   4.7|   3632|  500000|Free|  0.0|        Art & Design|     July 31, 2018|\n",
      "|350 Diy Room Deco...|ART_AND_DESIGN|   4.5|     27|   10000|Free|  0.0|        Art & Design|  November 7, 2017|\n",
      "|FlipaClip - Carto...|ART_AND_DESIGN|   4.3| 194216| 5000000|Free|  0.0|        Art & Design|    August 3, 2018|\n",
      "|        ibis Paint X|ART_AND_DESIGN|   4.6| 224399|10000000|Free|  0.0|        Art & Design|     July 30, 2018|\n",
      "+--------------------+--------------+------+-------+--------+----+-----+--------------------+------------------+\n",
      "only showing top 20 rows\n",
      "\n"
     ]
    }
   ],
   "source": [
    "df.show()"
   ]
  },
  {
   "cell_type": "code",
   "execution_count": 40,
   "id": "c6cd0b61-8bb6-47d6-8a79-c3d6d068001d",
   "metadata": {},
   "outputs": [],
   "source": [
    "df.createOrReplaceTempView(\"Gdata\")"
   ]
  },
  {
   "cell_type": "code",
   "execution_count": 46,
   "id": "741975c0-c67c-4b51-a449-2ad09675dfb5",
   "metadata": {},
   "outputs": [
    {
     "name": "stdout",
     "output_type": "stream",
     "text": [
      "+--------------------+--------------+------+-------+--------+----+-----+--------------------+------------------+\n",
      "|                 App|      Category|Rating|Reviews|Installs|Type|Price|              Genres|      Last Updated|\n",
      "+--------------------+--------------+------+-------+--------+----+-----+--------------------+------------------+\n",
      "|Photo Editor & Ca...|ART_AND_DESIGN|   4.1|    159|   10000|Free|  0.0|        Art & Design|   January 7, 2018|\n",
      "| Coloring book moana|ART_AND_DESIGN|   3.9|    967|  500000|Free|  0.0|Art & Design;Pret...|  January 15, 2018|\n",
      "|U Launcher Lite –...|ART_AND_DESIGN|   4.7|  87510| 5000000|Free|  0.0|        Art & Design|    August 1, 2018|\n",
      "|Sketch - Draw & P...|ART_AND_DESIGN|   4.5| 215644|50000000|Free|  0.0|        Art & Design|      June 8, 2018|\n",
      "|Pixel Draw - Numb...|ART_AND_DESIGN|   4.3|    967|  100000|Free|  0.0|Art & Design;Crea...|     June 20, 2018|\n",
      "|Paper flowers ins...|ART_AND_DESIGN|   4.4|    167|   50000|Free|  0.0|        Art & Design|    March 26, 2017|\n",
      "|Smoke Effect Phot...|ART_AND_DESIGN|   3.8|    178|   50000|Free|  0.0|        Art & Design|    April 26, 2018|\n",
      "|    Infinite Painter|ART_AND_DESIGN|   4.1|  36815| 1000000|Free|  0.0|        Art & Design|     June 14, 2018|\n",
      "|Garden Coloring Book|ART_AND_DESIGN|   4.4|  13791| 1000000|Free|  0.0|        Art & Design|September 20, 2017|\n",
      "|Kids Paint Free -...|ART_AND_DESIGN|   4.7|    121|   10000|Free|  0.0|Art & Design;Crea...|      July 3, 2018|\n",
      "|Text on Photo - F...|ART_AND_DESIGN|   4.4|  13880| 1000000|Free|  0.0|        Art & Design|  October 27, 2017|\n",
      "|Name Art Photo Ed...|ART_AND_DESIGN|   4.4|   8788| 1000000|Free|  0.0|        Art & Design|     July 31, 2018|\n",
      "|Tattoo Name On My...|ART_AND_DESIGN|   4.2|  44829|10000000|Free|  0.0|        Art & Design|     April 2, 2018|\n",
      "|Mandala Coloring ...|ART_AND_DESIGN|   4.6|   4326|  100000|Free|  0.0|        Art & Design|     June 26, 2018|\n",
      "|3D Color Pixel by...|ART_AND_DESIGN|   4.4|   1518|  100000|Free|  0.0|        Art & Design|    August 3, 2018|\n",
      "|Learn To Draw Kaw...|ART_AND_DESIGN|   3.2|     55|    5000|Free|  0.0|        Art & Design|      June 6, 2018|\n",
      "|Photo Designer - ...|ART_AND_DESIGN|   4.7|   3632|  500000|Free|  0.0|        Art & Design|     July 31, 2018|\n",
      "|350 Diy Room Deco...|ART_AND_DESIGN|   4.5|     27|   10000|Free|  0.0|        Art & Design|  November 7, 2017|\n",
      "|FlipaClip - Carto...|ART_AND_DESIGN|   4.3| 194216| 5000000|Free|  0.0|        Art & Design|    August 3, 2018|\n",
      "|        ibis Paint X|ART_AND_DESIGN|   4.6| 224399|10000000|Free|  0.0|        Art & Design|     July 30, 2018|\n",
      "+--------------------+--------------+------+-------+--------+----+-----+--------------------+------------------+\n",
      "only showing top 20 rows\n",
      "\n"
     ]
    }
   ],
   "source": [
    "spark.sql(\"SELECT * FROM Gdata\").show()"
   ]
  },
  {
   "cell_type": "code",
   "execution_count": 48,
   "id": "348f6112-d2c5-4c47-bbab-feb2baa525ba",
   "metadata": {},
   "outputs": [
    {
     "name": "stdout",
     "output_type": "stream",
     "text": [
      "+--------------------+---------+\n",
      "|                 App|    Count|\n",
      "+--------------------+---------+\n",
      "|           Instagram|266241989|\n",
      "|  WhatsApp Messenger|207348304|\n",
      "|      Clash of Clans|179558781|\n",
      "|Messenger – Text ...|169932272|\n",
      "|      Subway Surfers|166331958|\n",
      "|    Candy Crush Saga|156993136|\n",
      "|            Facebook|156286514|\n",
      "|         8 Ball Pool| 99386198|\n",
      "|        Clash Royale| 92530298|\n",
      "|            Snapchat| 68045010|\n",
      "+--------------------+---------+\n",
      "\n"
     ]
    }
   ],
   "source": [
    "#TOP Reviews given to apps\n",
    "spark.sql(\"select App , sum(Reviews) as Count from Gdata group by App order by count desc limit 10\").show()"
   ]
  },
  {
   "cell_type": "code",
   "execution_count": 51,
   "id": "63cbdc32-9faf-48fe-a10b-fd036f239a62",
   "metadata": {},
   "outputs": [
    {
     "name": "stdout",
     "output_type": "stream",
     "text": [
      "+--------------------+----+----------+\n",
      "|                 App|Type|     Count|\n",
      "+--------------------+----+----------+\n",
      "|      Subway Surfers|Free|6000000000|\n",
      "|           Instagram|Free|4000000000|\n",
      "|        Google Drive|Free|4000000000|\n",
      "|            Hangouts|Free|4000000000|\n",
      "|       Google Photos|Free|4000000000|\n",
      "|         Google News|Free|4000000000|\n",
      "|    Candy Crush Saga|Free|3500000000|\n",
      "|  WhatsApp Messenger|Free|3000000000|\n",
      "|               Gmail|Free|3000000000|\n",
      "|        Temple Run 2|Free|3000000000|\n",
      "|Skype - free IM &...|Free|3000000000|\n",
      "|Google Chrome: Fa...|Free|3000000000|\n",
      "|Messenger – Text ...|Free|3000000000|\n",
      "|Maps - Navigate &...|Free|3000000000|\n",
      "|     Viber Messenger|Free|2500000000|\n",
      "|   Google Play Games|Free|2000000000|\n",
      "|            Facebook|Free|2000000000|\n",
      "|            Snapchat|Free|2000000000|\n",
      "|imo free video ca...|Free|2000000000|\n",
      "|  Google Street View|Free|2000000000|\n",
      "+--------------------+----+----------+\n",
      "only showing top 20 rows\n",
      "\n"
     ]
    }
   ],
   "source": [
    "#Top 10 Install Apps\n",
    "spark.sql(\"select App,Type , sum(Installs)as Count from Gdata group by App,Type order by Count desc \").show()"
   ]
  },
  {
   "cell_type": "code",
   "execution_count": 52,
   "id": "f1f06ec8-1db1-4804-bdfe-ffd2ae1093c7",
   "metadata": {},
   "outputs": [
    {
     "name": "stdout",
     "output_type": "stream",
     "text": [
      "+-------------------+-----------+\n",
      "|           Category|      Count|\n",
      "+-------------------+-----------+\n",
      "|               GAME|35086024415|\n",
      "|      COMMUNICATION|32647276251|\n",
      "|       PRODUCTIVITY|14176091369|\n",
      "|             SOCIAL|14069867902|\n",
      "|              TOOLS|11452771915|\n",
      "|             FAMILY|10258263505|\n",
      "|        PHOTOGRAPHY|10088247655|\n",
      "| NEWS_AND_MAGAZINES| 7496317760|\n",
      "|   TRAVEL_AND_LOCAL| 6868887146|\n",
      "|      VIDEO_PLAYERS| 6222002720|\n",
      "|           SHOPPING| 3247848785|\n",
      "|      ENTERTAINMENT| 2869160000|\n",
      "|    PERSONALIZATION| 2325494782|\n",
      "|BOOKS_AND_REFERENCE| 1921469576|\n",
      "|             SPORTS| 1751174498|\n",
      "| HEALTH_AND_FITNESS| 1582072512|\n",
      "|           BUSINESS| 1001914865|\n",
      "|            FINANCE|  876648734|\n",
      "|          EDUCATION|  871452000|\n",
      "|MAPS_AND_NAVIGATION|  719281890|\n",
      "+-------------------+-----------+\n",
      "only showing top 20 rows\n",
      "\n"
     ]
    }
   ],
   "source": [
    "#Category wise Distribution\n",
    "spark.sql(\"select Category, sum(Installs)as Count from Gdata group by Category order by Count desc \").show()"
   ]
  },
  {
   "cell_type": "code",
   "execution_count": 57,
   "id": "02924b47-338c-407a-87ef-991772f07e02",
   "metadata": {},
   "outputs": [
    {
     "name": "stdout",
     "output_type": "stream",
     "text": [
      "+--------------------+------------------+\n",
      "|                 App|             Price|\n",
      "+--------------------+------------------+\n",
      "|I'm Rich - Trump ...|             400.0|\n",
      "|  I AM RICH PRO PLUS|  399.989990234375|\n",
      "|   I Am Rich Premium|  399.989990234375|\n",
      "|      I am Rich Plus|  399.989990234375|\n",
      "|I'm Rich/Eu sou R...|  399.989990234375|\n",
      "|most expensive ap...|  399.989990234375|\n",
      "|       I Am Rich Pro|  399.989990234375|\n",
      "|  I am rich(premium)|  399.989990234375|\n",
      "|           I am Rich|  399.989990234375|\n",
      "|          I am Rich!|  399.989990234375|\n",
      "|         💎 I'm rich|  399.989990234375|\n",
      "|I am rich (Most e...|  399.989990234375|\n",
      "|           I am rich|  399.989990234375|\n",
      "|         Eu Sou Rico|  394.989990234375|\n",
      "|           I Am Rich|  389.989990234375|\n",
      "| I am extremely Rich|  379.989990234375|\n",
      "|       I am rich VIP|  299.989990234375|\n",
      "|        EP Cook Book|             200.0|\n",
      "|Vargo Anesthesia ...|159.97999572753906|\n",
      "|       cronometra-br|154.99000549316406|\n",
      "+--------------------+------------------+\n",
      "only showing top 20 rows\n",
      "\n"
     ]
    }
   ],
   "source": [
    "#Top Paid Apps\n",
    "spark.sql(\"select App,sum(Price) as Price from Gdata where type='Paid' group by App order by Price desc\").show()"
   ]
  },
  {
   "cell_type": "code",
   "execution_count": null,
   "id": "b2aed2d0-eadd-490e-92a3-df6cccc312d6",
   "metadata": {},
   "outputs": [],
   "source": []
  }
 ],
 "metadata": {
  "kernelspec": {
   "display_name": "Python 3 (ipykernel)",
   "language": "python",
   "name": "python3"
  },
  "language_info": {
   "codemirror_mode": {
    "name": "ipython",
    "version": 3
   },
   "file_extension": ".py",
   "mimetype": "text/x-python",
   "name": "python",
   "nbconvert_exporter": "python",
   "pygments_lexer": "ipython3",
   "version": "3.10.9"
  }
 },
 "nbformat": 4,
 "nbformat_minor": 5
}
